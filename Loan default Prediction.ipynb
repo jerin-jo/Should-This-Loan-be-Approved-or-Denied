{
 "cells": [
  {
   "cell_type": "markdown",
   "metadata": {
    "id": "n7vK0WJuQHGI"
   },
   "source": [
    "#                      Should this loan be approved or not? "
   ]
  },
  {
   "cell_type": "markdown",
   "metadata": {
    "id": "2KOvIb_rIpkC"
   },
   "source": [
    "<h2>Data Preprocessing and Exploration</h2>"
   ]
  },
  {
   "cell_type": "code",
   "execution_count": 1,
   "metadata": {
    "id": "wz0612SJIpkD"
   },
   "outputs": [],
   "source": [
    "import pandas as pd\n",
    "import numpy as np\n",
    "import seaborn as sns\n",
    "import datetime\n",
    "import matplotlib as mpl\n",
    "import matplotlib.pyplot as plt\n",
    "from mpl_toolkits.mplot3d import Axes3D\n",
    "from sklearn.preprocessing import StandardScaler  "
   ]
  },
  {
   "cell_type": "code",
   "execution_count": 2,
   "metadata": {
    "id": "I3tJTb9_IpkG"
   },
   "outputs": [],
   "source": [
    "from IPython.core.interactiveshell import InteractiveShell\n",
    "InteractiveShell.ast_node_interactivity = \"all\"  "
   ]
  },
  {
   "cell_type": "code",
   "execution_count": 3,
   "metadata": {
    "colab": {
     "base_uri": "https://localhost:8080/"
    },
    "id": "AsECIYVOIpkI",
    "outputId": "5ccd5540-a916-42fb-d20b-e8626fc43fad"
   },
   "outputs": [
    {
     "name": "stderr",
     "output_type": "stream",
     "text": [
      "/opt/anaconda3/lib/python3.7/site-packages/IPython/core/interactiveshell.py:3063: DtypeWarning: Columns (9) have mixed types.Specify dtype option on import or set low_memory=False.\n",
      "  interactivity=interactivity, compiler=compiler, result=result)\n"
     ]
    },
    {
     "name": "stdout",
     "output_type": "stream",
     "text": [
      "<class 'pandas.core.frame.DataFrame'>\n"
     ]
    }
   ],
   "source": [
    "df = pd.read_csv('SBAnational.csv', sep=',')\n",
    "credit = df.copy()\n",
    "print(type(credit))"
   ]
  },
  {
   "cell_type": "code",
   "execution_count": 4,
   "metadata": {
    "colab": {
     "base_uri": "https://localhost:8080/",
     "height": 1000
    },
    "id": "CF7M20U8IpkM",
    "outputId": "d3a42b2c-79ff-4170-83d1-bbfc6bc080de"
   },
   "outputs": [
    {
     "data": {
      "text/html": [
       "<div>\n",
       "<style scoped>\n",
       "    .dataframe tbody tr th:only-of-type {\n",
       "        vertical-align: middle;\n",
       "    }\n",
       "\n",
       "    .dataframe tbody tr th {\n",
       "        vertical-align: top;\n",
       "    }\n",
       "\n",
       "    .dataframe thead th {\n",
       "        text-align: right;\n",
       "    }\n",
       "</style>\n",
       "<table border=\"1\" class=\"dataframe\">\n",
       "  <thead>\n",
       "    <tr style=\"text-align: right;\">\n",
       "      <th></th>\n",
       "      <th>LoanNr_ChkDgt</th>\n",
       "      <th>Name</th>\n",
       "      <th>City</th>\n",
       "      <th>State</th>\n",
       "      <th>Zip</th>\n",
       "      <th>Bank</th>\n",
       "      <th>BankState</th>\n",
       "      <th>NAICS</th>\n",
       "      <th>ApprovalDate</th>\n",
       "      <th>ApprovalFY</th>\n",
       "      <th>...</th>\n",
       "      <th>RevLineCr</th>\n",
       "      <th>LowDoc</th>\n",
       "      <th>ChgOffDate</th>\n",
       "      <th>DisbursementDate</th>\n",
       "      <th>DisbursementGross</th>\n",
       "      <th>BalanceGross</th>\n",
       "      <th>MIS_Status</th>\n",
       "      <th>ChgOffPrinGr</th>\n",
       "      <th>GrAppv</th>\n",
       "      <th>SBA_Appv</th>\n",
       "    </tr>\n",
       "  </thead>\n",
       "  <tbody>\n",
       "    <tr>\n",
       "      <th>0</th>\n",
       "      <td>1000014003</td>\n",
       "      <td>ABC HOBBYCRAFT</td>\n",
       "      <td>EVANSVILLE</td>\n",
       "      <td>IN</td>\n",
       "      <td>47711</td>\n",
       "      <td>FIFTH THIRD BANK</td>\n",
       "      <td>OH</td>\n",
       "      <td>451120</td>\n",
       "      <td>28-Feb-97</td>\n",
       "      <td>1997</td>\n",
       "      <td>...</td>\n",
       "      <td>N</td>\n",
       "      <td>Y</td>\n",
       "      <td>NaN</td>\n",
       "      <td>28-Feb-99</td>\n",
       "      <td>$60,000.00</td>\n",
       "      <td>$0.00</td>\n",
       "      <td>P I F</td>\n",
       "      <td>$0.00</td>\n",
       "      <td>$60,000.00</td>\n",
       "      <td>$48,000.00</td>\n",
       "    </tr>\n",
       "    <tr>\n",
       "      <th>1</th>\n",
       "      <td>1000024006</td>\n",
       "      <td>LANDMARK BAR &amp; GRILLE (THE)</td>\n",
       "      <td>NEW PARIS</td>\n",
       "      <td>IN</td>\n",
       "      <td>46526</td>\n",
       "      <td>1ST SOURCE BANK</td>\n",
       "      <td>IN</td>\n",
       "      <td>722410</td>\n",
       "      <td>28-Feb-97</td>\n",
       "      <td>1997</td>\n",
       "      <td>...</td>\n",
       "      <td>N</td>\n",
       "      <td>Y</td>\n",
       "      <td>NaN</td>\n",
       "      <td>31-May-97</td>\n",
       "      <td>$40,000.00</td>\n",
       "      <td>$0.00</td>\n",
       "      <td>P I F</td>\n",
       "      <td>$0.00</td>\n",
       "      <td>$40,000.00</td>\n",
       "      <td>$32,000.00</td>\n",
       "    </tr>\n",
       "    <tr>\n",
       "      <th>2</th>\n",
       "      <td>1000034009</td>\n",
       "      <td>WHITLOCK DDS, TODD M.</td>\n",
       "      <td>BLOOMINGTON</td>\n",
       "      <td>IN</td>\n",
       "      <td>47401</td>\n",
       "      <td>GRANT COUNTY STATE BANK</td>\n",
       "      <td>IN</td>\n",
       "      <td>621210</td>\n",
       "      <td>28-Feb-97</td>\n",
       "      <td>1997</td>\n",
       "      <td>...</td>\n",
       "      <td>N</td>\n",
       "      <td>N</td>\n",
       "      <td>NaN</td>\n",
       "      <td>31-Dec-97</td>\n",
       "      <td>$287,000.00</td>\n",
       "      <td>$0.00</td>\n",
       "      <td>P I F</td>\n",
       "      <td>$0.00</td>\n",
       "      <td>$287,000.00</td>\n",
       "      <td>$215,250.00</td>\n",
       "    </tr>\n",
       "    <tr>\n",
       "      <th>3</th>\n",
       "      <td>1000044001</td>\n",
       "      <td>BIG BUCKS PAWN &amp; JEWELRY, LLC</td>\n",
       "      <td>BROKEN ARROW</td>\n",
       "      <td>OK</td>\n",
       "      <td>74012</td>\n",
       "      <td>1ST NATL BK &amp; TR CO OF BROKEN</td>\n",
       "      <td>OK</td>\n",
       "      <td>0</td>\n",
       "      <td>28-Feb-97</td>\n",
       "      <td>1997</td>\n",
       "      <td>...</td>\n",
       "      <td>N</td>\n",
       "      <td>Y</td>\n",
       "      <td>NaN</td>\n",
       "      <td>30-Jun-97</td>\n",
       "      <td>$35,000.00</td>\n",
       "      <td>$0.00</td>\n",
       "      <td>P I F</td>\n",
       "      <td>$0.00</td>\n",
       "      <td>$35,000.00</td>\n",
       "      <td>$28,000.00</td>\n",
       "    </tr>\n",
       "    <tr>\n",
       "      <th>4</th>\n",
       "      <td>1000054004</td>\n",
       "      <td>ANASTASIA CONFECTIONS, INC.</td>\n",
       "      <td>ORLANDO</td>\n",
       "      <td>FL</td>\n",
       "      <td>32801</td>\n",
       "      <td>FLORIDA BUS. DEVEL CORP</td>\n",
       "      <td>FL</td>\n",
       "      <td>0</td>\n",
       "      <td>28-Feb-97</td>\n",
       "      <td>1997</td>\n",
       "      <td>...</td>\n",
       "      <td>N</td>\n",
       "      <td>N</td>\n",
       "      <td>NaN</td>\n",
       "      <td>14-May-97</td>\n",
       "      <td>$229,000.00</td>\n",
       "      <td>$0.00</td>\n",
       "      <td>P I F</td>\n",
       "      <td>$0.00</td>\n",
       "      <td>$229,000.00</td>\n",
       "      <td>$229,000.00</td>\n",
       "    </tr>\n",
       "    <tr>\n",
       "      <th>5</th>\n",
       "      <td>1000084002</td>\n",
       "      <td>B&amp;T SCREW MACHINE COMPANY, INC</td>\n",
       "      <td>PLAINVILLE</td>\n",
       "      <td>CT</td>\n",
       "      <td>6062</td>\n",
       "      <td>TD BANK, NATIONAL ASSOCIATION</td>\n",
       "      <td>DE</td>\n",
       "      <td>332721</td>\n",
       "      <td>28-Feb-97</td>\n",
       "      <td>1997</td>\n",
       "      <td>...</td>\n",
       "      <td>N</td>\n",
       "      <td>N</td>\n",
       "      <td>NaN</td>\n",
       "      <td>30-Jun-97</td>\n",
       "      <td>$517,000.00</td>\n",
       "      <td>$0.00</td>\n",
       "      <td>P I F</td>\n",
       "      <td>$0.00</td>\n",
       "      <td>$517,000.00</td>\n",
       "      <td>$387,750.00</td>\n",
       "    </tr>\n",
       "    <tr>\n",
       "      <th>6</th>\n",
       "      <td>1000093009</td>\n",
       "      <td>MIDDLE ATLANTIC SPORTS CO INC</td>\n",
       "      <td>UNION</td>\n",
       "      <td>NJ</td>\n",
       "      <td>7083</td>\n",
       "      <td>WELLS FARGO BANK NATL ASSOC</td>\n",
       "      <td>SD</td>\n",
       "      <td>0</td>\n",
       "      <td>2-Jun-80</td>\n",
       "      <td>1980</td>\n",
       "      <td>...</td>\n",
       "      <td>N</td>\n",
       "      <td>N</td>\n",
       "      <td>24-Jun-91</td>\n",
       "      <td>22-Jul-80</td>\n",
       "      <td>$600,000.00</td>\n",
       "      <td>$0.00</td>\n",
       "      <td>CHGOFF</td>\n",
       "      <td>$208,959.00</td>\n",
       "      <td>$600,000.00</td>\n",
       "      <td>$499,998.00</td>\n",
       "    </tr>\n",
       "    <tr>\n",
       "      <th>7</th>\n",
       "      <td>1000094005</td>\n",
       "      <td>WEAVER PRODUCTS</td>\n",
       "      <td>SUMMERFIELD</td>\n",
       "      <td>FL</td>\n",
       "      <td>34491</td>\n",
       "      <td>REGIONS BANK</td>\n",
       "      <td>AL</td>\n",
       "      <td>811118</td>\n",
       "      <td>28-Feb-97</td>\n",
       "      <td>1997</td>\n",
       "      <td>...</td>\n",
       "      <td>N</td>\n",
       "      <td>Y</td>\n",
       "      <td>NaN</td>\n",
       "      <td>30-Jun-98</td>\n",
       "      <td>$45,000.00</td>\n",
       "      <td>$0.00</td>\n",
       "      <td>P I F</td>\n",
       "      <td>$0.00</td>\n",
       "      <td>$45,000.00</td>\n",
       "      <td>$36,000.00</td>\n",
       "    </tr>\n",
       "    <tr>\n",
       "      <th>8</th>\n",
       "      <td>1000104006</td>\n",
       "      <td>TURTLE BEACH INN</td>\n",
       "      <td>PORT SAINT JOE</td>\n",
       "      <td>FL</td>\n",
       "      <td>32456</td>\n",
       "      <td>CENTENNIAL BANK</td>\n",
       "      <td>FL</td>\n",
       "      <td>721310</td>\n",
       "      <td>28-Feb-97</td>\n",
       "      <td>1997</td>\n",
       "      <td>...</td>\n",
       "      <td>N</td>\n",
       "      <td>N</td>\n",
       "      <td>NaN</td>\n",
       "      <td>31-Jul-97</td>\n",
       "      <td>$305,000.00</td>\n",
       "      <td>$0.00</td>\n",
       "      <td>P I F</td>\n",
       "      <td>$0.00</td>\n",
       "      <td>$305,000.00</td>\n",
       "      <td>$228,750.00</td>\n",
       "    </tr>\n",
       "    <tr>\n",
       "      <th>9</th>\n",
       "      <td>1000124001</td>\n",
       "      <td>INTEXT BUILDING SYS LLC</td>\n",
       "      <td>GLASTONBURY</td>\n",
       "      <td>CT</td>\n",
       "      <td>6073</td>\n",
       "      <td>WEBSTER BANK NATL ASSOC</td>\n",
       "      <td>CT</td>\n",
       "      <td>0</td>\n",
       "      <td>28-Feb-97</td>\n",
       "      <td>1997</td>\n",
       "      <td>...</td>\n",
       "      <td>N</td>\n",
       "      <td>Y</td>\n",
       "      <td>NaN</td>\n",
       "      <td>30-Apr-97</td>\n",
       "      <td>$70,000.00</td>\n",
       "      <td>$0.00</td>\n",
       "      <td>P I F</td>\n",
       "      <td>$0.00</td>\n",
       "      <td>$70,000.00</td>\n",
       "      <td>$56,000.00</td>\n",
       "    </tr>\n",
       "    <tr>\n",
       "      <th>10</th>\n",
       "      <td>1000134004</td>\n",
       "      <td>COMMERCIAL TRUCKING MAINTENANC</td>\n",
       "      <td>CHARLOTTE</td>\n",
       "      <td>NC</td>\n",
       "      <td>28256</td>\n",
       "      <td>SUNTRUST BANK</td>\n",
       "      <td>GA</td>\n",
       "      <td>811111</td>\n",
       "      <td>28-Feb-97</td>\n",
       "      <td>1997</td>\n",
       "      <td>...</td>\n",
       "      <td>N</td>\n",
       "      <td>Y</td>\n",
       "      <td>NaN</td>\n",
       "      <td>23-Feb-98</td>\n",
       "      <td>$70,000.00</td>\n",
       "      <td>$0.00</td>\n",
       "      <td>P I F</td>\n",
       "      <td>$0.00</td>\n",
       "      <td>$70,000.00</td>\n",
       "      <td>$56,000.00</td>\n",
       "    </tr>\n",
       "    <tr>\n",
       "      <th>11</th>\n",
       "      <td>1000144007</td>\n",
       "      <td>PROFESSIONAL ELEVATOR SERVICES</td>\n",
       "      <td>CHICAGO</td>\n",
       "      <td>IL</td>\n",
       "      <td>60605</td>\n",
       "      <td>BANK OF AMERICA NATL ASSOC</td>\n",
       "      <td>OR</td>\n",
       "      <td>235950</td>\n",
       "      <td>28-Feb-97</td>\n",
       "      <td>1997</td>\n",
       "      <td>...</td>\n",
       "      <td>N</td>\n",
       "      <td>N</td>\n",
       "      <td>NaN</td>\n",
       "      <td>30-Nov-97</td>\n",
       "      <td>$150,000.00</td>\n",
       "      <td>$0.00</td>\n",
       "      <td>P I F</td>\n",
       "      <td>$0.00</td>\n",
       "      <td>$300,000.00</td>\n",
       "      <td>$225,000.00</td>\n",
       "    </tr>\n",
       "    <tr>\n",
       "      <th>12</th>\n",
       "      <td>1000146010</td>\n",
       "      <td>CARVEL</td>\n",
       "      <td>APEX</td>\n",
       "      <td>NC</td>\n",
       "      <td>27502</td>\n",
       "      <td>STEARNS BK NATL ASSOC</td>\n",
       "      <td>MN</td>\n",
       "      <td>445299</td>\n",
       "      <td>7-Feb-06</td>\n",
       "      <td>2006</td>\n",
       "      <td>...</td>\n",
       "      <td>N</td>\n",
       "      <td>N</td>\n",
       "      <td>NaN</td>\n",
       "      <td>31-Mar-06</td>\n",
       "      <td>$253,400.00</td>\n",
       "      <td>$0.00</td>\n",
       "      <td>P I F</td>\n",
       "      <td>$0.00</td>\n",
       "      <td>$253,400.00</td>\n",
       "      <td>$190,050.00</td>\n",
       "    </tr>\n",
       "    <tr>\n",
       "      <th>13</th>\n",
       "      <td>1000154010</td>\n",
       "      <td>ORCHARD CAFE &amp; BAKERY, INC.</td>\n",
       "      <td>SLATERSVILLE</td>\n",
       "      <td>RI</td>\n",
       "      <td>2876</td>\n",
       "      <td>CITIZENS BANK NATL ASSOC</td>\n",
       "      <td>RI</td>\n",
       "      <td>0</td>\n",
       "      <td>28-Feb-97</td>\n",
       "      <td>1997</td>\n",
       "      <td>...</td>\n",
       "      <td>N</td>\n",
       "      <td>N</td>\n",
       "      <td>NaN</td>\n",
       "      <td>31-May-97</td>\n",
       "      <td>$370,000.00</td>\n",
       "      <td>$0.00</td>\n",
       "      <td>P I F</td>\n",
       "      <td>$0.00</td>\n",
       "      <td>$370,000.00</td>\n",
       "      <td>$277,500.00</td>\n",
       "    </tr>\n",
       "    <tr>\n",
       "      <th>14</th>\n",
       "      <td>1000214004</td>\n",
       "      <td>EBC INVESTMENTS LLC</td>\n",
       "      <td>WINSTON-SALEM</td>\n",
       "      <td>NC</td>\n",
       "      <td>27106</td>\n",
       "      <td>NORTHWEST PIEDMONT DEVEL CORPO</td>\n",
       "      <td>NC</td>\n",
       "      <td>0</td>\n",
       "      <td>28-Feb-97</td>\n",
       "      <td>1997</td>\n",
       "      <td>...</td>\n",
       "      <td>N</td>\n",
       "      <td>N</td>\n",
       "      <td>NaN</td>\n",
       "      <td>17-Dec-97</td>\n",
       "      <td>$225,000.00</td>\n",
       "      <td>$0.00</td>\n",
       "      <td>P I F</td>\n",
       "      <td>$0.00</td>\n",
       "      <td>$225,000.00</td>\n",
       "      <td>$225,000.00</td>\n",
       "    </tr>\n",
       "  </tbody>\n",
       "</table>\n",
       "<p>15 rows × 27 columns</p>\n",
       "</div>"
      ],
      "text/plain": [
       "    LoanNr_ChkDgt                            Name            City State  \\\n",
       "0      1000014003                  ABC HOBBYCRAFT      EVANSVILLE    IN   \n",
       "1      1000024006     LANDMARK BAR & GRILLE (THE)       NEW PARIS    IN   \n",
       "2      1000034009           WHITLOCK DDS, TODD M.     BLOOMINGTON    IN   \n",
       "3      1000044001   BIG BUCKS PAWN & JEWELRY, LLC    BROKEN ARROW    OK   \n",
       "4      1000054004     ANASTASIA CONFECTIONS, INC.         ORLANDO    FL   \n",
       "5      1000084002  B&T SCREW MACHINE COMPANY, INC      PLAINVILLE    CT   \n",
       "6      1000093009   MIDDLE ATLANTIC SPORTS CO INC           UNION    NJ   \n",
       "7      1000094005                 WEAVER PRODUCTS     SUMMERFIELD    FL   \n",
       "8      1000104006                TURTLE BEACH INN  PORT SAINT JOE    FL   \n",
       "9      1000124001         INTEXT BUILDING SYS LLC     GLASTONBURY    CT   \n",
       "10     1000134004  COMMERCIAL TRUCKING MAINTENANC       CHARLOTTE    NC   \n",
       "11     1000144007  PROFESSIONAL ELEVATOR SERVICES         CHICAGO    IL   \n",
       "12     1000146010                          CARVEL            APEX    NC   \n",
       "13     1000154010     ORCHARD CAFE & BAKERY, INC.    SLATERSVILLE    RI   \n",
       "14     1000214004             EBC INVESTMENTS LLC   WINSTON-SALEM    NC   \n",
       "\n",
       "      Zip                            Bank BankState   NAICS ApprovalDate  \\\n",
       "0   47711                FIFTH THIRD BANK        OH  451120    28-Feb-97   \n",
       "1   46526                 1ST SOURCE BANK        IN  722410    28-Feb-97   \n",
       "2   47401         GRANT COUNTY STATE BANK        IN  621210    28-Feb-97   \n",
       "3   74012   1ST NATL BK & TR CO OF BROKEN        OK       0    28-Feb-97   \n",
       "4   32801         FLORIDA BUS. DEVEL CORP        FL       0    28-Feb-97   \n",
       "5    6062   TD BANK, NATIONAL ASSOCIATION        DE  332721    28-Feb-97   \n",
       "6    7083     WELLS FARGO BANK NATL ASSOC        SD       0     2-Jun-80   \n",
       "7   34491                    REGIONS BANK        AL  811118    28-Feb-97   \n",
       "8   32456                 CENTENNIAL BANK        FL  721310    28-Feb-97   \n",
       "9    6073         WEBSTER BANK NATL ASSOC        CT       0    28-Feb-97   \n",
       "10  28256                   SUNTRUST BANK        GA  811111    28-Feb-97   \n",
       "11  60605      BANK OF AMERICA NATL ASSOC        OR  235950    28-Feb-97   \n",
       "12  27502           STEARNS BK NATL ASSOC        MN  445299     7-Feb-06   \n",
       "13   2876        CITIZENS BANK NATL ASSOC        RI       0    28-Feb-97   \n",
       "14  27106  NORTHWEST PIEDMONT DEVEL CORPO        NC       0    28-Feb-97   \n",
       "\n",
       "   ApprovalFY  ...  RevLineCr  LowDoc  ChgOffDate  DisbursementDate  \\\n",
       "0        1997  ...          N       Y         NaN         28-Feb-99   \n",
       "1        1997  ...          N       Y         NaN         31-May-97   \n",
       "2        1997  ...          N       N         NaN         31-Dec-97   \n",
       "3        1997  ...          N       Y         NaN         30-Jun-97   \n",
       "4        1997  ...          N       N         NaN         14-May-97   \n",
       "5        1997  ...          N       N         NaN         30-Jun-97   \n",
       "6        1980  ...          N       N   24-Jun-91         22-Jul-80   \n",
       "7        1997  ...          N       Y         NaN         30-Jun-98   \n",
       "8        1997  ...          N       N         NaN         31-Jul-97   \n",
       "9        1997  ...          N       Y         NaN         30-Apr-97   \n",
       "10       1997  ...          N       Y         NaN         23-Feb-98   \n",
       "11       1997  ...          N       N         NaN         30-Nov-97   \n",
       "12       2006  ...          N       N         NaN         31-Mar-06   \n",
       "13       1997  ...          N       N         NaN         31-May-97   \n",
       "14       1997  ...          N       N         NaN         17-Dec-97   \n",
       "\n",
       "    DisbursementGross  BalanceGross  MIS_Status  ChgOffPrinGr        GrAppv  \\\n",
       "0         $60,000.00         $0.00        P I F        $0.00    $60,000.00    \n",
       "1         $40,000.00         $0.00        P I F        $0.00    $40,000.00    \n",
       "2        $287,000.00         $0.00        P I F        $0.00   $287,000.00    \n",
       "3         $35,000.00         $0.00        P I F        $0.00    $35,000.00    \n",
       "4        $229,000.00         $0.00        P I F        $0.00   $229,000.00    \n",
       "5        $517,000.00         $0.00        P I F        $0.00   $517,000.00    \n",
       "6        $600,000.00         $0.00       CHGOFF  $208,959.00   $600,000.00    \n",
       "7         $45,000.00         $0.00        P I F        $0.00    $45,000.00    \n",
       "8        $305,000.00         $0.00        P I F        $0.00   $305,000.00    \n",
       "9         $70,000.00         $0.00        P I F        $0.00    $70,000.00    \n",
       "10        $70,000.00         $0.00        P I F        $0.00    $70,000.00    \n",
       "11       $150,000.00         $0.00        P I F        $0.00   $300,000.00    \n",
       "12       $253,400.00         $0.00        P I F        $0.00   $253,400.00    \n",
       "13       $370,000.00         $0.00        P I F        $0.00   $370,000.00    \n",
       "14       $225,000.00         $0.00        P I F        $0.00   $225,000.00    \n",
       "\n",
       "        SBA_Appv  \n",
       "0    $48,000.00   \n",
       "1    $32,000.00   \n",
       "2   $215,250.00   \n",
       "3    $28,000.00   \n",
       "4   $229,000.00   \n",
       "5   $387,750.00   \n",
       "6   $499,998.00   \n",
       "7    $36,000.00   \n",
       "8   $228,750.00   \n",
       "9    $56,000.00   \n",
       "10   $56,000.00   \n",
       "11  $225,000.00   \n",
       "12  $190,050.00   \n",
       "13  $277,500.00   \n",
       "14  $225,000.00   \n",
       "\n",
       "[15 rows x 27 columns]"
      ]
     },
     "execution_count": 4,
     "metadata": {},
     "output_type": "execute_result"
    }
   ],
   "source": [
    "credit.head(15)  "
   ]
  },
  {
   "cell_type": "code",
   "execution_count": 5,
   "metadata": {
    "colab": {
     "base_uri": "https://localhost:8080/"
    },
    "id": "r3X5KMSnIpkO",
    "outputId": "ad0f4e1a-eb61-4c85-c131-946609301cb9"
   },
   "outputs": [
    {
     "data": {
      "text/plain": [
       "(899164, 27)"
      ]
     },
     "execution_count": 5,
     "metadata": {},
     "output_type": "execute_result"
    }
   ],
   "source": [
    "credit.shape"
   ]
  },
  {
   "cell_type": "code",
   "execution_count": 6,
   "metadata": {
    "colab": {
     "base_uri": "https://localhost:8080/"
    },
    "id": "uRE0UxYdIpkQ",
    "outputId": "1a8b80d4-d045-4338-9278-cab4e34ac5f2"
   },
   "outputs": [
    {
     "data": {
      "text/plain": [
       "LoanNr_ChkDgt             0\n",
       "Name                     14\n",
       "City                     30\n",
       "State                    14\n",
       "Zip                       0\n",
       "Bank                   1559\n",
       "BankState              1566\n",
       "NAICS                     0\n",
       "ApprovalDate              0\n",
       "ApprovalFY                0\n",
       "Term                      0\n",
       "NoEmp                     0\n",
       "NewExist                136\n",
       "CreateJob                 0\n",
       "RetainedJob               0\n",
       "FranchiseCode             0\n",
       "UrbanRural                0\n",
       "RevLineCr              4528\n",
       "LowDoc                 2582\n",
       "ChgOffDate           736465\n",
       "DisbursementDate       2368\n",
       "DisbursementGross         0\n",
       "BalanceGross              0\n",
       "MIS_Status             1997\n",
       "ChgOffPrinGr              0\n",
       "GrAppv                    0\n",
       "SBA_Appv                  0\n",
       "dtype: int64"
      ]
     },
     "execution_count": 6,
     "metadata": {},
     "output_type": "execute_result"
    }
   ],
   "source": [
    "credit.isnull().sum()"
   ]
  },
  {
   "cell_type": "code",
   "execution_count": 7,
   "metadata": {
    "id": "3fHmlKygIpkT"
   },
   "outputs": [],
   "source": [
    "credit = credit.drop_duplicates(keep = 'first')"
   ]
  },
  {
   "cell_type": "code",
   "execution_count": 8,
   "metadata": {
    "colab": {
     "base_uri": "https://localhost:8080/"
    },
    "id": "pmevVDZ9IpkZ",
    "outputId": "67fa39b7-2fb3-4f13-efa6-1ba44dc51e6b"
   },
   "outputs": [
    {
     "data": {
      "text/plain": [
       "LoanNr_ChkDgt             0\n",
       "Name                     14\n",
       "City                     30\n",
       "State                    14\n",
       "Zip                       0\n",
       "Bank                   1559\n",
       "BankState              1566\n",
       "NAICS                     0\n",
       "ApprovalDate              0\n",
       "ApprovalFY                0\n",
       "Term                      0\n",
       "NoEmp                     0\n",
       "NewExist                136\n",
       "CreateJob                 0\n",
       "RetainedJob               0\n",
       "FranchiseCode             0\n",
       "UrbanRural                0\n",
       "RevLineCr              4528\n",
       "LowDoc                 2582\n",
       "ChgOffDate           736465\n",
       "DisbursementDate       2368\n",
       "DisbursementGross         0\n",
       "BalanceGross              0\n",
       "MIS_Status             1997\n",
       "ChgOffPrinGr              0\n",
       "GrAppv                    0\n",
       "SBA_Appv                  0\n",
       "dtype: int64"
      ]
     },
     "execution_count": 8,
     "metadata": {},
     "output_type": "execute_result"
    }
   ],
   "source": [
    "credit.isnull().sum()  "
   ]
  },
  {
   "cell_type": "code",
   "execution_count": 9,
   "metadata": {
    "colab": {
     "base_uri": "https://localhost:8080/"
    },
    "id": "2bghq5ZQIpkd",
    "outputId": "f91fff68-5a27-4eb7-ca2f-a0d77bc1aff0"
   },
   "outputs": [
    {
     "data": {
      "text/plain": [
       "LoanNr_ChkDgt             0\n",
       "Name                      0\n",
       "City                      0\n",
       "State                     0\n",
       "Zip                       0\n",
       "Bank                      0\n",
       "BankState                 0\n",
       "NAICS                     0\n",
       "ApprovalDate              0\n",
       "ApprovalFY                0\n",
       "Term                      0\n",
       "NoEmp                     0\n",
       "NewExist                  0\n",
       "CreateJob                 0\n",
       "RetainedJob               0\n",
       "FranchiseCode             0\n",
       "UrbanRural                0\n",
       "RevLineCr                 0\n",
       "LowDoc                    0\n",
       "ChgOffDate           725369\n",
       "DisbursementDate          0\n",
       "DisbursementGross         0\n",
       "BalanceGross              0\n",
       "MIS_Status                0\n",
       "ChgOffPrinGr              0\n",
       "GrAppv                    0\n",
       "SBA_Appv                  0\n",
       "dtype: int64"
      ]
     },
     "execution_count": 9,
     "metadata": {},
     "output_type": "execute_result"
    }
   ],
   "source": [
    "#removing rows with null values from all columns with null values except ChgOffDate column \n",
    "credit.dropna(subset=['Name', 'City', 'State', 'BankState', 'NewExist','RevLineCr', 'LowDoc', 'DisbursementDate', 'MIS_Status'], inplace=True)\n",
    "credit.isnull().sum() "
   ]
  },
  {
   "cell_type": "code",
   "execution_count": 10,
   "metadata": {
    "id": "rqyz7C9MIpkh"
   },
   "outputs": [],
   "source": [
    "del credit['ChgOffDate']"
   ]
  },
  {
   "cell_type": "code",
   "execution_count": 11,
   "metadata": {
    "colab": {
     "base_uri": "https://localhost:8080/"
    },
    "id": "PSZBrD3xIpkl",
    "outputId": "9254a4a1-6a3b-490f-ad9f-57b5058ef627"
   },
   "outputs": [
    {
     "data": {
      "text/plain": [
       "(886240, 26)"
      ]
     },
     "execution_count": 11,
     "metadata": {},
     "output_type": "execute_result"
    }
   ],
   "source": [
    "credit.shape"
   ]
  },
  {
   "cell_type": "code",
   "execution_count": 12,
   "metadata": {
    "colab": {
     "base_uri": "https://localhost:8080/"
    },
    "id": "Wn2h9B0IIpkq",
    "outputId": "7dbd92f3-09c8-4a15-cfdb-36090702314e"
   },
   "outputs": [
    {
     "data": {
      "text/plain": [
       "LoanNr_ChkDgt        0\n",
       "Name                 0\n",
       "City                 0\n",
       "State                0\n",
       "Zip                  0\n",
       "Bank                 0\n",
       "BankState            0\n",
       "NAICS                0\n",
       "ApprovalDate         0\n",
       "ApprovalFY           0\n",
       "Term                 0\n",
       "NoEmp                0\n",
       "NewExist             0\n",
       "CreateJob            0\n",
       "RetainedJob          0\n",
       "FranchiseCode        0\n",
       "UrbanRural           0\n",
       "RevLineCr            0\n",
       "LowDoc               0\n",
       "DisbursementDate     0\n",
       "DisbursementGross    0\n",
       "BalanceGross         0\n",
       "MIS_Status           0\n",
       "ChgOffPrinGr         0\n",
       "GrAppv               0\n",
       "SBA_Appv             0\n",
       "dtype: int64"
      ]
     },
     "execution_count": 12,
     "metadata": {},
     "output_type": "execute_result"
    }
   ],
   "source": [
    "credit.isnull().sum() "
   ]
  },
  {
   "cell_type": "code",
   "execution_count": 13,
   "metadata": {
    "id": "xnH6CxhAIpkx"
   },
   "outputs": [],
   "source": [
    "#MApping the industry to NAICS Value \n",
    "credit['nIndustry'] = credit['NAICS'].astype('str').apply(lambda x: x[:2])"
   ]
  },
  {
   "cell_type": "code",
   "execution_count": 14,
   "metadata": {
    "colab": {
     "base_uri": "https://localhost:8080/"
    },
    "id": "gEbHnjbtIpk2",
    "outputId": "c7e719dc-fa5c-4abd-ace4-55dcbb9f4c06"
   },
   "outputs": [
    {
     "data": {
      "text/plain": [
       "array(['45', '72', '62', '0', '33', '81', '23', '44', '42', '61', '53',\n",
       "       '54', '31', '51', '71', '52', '21', '32', '56', '48', '11', '92',\n",
       "       '22', '49', '55'], dtype=object)"
      ]
     },
     "execution_count": 14,
     "metadata": {},
     "output_type": "execute_result"
    }
   ],
   "source": [
    "credit.nIndustry.unique()"
   ]
  },
  {
   "cell_type": "code",
   "execution_count": 15,
   "metadata": {
    "id": "zUjLic4kIpk5"
   },
   "outputs": [],
   "source": [
    "credit['Industry'] = credit['NAICS'].astype('str').apply(lambda x: x[:2])"
   ]
  },
  {
   "cell_type": "code",
   "execution_count": 16,
   "metadata": {
    "id": "MaMoGJVHIpk-"
   },
   "outputs": [],
   "source": [
    "credit['Industry'] = credit['Industry'].map({\n",
    "    '11': 'Ag/For/Fish/Hunt',\n",
    "    '21': 'Min/Quar/Oil_Gas_ext',\n",
    "    '22': 'Utilities',\n",
    "    '23': 'Construction',\n",
    "    '31': 'Manufacturing',\n",
    "    '32': 'Manufacturing',\n",
    "    '33': 'Manufacturing',\n",
    "    '42': 'Wholesale_trade',\n",
    "    '44': 'Retail_trade',\n",
    "    '45': 'Retail_trade',\n",
    "    '48': 'Trans/Ware',\n",
    "    '49': 'Trans/Ware',\n",
    "    '51': 'Information',\n",
    "    '52': 'Finance/Insurance',\n",
    "    '53': 'RE/Rental/Lease',\n",
    "    '54': 'Prof/Science/Tech',\n",
    "    '55': 'Mgmt_comp',\n",
    "    '56': 'Admin_sup/Waste_Mgmt_Rem',\n",
    "    '61': 'Educational',\n",
    "    '62': 'Healthcare/Social_assist',\n",
    "    '71': 'Arts/Entertain/Rec',\n",
    "    '72': 'Accom/Food_serv',\n",
    "    '81': 'Other_no_pub',\n",
    "    '92': 'Public_Admin'\n",
    "})\n"
   ]
  },
  {
   "cell_type": "code",
   "execution_count": 17,
   "metadata": {
    "id": "v_bt8t8ZIplA"
   },
   "outputs": [],
   "source": [
    "# Remove records where Industry is NaN (NAICS code was a 0)\n",
    "credit.dropna(subset=['Industry'], inplace=True)"
   ]
  },
  {
   "cell_type": "code",
   "execution_count": 18,
   "metadata": {
    "colab": {
     "base_uri": "https://localhost:8080/"
    },
    "id": "PNf88mKDIplC",
    "outputId": "b24f2f23-fd4f-4463-cf16-d6658926205f"
   },
   "outputs": [
    {
     "data": {
      "text/plain": [
       "LoanNr_ChkDgt        0\n",
       "Name                 0\n",
       "City                 0\n",
       "State                0\n",
       "Zip                  0\n",
       "Bank                 0\n",
       "BankState            0\n",
       "NAICS                0\n",
       "ApprovalDate         0\n",
       "ApprovalFY           0\n",
       "Term                 0\n",
       "NoEmp                0\n",
       "NewExist             0\n",
       "CreateJob            0\n",
       "RetainedJob          0\n",
       "FranchiseCode        0\n",
       "UrbanRural           0\n",
       "RevLineCr            0\n",
       "LowDoc               0\n",
       "DisbursementDate     0\n",
       "DisbursementGross    0\n",
       "BalanceGross         0\n",
       "MIS_Status           0\n",
       "ChgOffPrinGr         0\n",
       "GrAppv               0\n",
       "SBA_Appv             0\n",
       "nIndustry            0\n",
       "Industry             0\n",
       "dtype: int64"
      ]
     },
     "execution_count": 18,
     "metadata": {},
     "output_type": "execute_result"
    }
   ],
   "source": [
    "credit.isnull().sum() "
   ]
  },
  {
   "cell_type": "code",
   "execution_count": 19,
   "metadata": {
    "colab": {
     "base_uri": "https://localhost:8080/"
    },
    "id": "AUSiEic7IplD",
    "outputId": "8eb4551a-7b5b-4668-cd40-77fac89c432a"
   },
   "outputs": [
    {
     "name": "stdout",
     "output_type": "stream",
     "text": [
      "<class 'pandas.core.frame.DataFrame'>\n",
      "Int64Index: 687973 entries, 0 to 899161\n",
      "Data columns (total 28 columns):\n",
      " #   Column             Non-Null Count   Dtype  \n",
      "---  ------             --------------   -----  \n",
      " 0   LoanNr_ChkDgt      687973 non-null  int64  \n",
      " 1   Name               687973 non-null  object \n",
      " 2   City               687973 non-null  object \n",
      " 3   State              687973 non-null  object \n",
      " 4   Zip                687973 non-null  int64  \n",
      " 5   Bank               687973 non-null  object \n",
      " 6   BankState          687973 non-null  object \n",
      " 7   NAICS              687973 non-null  int64  \n",
      " 8   ApprovalDate       687973 non-null  object \n",
      " 9   ApprovalFY         687973 non-null  object \n",
      " 10  Term               687973 non-null  int64  \n",
      " 11  NoEmp              687973 non-null  int64  \n",
      " 12  NewExist           687973 non-null  float64\n",
      " 13  CreateJob          687973 non-null  int64  \n",
      " 14  RetainedJob        687973 non-null  int64  \n",
      " 15  FranchiseCode      687973 non-null  int64  \n",
      " 16  UrbanRural         687973 non-null  int64  \n",
      " 17  RevLineCr          687973 non-null  object \n",
      " 18  LowDoc             687973 non-null  object \n",
      " 19  DisbursementDate   687973 non-null  object \n",
      " 20  DisbursementGross  687973 non-null  object \n",
      " 21  BalanceGross       687973 non-null  object \n",
      " 22  MIS_Status         687973 non-null  object \n",
      " 23  ChgOffPrinGr       687973 non-null  object \n",
      " 24  GrAppv             687973 non-null  object \n",
      " 25  SBA_Appv           687973 non-null  object \n",
      " 26  nIndustry          687973 non-null  object \n",
      " 27  Industry           687973 non-null  object \n",
      "dtypes: float64(1), int64(9), object(18)\n",
      "memory usage: 152.2+ MB\n"
     ]
    }
   ],
   "source": [
    "credit.info()"
   ]
  },
  {
   "cell_type": "markdown",
   "metadata": {
    "id": "BGh2zAbVIplH"
   },
   "source": [
    "## Data Cleaning/Removing duplicates and inaccuracies in our dataset"
   ]
  },
  {
   "cell_type": "code",
   "execution_count": 20,
   "metadata": {
    "colab": {
     "base_uri": "https://localhost:8080/"
    },
    "id": "lzrezQ9NIplL",
    "outputId": "34ea25fb-226d-4ded-dfa5-038902a9a85f"
   },
   "outputs": [
    {
     "name": "stdout",
     "output_type": "stream",
     "text": [
      "<class 'pandas.core.frame.DataFrame'>\n",
      "Int64Index: 687973 entries, 0 to 899161\n",
      "Data columns (total 28 columns):\n",
      " #   Column             Non-Null Count   Dtype  \n",
      "---  ------             --------------   -----  \n",
      " 0   LoanNr_ChkDgt      687973 non-null  int64  \n",
      " 1   Name               687973 non-null  object \n",
      " 2   City               687973 non-null  object \n",
      " 3   State              687973 non-null  object \n",
      " 4   Zip                687973 non-null  int64  \n",
      " 5   Bank               687973 non-null  object \n",
      " 6   BankState          687973 non-null  object \n",
      " 7   NAICS              687973 non-null  int64  \n",
      " 8   ApprovalDate       687973 non-null  object \n",
      " 9   ApprovalFY         687973 non-null  object \n",
      " 10  Term               687973 non-null  int64  \n",
      " 11  NoEmp              687973 non-null  int64  \n",
      " 12  NewExist           687973 non-null  float64\n",
      " 13  CreateJob          687973 non-null  int64  \n",
      " 14  RetainedJob        687973 non-null  int64  \n",
      " 15  FranchiseCode      687973 non-null  int64  \n",
      " 16  UrbanRural         687973 non-null  int64  \n",
      " 17  RevLineCr          687973 non-null  object \n",
      " 18  LowDoc             687973 non-null  object \n",
      " 19  DisbursementDate   687973 non-null  object \n",
      " 20  DisbursementGross  687973 non-null  object \n",
      " 21  BalanceGross       687973 non-null  object \n",
      " 22  MIS_Status         687973 non-null  object \n",
      " 23  ChgOffPrinGr       687973 non-null  object \n",
      " 24  GrAppv             687973 non-null  object \n",
      " 25  SBA_Appv           687973 non-null  object \n",
      " 26  nIndustry          687973 non-null  object \n",
      " 27  Industry           687973 non-null  object \n",
      "dtypes: float64(1), int64(9), object(18)\n",
      "memory usage: 152.2+ MB\n"
     ]
    }
   ],
   "source": [
    "#in the order of columns in the dataset\n",
    "credit.info() "
   ]
  },
  {
   "cell_type": "code",
   "execution_count": 21,
   "metadata": {
    "id": "afPBmdZrIplN"
   },
   "outputs": [],
   "source": [
    "# Remove '$', commas, and extra spaces from records in columns with dollar values that should be floats\n",
    "\n",
    "credit_copy = credit[['DisbursementGross', 'BalanceGross', 'ChgOffPrinGr', 'GrAppv', 'SBA_Appv']].applymap(lambda x: x.strip().replace('$', '').replace(',', ''))\n",
    "del credit['DisbursementGross']\n",
    "del credit['BalanceGross']\n",
    "del credit['ChgOffPrinGr']\n",
    "del credit['GrAppv']\n",
    "del credit['SBA_Appv']\n",
    "\n",
    "credit = pd.concat([credit, credit_copy],axis =1)\n",
    "#credit.shape  "
   ]
  },
  {
   "cell_type": "code",
   "execution_count": 22,
   "metadata": {
    "colab": {
     "base_uri": "https://localhost:8080/"
    },
    "id": "CzV_w723IplR",
    "outputId": "cdaa0944-b84f-422f-ca7a-eaac982a46d2"
   },
   "outputs": [
    {
     "name": "stdout",
     "output_type": "stream",
     "text": [
      "<class 'pandas.core.frame.DataFrame'>\n",
      "Int64Index: 687973 entries, 0 to 899161\n",
      "Data columns (total 28 columns):\n",
      " #   Column             Non-Null Count   Dtype  \n",
      "---  ------             --------------   -----  \n",
      " 0   LoanNr_ChkDgt      687973 non-null  int64  \n",
      " 1   Name               687973 non-null  object \n",
      " 2   City               687973 non-null  object \n",
      " 3   State              687973 non-null  object \n",
      " 4   Zip                687973 non-null  object \n",
      " 5   Bank               687973 non-null  object \n",
      " 6   BankState          687973 non-null  object \n",
      " 7   NAICS              687973 non-null  int64  \n",
      " 8   ApprovalDate       687973 non-null  object \n",
      " 9   ApprovalFY         687973 non-null  object \n",
      " 10  Term               687973 non-null  int64  \n",
      " 11  NoEmp              687973 non-null  int64  \n",
      " 12  NewExist           687973 non-null  int64  \n",
      " 13  CreateJob          687973 non-null  int64  \n",
      " 14  RetainedJob        687973 non-null  int64  \n",
      " 15  FranchiseCode      687973 non-null  int64  \n",
      " 16  UrbanRural         687973 non-null  object \n",
      " 17  RevLineCr          687973 non-null  object \n",
      " 18  LowDoc             687973 non-null  object \n",
      " 19  DisbursementDate   687973 non-null  object \n",
      " 20  MIS_Status         687973 non-null  object \n",
      " 21  nIndustry          687973 non-null  object \n",
      " 22  Industry           687973 non-null  object \n",
      " 23  DisbursementGross  687973 non-null  float64\n",
      " 24  BalanceGross       687973 non-null  float64\n",
      " 25  ChgOffPrinGr       687973 non-null  float64\n",
      " 26  GrAppv             687973 non-null  float64\n",
      " 27  SBA_Appv           687973 non-null  float64\n",
      "dtypes: float64(5), int64(8), object(15)\n",
      "memory usage: 152.2+ MB\n"
     ]
    }
   ],
   "source": [
    "# Change the type of NewExist to an integer, Zip and UrbanRural to str (categorical) and all currency-related fields to float values\n",
    "credit = credit.astype({'Zip': 'str', 'NewExist': 'int64', 'UrbanRural': 'str', 'DisbursementGross': 'float', 'BalanceGross': 'float',\n",
    "                          'ChgOffPrinGr': 'float', 'GrAppv': 'float', 'SBA_Appv': 'float'})\n",
    "\n",
    "# Check to see dtypes so far\n",
    "credit.info() \n"
   ]
  },
  {
   "cell_type": "code",
   "execution_count": 23,
   "metadata": {
    "colab": {
     "base_uri": "https://localhost:8080/"
    },
    "id": "IEfh2xxjIplU",
    "outputId": "a0b21bd9-8765-43a4-99a7-398273e513da"
   },
   "outputs": [
    {
     "data": {
      "text/plain": [
       "array(['OH', 'IN', 'DE', 'AL', 'FL', 'GA', 'OR', 'MN', 'NC', 'MS', 'SD',\n",
       "       'SC', 'TX', 'LA', 'IA', 'CA', 'TN', 'VA', 'MA', 'RI', 'PA', 'MO',\n",
       "       'WA', 'UT', 'IL', 'KS', 'WI', 'NJ', 'CT', 'MD', 'NY', 'NH', 'ND',\n",
       "       'MT', 'MI', 'CO', 'WY', 'OK', 'KY', 'ME', 'NM', 'DC', 'NV', 'NE',\n",
       "       'WV', 'AZ', 'ID', 'AR', 'VT', 'HI', 'AK', 'PR', 'GU', 'AN', 'VI'],\n",
       "      dtype=object)"
      ]
     },
     "execution_count": 23,
     "metadata": {},
     "output_type": "execute_result"
    }
   ],
   "source": [
    "credit['BankState'].unique()"
   ]
  },
  {
   "cell_type": "code",
   "execution_count": 24,
   "metadata": {
    "id": "vTljNuTdIplY"
   },
   "outputs": [],
   "source": [
    "#Removing the nan value from bankstate\n",
    "\n",
    "credit = credit[credit.BankState != 'nan']"
   ]
  },
  {
   "cell_type": "code",
   "execution_count": 25,
   "metadata": {
    "colab": {
     "base_uri": "https://localhost:8080/"
    },
    "id": "lQNY1d7vIplb",
    "outputId": "73a9351e-a892-474f-b054-47975feb072a"
   },
   "outputs": [
    {
     "data": {
      "text/plain": [
       "array(['OH', 'IN', 'DE', 'AL', 'FL', 'GA', 'OR', 'MN', 'NC', 'MS', 'SD',\n",
       "       'SC', 'TX', 'LA', 'IA', 'CA', 'TN', 'VA', 'MA', 'RI', 'PA', 'MO',\n",
       "       'WA', 'UT', 'IL', 'KS', 'WI', 'NJ', 'CT', 'MD', 'NY', 'NH', 'ND',\n",
       "       'MT', 'MI', 'CO', 'WY', 'OK', 'KY', 'ME', 'NM', 'DC', 'NV', 'NE',\n",
       "       'WV', 'AZ', 'ID', 'AR', 'VT', 'HI', 'AK', 'PR', 'GU', 'AN', 'VI'],\n",
       "      dtype=object)"
      ]
     },
     "execution_count": 25,
     "metadata": {},
     "output_type": "execute_result"
    }
   ],
   "source": [
    "credit['BankState'].unique()"
   ]
  },
  {
   "cell_type": "code",
   "execution_count": 26,
   "metadata": {
    "colab": {
     "base_uri": "https://localhost:8080/"
    },
    "id": "r71mVJgXIplg",
    "outputId": "1ec17362-d643-4948-bcee-24e98b2ad739"
   },
   "outputs": [
    {
     "data": {
      "text/plain": [
       "array([1997, 2006, 1998, 1999, 2000, 2001, 2003, 2004, 2005, 1984, 2007,\n",
       "       1987, 2008, 1988, 2009, 1989, 1990, 2010, 1991, 2011, 1992, 2002,\n",
       "       2012, 1993, 2013, 1994, 2014, '2004', '1994', '1995', '2005',\n",
       "       '1996', 1996], dtype=object)"
      ]
     },
     "execution_count": 26,
     "metadata": {},
     "output_type": "execute_result"
    }
   ],
   "source": [
    "credit['ApprovalFY'].unique()"
   ]
  },
  {
   "cell_type": "code",
   "execution_count": 27,
   "metadata": {
    "id": "tL8Jy6yKIplk"
   },
   "outputs": [],
   "source": [
    "\n",
    "def clean_str(x):\n",
    "    if isinstance(x, str):\n",
    "        return x.replace('A', '')\n",
    "    return x\n",
    "\n",
    "\n",
    "credit['ApprovalFY'] = credit['ApprovalFY'].apply(clean_str).astype('int64')"
   ]
  },
  {
   "cell_type": "code",
   "execution_count": 28,
   "metadata": {
    "colab": {
     "base_uri": "https://localhost:8080/"
    },
    "id": "wJSwA4h7Iplp",
    "outputId": "4a40d602-b605-468a-a37a-dcfe096bd4e0"
   },
   "outputs": [
    {
     "data": {
      "text/plain": [
       "array([1997, 2006, 1998, 1999, 2000, 2001, 2003, 2004, 2005, 1984, 2007,\n",
       "       1987, 2008, 1988, 2009, 1989, 1990, 2010, 1991, 2011, 1992, 2002,\n",
       "       2012, 1993, 2013, 1994, 2014, 1995, 1996])"
      ]
     },
     "execution_count": 28,
     "metadata": {},
     "output_type": "execute_result"
    }
   ],
   "source": [
    "credit['ApprovalFY'].unique() "
   ]
  },
  {
   "cell_type": "code",
   "execution_count": 29,
   "metadata": {
    "colab": {
     "base_uri": "https://localhost:8080/"
    },
    "id": "3dQ2CFraIplt",
    "outputId": "5709bc66-0408-491b-f365-1528819fd164"
   },
   "outputs": [
    {
     "data": {
      "text/plain": [
       "array([    1, 15100, 10656, ..., 16452, 35618, 18701])"
      ]
     },
     "execution_count": 29,
     "metadata": {},
     "output_type": "execute_result"
    }
   ],
   "source": [
    "credit['FranchiseCode'].unique() "
   ]
  },
  {
   "cell_type": "code",
   "execution_count": 30,
   "metadata": {
    "colab": {
     "base_uri": "https://localhost:8080/"
    },
    "id": "4LNhZXhFIpl0",
    "outputId": "8024c4b4-8590-430f-a999-9896f8a37322"
   },
   "outputs": [
    {
     "data": {
      "text/plain": [
       "array(['0', '1', '2'], dtype=object)"
      ]
     },
     "execution_count": 30,
     "metadata": {},
     "output_type": "execute_result"
    }
   ],
   "source": [
    "credit['UrbanRural'].unique()  "
   ]
  },
  {
   "cell_type": "code",
   "execution_count": 31,
   "metadata": {
    "id": "yRETRqIoIpl6"
   },
   "outputs": [],
   "source": [
    "##some of the fields that are considered flags already but aren't necessarily in a useable format right now. \n",
    "#These include the NewExist, RevLineCr, LowDoc, and MIS_Status fields.  "
   ]
  },
  {
   "cell_type": "code",
   "execution_count": 32,
   "metadata": {
    "colab": {
     "base_uri": "https://localhost:8080/"
    },
    "id": "F8nm684JIpl9",
    "outputId": "a88c5bf2-9eaa-4976-fc75-2520bbf5b84e"
   },
   "outputs": [
    {
     "data": {
      "text/plain": [
       "array([2, 1, 0])"
      ]
     },
     "execution_count": 32,
     "metadata": {},
     "output_type": "execute_result"
    }
   ],
   "source": [
    "credit['NewExist'].unique()  "
   ]
  },
  {
   "cell_type": "code",
   "execution_count": 33,
   "metadata": {
    "id": "ZZClXHsuIpmE"
   },
   "outputs": [],
   "source": [
    "# Keep records where NewExist == 1 or 2\n",
    "credit = credit[(credit['NewExist'] == 1) | (credit['NewExist'] == 2)]"
   ]
  },
  {
   "cell_type": "code",
   "execution_count": 34,
   "metadata": {
    "colab": {
     "base_uri": "https://localhost:8080/"
    },
    "id": "EUEqv4KVIpmJ",
    "outputId": "1be4fd46-62df-4ed5-d1c9-f675956522ae"
   },
   "outputs": [
    {
     "name": "stdout",
     "output_type": "stream",
     "text": [
      "<class 'pandas.core.frame.DataFrame'>\n",
      "Int64Index: 687246 entries, 0 to 899161\n",
      "Data columns (total 29 columns):\n",
      " #   Column             Non-Null Count   Dtype  \n",
      "---  ------             --------------   -----  \n",
      " 0   LoanNr_ChkDgt      687246 non-null  int64  \n",
      " 1   Name               687246 non-null  object \n",
      " 2   City               687246 non-null  object \n",
      " 3   State              687246 non-null  object \n",
      " 4   Zip                687246 non-null  object \n",
      " 5   Bank               687246 non-null  object \n",
      " 6   BankState          687246 non-null  object \n",
      " 7   NAICS              687246 non-null  int64  \n",
      " 8   ApprovalDate       687246 non-null  object \n",
      " 9   ApprovalFY         687246 non-null  int64  \n",
      " 10  Term               687246 non-null  int64  \n",
      " 11  NoEmp              687246 non-null  int64  \n",
      " 12  NewExist           687246 non-null  int64  \n",
      " 13  CreateJob          687246 non-null  int64  \n",
      " 14  RetainedJob        687246 non-null  int64  \n",
      " 15  FranchiseCode      687246 non-null  int64  \n",
      " 16  UrbanRural         687246 non-null  object \n",
      " 17  RevLineCr          687246 non-null  object \n",
      " 18  LowDoc             687246 non-null  object \n",
      " 19  DisbursementDate   687246 non-null  object \n",
      " 20  MIS_Status         687246 non-null  object \n",
      " 21  nIndustry          687246 non-null  object \n",
      " 22  Industry           687246 non-null  object \n",
      " 23  DisbursementGross  687246 non-null  float64\n",
      " 24  BalanceGross       687246 non-null  float64\n",
      " 25  ChgOffPrinGr       687246 non-null  float64\n",
      " 26  GrAppv             687246 non-null  float64\n",
      " 27  SBA_Appv           687246 non-null  float64\n",
      " 28  NewBusiness        687246 non-null  float64\n",
      "dtypes: float64(6), int64(9), object(14)\n",
      "memory usage: 157.3+ MB\n"
     ]
    }
   ],
   "source": [
    "# Create NewBusiness field where 0 = Existing business and 1 = New business; based on NewExist field\n",
    "credit.loc[(credit['NewExist'] == 1), 'NewBusiness'] = 0\n",
    "credit.loc[(credit['NewExist'] == 2), 'NewBusiness'] = 1\n",
    "\n",
    "#see that a new column New Business is created\n",
    "credit.info()  "
   ]
  },
  {
   "cell_type": "code",
   "execution_count": 35,
   "metadata": {
    "colab": {
     "base_uri": "https://localhost:8080/"
    },
    "id": "eA3D84MZIpmM",
    "outputId": "e9afd777-66e2-4547-d6c3-38b516d1d38e"
   },
   "outputs": [
    {
     "data": {
      "text/plain": [
       "array(['N', 'Y', '0', 'T', '`', ',', '1', 'C', '2', 'R', '7', 'A', '-',\n",
       "       'Q'], dtype=object)"
      ]
     },
     "execution_count": 35,
     "metadata": {},
     "output_type": "execute_result"
    }
   ],
   "source": [
    "credit['RevLineCr'].unique()"
   ]
  },
  {
   "cell_type": "code",
   "execution_count": 36,
   "metadata": {
    "id": "Y1PwGUlNIpmQ"
   },
   "outputs": [],
   "source": [
    "\n",
    "credit= credit[(credit.RevLineCr == 'Y') | (credit.RevLineCr =='N')]\n",
    "cleanup_revline = {'RevLineCr':     {'Y': 1, 'N': 0}}\n",
    "credit.replace(cleanup_revline, inplace=True)\n",
    "\n"
   ]
  },
  {
   "cell_type": "code",
   "execution_count": 37,
   "metadata": {
    "colab": {
     "base_uri": "https://localhost:8080/"
    },
    "id": "8wRsDN1dIpmV",
    "outputId": "e039026f-e662-466a-a5df-857c4c0870a6"
   },
   "outputs": [
    {
     "data": {
      "text/plain": [
       "0         0\n",
       "1         0\n",
       "2         0\n",
       "5         0\n",
       "7         0\n",
       "         ..\n",
       "899145    1\n",
       "899146    0\n",
       "899157    0\n",
       "899160    1\n",
       "899161    0\n",
       "Name: RevLineCr, Length: 458730, dtype: int64"
      ]
     },
     "execution_count": 37,
     "metadata": {},
     "output_type": "execute_result"
    }
   ],
   "source": [
    "credit['RevLineCr']"
   ]
  },
  {
   "cell_type": "code",
   "execution_count": 38,
   "metadata": {
    "colab": {
     "base_uri": "https://localhost:8080/"
    },
    "id": "H7B8SWG6IpmX",
    "outputId": "ee5cbd83-ef5d-41e6-cf36-6a759d709b96"
   },
   "outputs": [
    {
     "data": {
      "text/plain": [
       "array([0, 1])"
      ]
     },
     "execution_count": 38,
     "metadata": {},
     "output_type": "execute_result"
    }
   ],
   "source": [
    "credit['RevLineCr'].unique()"
   ]
  },
  {
   "cell_type": "code",
   "execution_count": 39,
   "metadata": {
    "colab": {
     "base_uri": "https://localhost:8080/"
    },
    "id": "_-45_d91IpmY",
    "outputId": "112930d2-4ea5-4969-ab05-523094f86317"
   },
   "outputs": [
    {
     "data": {
      "text/plain": [
       "array(['Y', 'N', 'C', '1', 'S', 'R', 'A', '0'], dtype=object)"
      ]
     },
     "execution_count": 39,
     "metadata": {},
     "output_type": "execute_result"
    }
   ],
   "source": [
    "#lowdoc \n",
    "credit['LowDoc'].unique()"
   ]
  },
  {
   "cell_type": "code",
   "execution_count": 40,
   "metadata": {
    "id": "ZwyH-IejIpmb"
   },
   "outputs": [],
   "source": [
    "credit= credit[(credit.LowDoc == 'Y') | (credit.LowDoc =='N')]"
   ]
  },
  {
   "cell_type": "code",
   "execution_count": 41,
   "metadata": {
    "colab": {
     "base_uri": "https://localhost:8080/"
    },
    "id": "IIE5VzAbIpmd",
    "outputId": "f1d56f6b-faed-4cbc-a4b4-b8695e6865a7"
   },
   "outputs": [
    {
     "data": {
      "text/plain": [
       "array(['Y', 'N'], dtype=object)"
      ]
     },
     "execution_count": 41,
     "metadata": {},
     "output_type": "execute_result"
    }
   ],
   "source": [
    "credit['LowDoc'].unique()"
   ]
  },
  {
   "cell_type": "code",
   "execution_count": 42,
   "metadata": {
    "id": "hMkEvblbIpmg"
   },
   "outputs": [],
   "source": [
    "cleanup_lowdoc = {'LowDoc': {'Y': 1, 'N': 0}}\n",
    "credit.replace(cleanup_lowdoc, inplace=True)"
   ]
  },
  {
   "cell_type": "code",
   "execution_count": 43,
   "metadata": {
    "colab": {
     "base_uri": "https://localhost:8080/"
    },
    "id": "eyZLgroHIpmj",
    "outputId": "776bd571-0278-4058-9a71-0934269d1208"
   },
   "outputs": [
    {
     "data": {
      "text/plain": [
       "array([1, 0])"
      ]
     },
     "execution_count": 43,
     "metadata": {},
     "output_type": "execute_result"
    }
   ],
   "source": [
    "credit['LowDoc'].unique()"
   ]
  },
  {
   "cell_type": "code",
   "execution_count": 44,
   "metadata": {
    "colab": {
     "base_uri": "https://localhost:8080/"
    },
    "id": "Uj_dpf9jIpmk",
    "outputId": "60a790ae-5a2f-450b-d007-a535de646436"
   },
   "outputs": [
    {
     "data": {
      "text/plain": [
       "array(['P I F', 'CHGOFF'], dtype=object)"
      ]
     },
     "execution_count": 44,
     "metadata": {},
     "output_type": "execute_result"
    }
   ],
   "source": [
    "#MIS Status \n",
    "credit['MIS_Status'].unique() "
   ]
  },
  {
   "cell_type": "code",
   "execution_count": 45,
   "metadata": {
    "id": "lIkP8Qp8Ipmo"
   },
   "outputs": [],
   "source": [
    "cleanup_mis = {'MIS_Status':{'P I F': 1, 'CHGOFF': 0}}\n",
    "credit.replace(cleanup_mis, inplace=True) "
   ]
  },
  {
   "cell_type": "code",
   "execution_count": 46,
   "metadata": {
    "colab": {
     "base_uri": "https://localhost:8080/"
    },
    "id": "1WlX0xq9Ipmr",
    "outputId": "321c1f72-f100-45d5-8dde-6a5dd8e5d089"
   },
   "outputs": [
    {
     "data": {
      "text/plain": [
       "array([1, 0])"
      ]
     },
     "execution_count": 46,
     "metadata": {},
     "output_type": "execute_result"
    }
   ],
   "source": [
    "credit['MIS_Status'].unique()  "
   ]
  },
  {
   "cell_type": "code",
   "execution_count": 47,
   "metadata": {
    "colab": {
     "base_uri": "https://localhost:8080/"
    },
    "id": "qn0OaCA9Ipmt",
    "outputId": "34590115-ada7-4d42-aa50-61724c979590"
   },
   "outputs": [
    {
     "data": {
      "text/plain": [
       "1    358558\n",
       "0     98382\n",
       "Name: MIS_Status, dtype: int64"
      ]
     },
     "execution_count": 47,
     "metadata": {},
     "output_type": "execute_result"
    }
   ],
   "source": [
    "credit['MIS_Status'].value_counts()"
   ]
  },
  {
   "cell_type": "code",
   "execution_count": 48,
   "metadata": {
    "colab": {
     "base_uri": "https://localhost:8080/"
    },
    "id": "2MONj2wqIpmv",
    "outputId": "5f0f6734-04be-433f-a144-55b4d77f91b7"
   },
   "outputs": [
    {
     "name": "stdout",
     "output_type": "stream",
     "text": [
      "<class 'pandas.core.frame.DataFrame'>\n",
      "Int64Index: 456940 entries, 0 to 899161\n",
      "Data columns (total 29 columns):\n",
      " #   Column             Non-Null Count   Dtype  \n",
      "---  ------             --------------   -----  \n",
      " 0   LoanNr_ChkDgt      456940 non-null  int64  \n",
      " 1   Name               456940 non-null  object \n",
      " 2   City               456940 non-null  object \n",
      " 3   State              456940 non-null  object \n",
      " 4   Zip                456940 non-null  object \n",
      " 5   Bank               456940 non-null  object \n",
      " 6   BankState          456940 non-null  object \n",
      " 7   NAICS              456940 non-null  int64  \n",
      " 8   ApprovalDate       456940 non-null  object \n",
      " 9   ApprovalFY         456940 non-null  int64  \n",
      " 10  Term               456940 non-null  int64  \n",
      " 11  NoEmp              456940 non-null  int64  \n",
      " 12  NewExist           456940 non-null  int64  \n",
      " 13  CreateJob          456940 non-null  int64  \n",
      " 14  RetainedJob        456940 non-null  int64  \n",
      " 15  FranchiseCode      456940 non-null  int64  \n",
      " 16  UrbanRural         456940 non-null  object \n",
      " 17  RevLineCr          456940 non-null  int64  \n",
      " 18  LowDoc             456940 non-null  int64  \n",
      " 19  DisbursementDate   456940 non-null  object \n",
      " 20  MIS_Status         456940 non-null  int64  \n",
      " 21  nIndustry          456940 non-null  object \n",
      " 22  Industry           456940 non-null  object \n",
      " 23  DisbursementGross  456940 non-null  float64\n",
      " 24  BalanceGross       456940 non-null  float64\n",
      " 25  ChgOffPrinGr       456940 non-null  float64\n",
      " 26  GrAppv             456940 non-null  float64\n",
      " 27  SBA_Appv           456940 non-null  float64\n",
      " 28  NewBusiness        456940 non-null  float64\n",
      "dtypes: float64(6), int64(12), object(11)\n",
      "memory usage: 104.6+ MB\n"
     ]
    }
   ],
   "source": [
    "credit.info()  "
   ]
  },
  {
   "cell_type": "code",
   "execution_count": 49,
   "metadata": {
    "id": "xULUJaQdIpmx"
   },
   "outputs": [],
   "source": [
    "# Create flag column IsFranchise based on FranchiseCode column\n",
    "credit.loc[(credit['FranchiseCode'] <= 1), 'IsFranchise'] = 0\n",
    "credit.loc[(credit['FranchiseCode'] > 1), 'IsFranchise'] = 1 "
   ]
  },
  {
   "cell_type": "code",
   "execution_count": 50,
   "metadata": {
    "id": "AOWknOYtIpmz"
   },
   "outputs": [],
   "source": [
    "# Create StateSame flag field which identifies where the business State is the same as the BankState\n",
    "credit['StateSame'] = np.where(credit['State'] == credit['BankState'], 1, 0)"
   ]
  },
  {
   "cell_type": "code",
   "execution_count": 51,
   "metadata": {
    "id": "TFFtwBnxIpm1"
   },
   "outputs": [],
   "source": [
    "# Create SBA_AppvPct field since the guaranteed amount is based on a percentage of the gross loan amount rather than dollar amount in most situations\n",
    "credit['SBA_AppvPct'] = credit['SBA_Appv'] / credit['GrAppv']\n",
    "credit = credit.astype({'SBA_AppvPct': 'int64'})"
   ]
  },
  {
   "cell_type": "code",
   "execution_count": 52,
   "metadata": {
    "id": "5BhCpRrjIpm3"
   },
   "outputs": [],
   "source": [
    "# Create AppvDisbursed flag field signifying if the loan amount disbursed was equal to the full amount approved\n",
    "credit['AppvDisbursed'] = np.where(credit['DisbursementGross'] == credit['GrAppv'], 1, 0) "
   ]
  },
  {
   "cell_type": "code",
   "execution_count": 53,
   "metadata": {
    "colab": {
     "base_uri": "https://localhost:8080/"
    },
    "id": "pU-XR86qIpm4",
    "outputId": "e9018d02-f2ec-473b-fd3a-4851e82b559d"
   },
   "outputs": [
    {
     "name": "stdout",
     "output_type": "stream",
     "text": [
      "<class 'pandas.core.frame.DataFrame'>\n",
      "Int64Index: 456940 entries, 0 to 899161\n",
      "Data columns (total 33 columns):\n",
      " #   Column             Non-Null Count   Dtype  \n",
      "---  ------             --------------   -----  \n",
      " 0   LoanNr_ChkDgt      456940 non-null  int64  \n",
      " 1   Name               456940 non-null  object \n",
      " 2   City               456940 non-null  object \n",
      " 3   State              456940 non-null  object \n",
      " 4   Zip                456940 non-null  object \n",
      " 5   Bank               456940 non-null  object \n",
      " 6   BankState          456940 non-null  object \n",
      " 7   NAICS              456940 non-null  int64  \n",
      " 8   ApprovalDate       456940 non-null  object \n",
      " 9   ApprovalFY         456940 non-null  int64  \n",
      " 10  Term               456940 non-null  int64  \n",
      " 11  NoEmp              456940 non-null  int64  \n",
      " 12  NewExist           456940 non-null  int64  \n",
      " 13  CreateJob          456940 non-null  int64  \n",
      " 14  RetainedJob        456940 non-null  int64  \n",
      " 15  FranchiseCode      456940 non-null  int64  \n",
      " 16  UrbanRural         456940 non-null  object \n",
      " 17  RevLineCr          456940 non-null  int64  \n",
      " 18  LowDoc             456940 non-null  int64  \n",
      " 19  DisbursementDate   456940 non-null  object \n",
      " 20  MIS_Status         456940 non-null  int64  \n",
      " 21  nIndustry          456940 non-null  object \n",
      " 22  Industry           456940 non-null  object \n",
      " 23  DisbursementGross  456940 non-null  float64\n",
      " 24  BalanceGross       456940 non-null  float64\n",
      " 25  ChgOffPrinGr       456940 non-null  float64\n",
      " 26  GrAppv             456940 non-null  float64\n",
      " 27  SBA_Appv           456940 non-null  float64\n",
      " 28  NewBusiness        456940 non-null  float64\n",
      " 29  IsFranchise        456940 non-null  float64\n",
      " 30  StateSame          456940 non-null  int64  \n",
      " 31  SBA_AppvPct        456940 non-null  int64  \n",
      " 32  AppvDisbursed      456940 non-null  int64  \n",
      "dtypes: float64(7), int64(15), object(11)\n",
      "memory usage: 118.5+ MB\n"
     ]
    }
   ],
   "source": [
    "credit.info()"
   ]
  },
  {
   "cell_type": "code",
   "execution_count": 54,
   "metadata": {
    "colab": {
     "base_uri": "https://localhost:8080/",
     "height": 634
    },
    "id": "YvHmrh2-Ipm6",
    "outputId": "f9098a00-0f7d-4ce5-f039-8207d9584bf3"
   },
   "outputs": [
    {
     "data": {
      "text/html": [
       "<div>\n",
       "<style scoped>\n",
       "    .dataframe tbody tr th:only-of-type {\n",
       "        vertical-align: middle;\n",
       "    }\n",
       "\n",
       "    .dataframe tbody tr th {\n",
       "        vertical-align: top;\n",
       "    }\n",
       "\n",
       "    .dataframe thead th {\n",
       "        text-align: right;\n",
       "    }\n",
       "</style>\n",
       "<table border=\"1\" class=\"dataframe\">\n",
       "  <thead>\n",
       "    <tr style=\"text-align: right;\">\n",
       "      <th></th>\n",
       "      <th>LoanNr_ChkDgt</th>\n",
       "      <th>Name</th>\n",
       "      <th>City</th>\n",
       "      <th>State</th>\n",
       "      <th>Zip</th>\n",
       "      <th>Bank</th>\n",
       "      <th>BankState</th>\n",
       "      <th>NAICS</th>\n",
       "      <th>ApprovalDate</th>\n",
       "      <th>ApprovalFY</th>\n",
       "      <th>...</th>\n",
       "      <th>DisbursementGross</th>\n",
       "      <th>BalanceGross</th>\n",
       "      <th>ChgOffPrinGr</th>\n",
       "      <th>GrAppv</th>\n",
       "      <th>SBA_Appv</th>\n",
       "      <th>NewBusiness</th>\n",
       "      <th>IsFranchise</th>\n",
       "      <th>StateSame</th>\n",
       "      <th>SBA_AppvPct</th>\n",
       "      <th>AppvDisbursed</th>\n",
       "    </tr>\n",
       "  </thead>\n",
       "  <tbody>\n",
       "    <tr>\n",
       "      <th>0</th>\n",
       "      <td>1000014003</td>\n",
       "      <td>ABC HOBBYCRAFT</td>\n",
       "      <td>EVANSVILLE</td>\n",
       "      <td>IN</td>\n",
       "      <td>47711</td>\n",
       "      <td>FIFTH THIRD BANK</td>\n",
       "      <td>OH</td>\n",
       "      <td>451120</td>\n",
       "      <td>28-Feb-97</td>\n",
       "      <td>1997</td>\n",
       "      <td>...</td>\n",
       "      <td>60000.0</td>\n",
       "      <td>0.0</td>\n",
       "      <td>0.0</td>\n",
       "      <td>60000.0</td>\n",
       "      <td>48000.0</td>\n",
       "      <td>1.0</td>\n",
       "      <td>0.0</td>\n",
       "      <td>0</td>\n",
       "      <td>0</td>\n",
       "      <td>1</td>\n",
       "    </tr>\n",
       "    <tr>\n",
       "      <th>1</th>\n",
       "      <td>1000024006</td>\n",
       "      <td>LANDMARK BAR &amp; GRILLE (THE)</td>\n",
       "      <td>NEW PARIS</td>\n",
       "      <td>IN</td>\n",
       "      <td>46526</td>\n",
       "      <td>1ST SOURCE BANK</td>\n",
       "      <td>IN</td>\n",
       "      <td>722410</td>\n",
       "      <td>28-Feb-97</td>\n",
       "      <td>1997</td>\n",
       "      <td>...</td>\n",
       "      <td>40000.0</td>\n",
       "      <td>0.0</td>\n",
       "      <td>0.0</td>\n",
       "      <td>40000.0</td>\n",
       "      <td>32000.0</td>\n",
       "      <td>1.0</td>\n",
       "      <td>0.0</td>\n",
       "      <td>1</td>\n",
       "      <td>0</td>\n",
       "      <td>1</td>\n",
       "    </tr>\n",
       "    <tr>\n",
       "      <th>2</th>\n",
       "      <td>1000034009</td>\n",
       "      <td>WHITLOCK DDS, TODD M.</td>\n",
       "      <td>BLOOMINGTON</td>\n",
       "      <td>IN</td>\n",
       "      <td>47401</td>\n",
       "      <td>GRANT COUNTY STATE BANK</td>\n",
       "      <td>IN</td>\n",
       "      <td>621210</td>\n",
       "      <td>28-Feb-97</td>\n",
       "      <td>1997</td>\n",
       "      <td>...</td>\n",
       "      <td>287000.0</td>\n",
       "      <td>0.0</td>\n",
       "      <td>0.0</td>\n",
       "      <td>287000.0</td>\n",
       "      <td>215250.0</td>\n",
       "      <td>0.0</td>\n",
       "      <td>0.0</td>\n",
       "      <td>1</td>\n",
       "      <td>0</td>\n",
       "      <td>1</td>\n",
       "    </tr>\n",
       "    <tr>\n",
       "      <th>5</th>\n",
       "      <td>1000084002</td>\n",
       "      <td>B&amp;T SCREW MACHINE COMPANY, INC</td>\n",
       "      <td>PLAINVILLE</td>\n",
       "      <td>CT</td>\n",
       "      <td>6062</td>\n",
       "      <td>TD BANK, NATIONAL ASSOCIATION</td>\n",
       "      <td>DE</td>\n",
       "      <td>332721</td>\n",
       "      <td>28-Feb-97</td>\n",
       "      <td>1997</td>\n",
       "      <td>...</td>\n",
       "      <td>517000.0</td>\n",
       "      <td>0.0</td>\n",
       "      <td>0.0</td>\n",
       "      <td>517000.0</td>\n",
       "      <td>387750.0</td>\n",
       "      <td>0.0</td>\n",
       "      <td>0.0</td>\n",
       "      <td>0</td>\n",
       "      <td>0</td>\n",
       "      <td>1</td>\n",
       "    </tr>\n",
       "    <tr>\n",
       "      <th>7</th>\n",
       "      <td>1000094005</td>\n",
       "      <td>WEAVER PRODUCTS</td>\n",
       "      <td>SUMMERFIELD</td>\n",
       "      <td>FL</td>\n",
       "      <td>34491</td>\n",
       "      <td>REGIONS BANK</td>\n",
       "      <td>AL</td>\n",
       "      <td>811118</td>\n",
       "      <td>28-Feb-97</td>\n",
       "      <td>1997</td>\n",
       "      <td>...</td>\n",
       "      <td>45000.0</td>\n",
       "      <td>0.0</td>\n",
       "      <td>0.0</td>\n",
       "      <td>45000.0</td>\n",
       "      <td>36000.0</td>\n",
       "      <td>1.0</td>\n",
       "      <td>0.0</td>\n",
       "      <td>0</td>\n",
       "      <td>0</td>\n",
       "      <td>1</td>\n",
       "    </tr>\n",
       "    <tr>\n",
       "      <th>8</th>\n",
       "      <td>1000104006</td>\n",
       "      <td>TURTLE BEACH INN</td>\n",
       "      <td>PORT SAINT JOE</td>\n",
       "      <td>FL</td>\n",
       "      <td>32456</td>\n",
       "      <td>CENTENNIAL BANK</td>\n",
       "      <td>FL</td>\n",
       "      <td>721310</td>\n",
       "      <td>28-Feb-97</td>\n",
       "      <td>1997</td>\n",
       "      <td>...</td>\n",
       "      <td>305000.0</td>\n",
       "      <td>0.0</td>\n",
       "      <td>0.0</td>\n",
       "      <td>305000.0</td>\n",
       "      <td>228750.0</td>\n",
       "      <td>1.0</td>\n",
       "      <td>0.0</td>\n",
       "      <td>1</td>\n",
       "      <td>0</td>\n",
       "      <td>1</td>\n",
       "    </tr>\n",
       "    <tr>\n",
       "      <th>10</th>\n",
       "      <td>1000134004</td>\n",
       "      <td>COMMERCIAL TRUCKING MAINTENANC</td>\n",
       "      <td>CHARLOTTE</td>\n",
       "      <td>NC</td>\n",
       "      <td>28256</td>\n",
       "      <td>SUNTRUST BANK</td>\n",
       "      <td>GA</td>\n",
       "      <td>811111</td>\n",
       "      <td>28-Feb-97</td>\n",
       "      <td>1997</td>\n",
       "      <td>...</td>\n",
       "      <td>70000.0</td>\n",
       "      <td>0.0</td>\n",
       "      <td>0.0</td>\n",
       "      <td>70000.0</td>\n",
       "      <td>56000.0</td>\n",
       "      <td>1.0</td>\n",
       "      <td>0.0</td>\n",
       "      <td>0</td>\n",
       "      <td>0</td>\n",
       "      <td>1</td>\n",
       "    </tr>\n",
       "    <tr>\n",
       "      <th>11</th>\n",
       "      <td>1000144007</td>\n",
       "      <td>PROFESSIONAL ELEVATOR SERVICES</td>\n",
       "      <td>CHICAGO</td>\n",
       "      <td>IL</td>\n",
       "      <td>60605</td>\n",
       "      <td>BANK OF AMERICA NATL ASSOC</td>\n",
       "      <td>OR</td>\n",
       "      <td>235950</td>\n",
       "      <td>28-Feb-97</td>\n",
       "      <td>1997</td>\n",
       "      <td>...</td>\n",
       "      <td>150000.0</td>\n",
       "      <td>0.0</td>\n",
       "      <td>0.0</td>\n",
       "      <td>300000.0</td>\n",
       "      <td>225000.0</td>\n",
       "      <td>0.0</td>\n",
       "      <td>0.0</td>\n",
       "      <td>0</td>\n",
       "      <td>0</td>\n",
       "      <td>0</td>\n",
       "    </tr>\n",
       "    <tr>\n",
       "      <th>12</th>\n",
       "      <td>1000146010</td>\n",
       "      <td>CARVEL</td>\n",
       "      <td>APEX</td>\n",
       "      <td>NC</td>\n",
       "      <td>27502</td>\n",
       "      <td>STEARNS BK NATL ASSOC</td>\n",
       "      <td>MN</td>\n",
       "      <td>445299</td>\n",
       "      <td>7-Feb-06</td>\n",
       "      <td>2006</td>\n",
       "      <td>...</td>\n",
       "      <td>253400.0</td>\n",
       "      <td>0.0</td>\n",
       "      <td>0.0</td>\n",
       "      <td>253400.0</td>\n",
       "      <td>190050.0</td>\n",
       "      <td>1.0</td>\n",
       "      <td>1.0</td>\n",
       "      <td>0</td>\n",
       "      <td>0</td>\n",
       "      <td>1</td>\n",
       "    </tr>\n",
       "    <tr>\n",
       "      <th>15</th>\n",
       "      <td>1000244002</td>\n",
       "      <td>ENVIRONMENTAL ROOFING SYSTEMS,</td>\n",
       "      <td>OKLAHOMA CITY</td>\n",
       "      <td>OK</td>\n",
       "      <td>73112</td>\n",
       "      <td>BANK OF AMERICA NATL ASSOC</td>\n",
       "      <td>NC</td>\n",
       "      <td>421330</td>\n",
       "      <td>28-Feb-97</td>\n",
       "      <td>1997</td>\n",
       "      <td>...</td>\n",
       "      <td>350000.0</td>\n",
       "      <td>0.0</td>\n",
       "      <td>0.0</td>\n",
       "      <td>350000.0</td>\n",
       "      <td>262500.0</td>\n",
       "      <td>1.0</td>\n",
       "      <td>0.0</td>\n",
       "      <td>0</td>\n",
       "      <td>0</td>\n",
       "      <td>1</td>\n",
       "    </tr>\n",
       "  </tbody>\n",
       "</table>\n",
       "<p>10 rows × 33 columns</p>\n",
       "</div>"
      ],
      "text/plain": [
       "    LoanNr_ChkDgt                            Name            City State  \\\n",
       "0      1000014003                  ABC HOBBYCRAFT      EVANSVILLE    IN   \n",
       "1      1000024006     LANDMARK BAR & GRILLE (THE)       NEW PARIS    IN   \n",
       "2      1000034009           WHITLOCK DDS, TODD M.     BLOOMINGTON    IN   \n",
       "5      1000084002  B&T SCREW MACHINE COMPANY, INC      PLAINVILLE    CT   \n",
       "7      1000094005                 WEAVER PRODUCTS     SUMMERFIELD    FL   \n",
       "8      1000104006                TURTLE BEACH INN  PORT SAINT JOE    FL   \n",
       "10     1000134004  COMMERCIAL TRUCKING MAINTENANC       CHARLOTTE    NC   \n",
       "11     1000144007  PROFESSIONAL ELEVATOR SERVICES         CHICAGO    IL   \n",
       "12     1000146010                          CARVEL            APEX    NC   \n",
       "15     1000244002  ENVIRONMENTAL ROOFING SYSTEMS,   OKLAHOMA CITY    OK   \n",
       "\n",
       "      Zip                           Bank BankState   NAICS ApprovalDate  \\\n",
       "0   47711               FIFTH THIRD BANK        OH  451120    28-Feb-97   \n",
       "1   46526                1ST SOURCE BANK        IN  722410    28-Feb-97   \n",
       "2   47401        GRANT COUNTY STATE BANK        IN  621210    28-Feb-97   \n",
       "5    6062  TD BANK, NATIONAL ASSOCIATION        DE  332721    28-Feb-97   \n",
       "7   34491                   REGIONS BANK        AL  811118    28-Feb-97   \n",
       "8   32456                CENTENNIAL BANK        FL  721310    28-Feb-97   \n",
       "10  28256                  SUNTRUST BANK        GA  811111    28-Feb-97   \n",
       "11  60605     BANK OF AMERICA NATL ASSOC        OR  235950    28-Feb-97   \n",
       "12  27502          STEARNS BK NATL ASSOC        MN  445299     7-Feb-06   \n",
       "15  73112     BANK OF AMERICA NATL ASSOC        NC  421330    28-Feb-97   \n",
       "\n",
       "    ApprovalFY  ...  DisbursementGross  BalanceGross  ChgOffPrinGr    GrAppv  \\\n",
       "0         1997  ...            60000.0           0.0           0.0   60000.0   \n",
       "1         1997  ...            40000.0           0.0           0.0   40000.0   \n",
       "2         1997  ...           287000.0           0.0           0.0  287000.0   \n",
       "5         1997  ...           517000.0           0.0           0.0  517000.0   \n",
       "7         1997  ...            45000.0           0.0           0.0   45000.0   \n",
       "8         1997  ...           305000.0           0.0           0.0  305000.0   \n",
       "10        1997  ...            70000.0           0.0           0.0   70000.0   \n",
       "11        1997  ...           150000.0           0.0           0.0  300000.0   \n",
       "12        2006  ...           253400.0           0.0           0.0  253400.0   \n",
       "15        1997  ...           350000.0           0.0           0.0  350000.0   \n",
       "\n",
       "    SBA_Appv  NewBusiness IsFranchise  StateSame  SBA_AppvPct AppvDisbursed  \n",
       "0    48000.0          1.0         0.0          0            0             1  \n",
       "1    32000.0          1.0         0.0          1            0             1  \n",
       "2   215250.0          0.0         0.0          1            0             1  \n",
       "5   387750.0          0.0         0.0          0            0             1  \n",
       "7    36000.0          1.0         0.0          0            0             1  \n",
       "8   228750.0          1.0         0.0          1            0             1  \n",
       "10   56000.0          1.0         0.0          0            0             1  \n",
       "11  225000.0          0.0         0.0          0            0             0  \n",
       "12  190050.0          1.0         1.0          0            0             1  \n",
       "15  262500.0          1.0         0.0          0            0             1  \n",
       "\n",
       "[10 rows x 33 columns]"
      ]
     },
     "execution_count": 54,
     "metadata": {},
     "output_type": "execute_result"
    }
   ],
   "source": [
    "credit.head(10)"
   ]
  },
  {
   "cell_type": "code",
   "execution_count": 55,
   "metadata": {
    "id": "g2I8Dy5tIpm-"
   },
   "outputs": [],
   "source": [
    "#Now that the flag fields have been addressed, let's check the date fields. "
   ]
  },
  {
   "cell_type": "code",
   "execution_count": 56,
   "metadata": {
    "colab": {
     "base_uri": "https://localhost:8080/"
    },
    "id": "rO6FBCh-Ipm_",
    "outputId": "7a488da5-ec42-4c61-ce93-834eeca2a650"
   },
   "outputs": [
    {
     "data": {
      "text/plain": [
       "array(['28-Feb-97', '7-Feb-06', '21-Jul-97', ..., '25-Feb-97',\n",
       "       '26-Feb-97', '27-Feb-97'], dtype=object)"
      ]
     },
     "execution_count": 56,
     "metadata": {},
     "output_type": "execute_result"
    }
   ],
   "source": [
    "credit.ApprovalDate.unique() "
   ]
  },
  {
   "cell_type": "code",
   "execution_count": 57,
   "metadata": {
    "id": "zytlfDwXIpnB"
   },
   "outputs": [],
   "source": [
    "credit['ApprovalDate'] = pd.to_datetime(credit['ApprovalDate'])\n",
    "credit['DisbursementDate'] = pd.to_datetime(credit['DisbursementDate'])  "
   ]
  },
  {
   "cell_type": "code",
   "execution_count": 58,
   "metadata": {
    "colab": {
     "base_uri": "https://localhost:8080/"
    },
    "id": "OZD2fN_dIpnC",
    "outputId": "d64aa272-8d2c-4c14-fd73-34433fb01c7e"
   },
   "outputs": [
    {
     "data": {
      "text/plain": [
       "0    1999-02-28\n",
       "1    1997-05-31\n",
       "2    1997-12-31\n",
       "5    1997-06-30\n",
       "7    1998-06-30\n",
       "8    1997-07-31\n",
       "10   1998-02-23\n",
       "11   1997-11-30\n",
       "12   2006-03-31\n",
       "15   1997-09-30\n",
       "Name: DisbursementDate, dtype: datetime64[ns]"
      ]
     },
     "execution_count": 58,
     "metadata": {},
     "output_type": "execute_result"
    }
   ],
   "source": [
    "credit['DisbursementDate'].head(10)"
   ]
  },
  {
   "cell_type": "code",
   "execution_count": 59,
   "metadata": {
    "id": "q2UBaf1DIpnF"
   },
   "outputs": [],
   "source": [
    "#creating days to disbursement column \n",
    "\n",
    "credit['DaysToDisbursement'] = credit['DisbursementDate'] - credit['ApprovalDate']\n",
    "credit['DaysToDisbursement'] = credit['DaysToDisbursement'].astype('str').apply(lambda x: x[:x.index('d') - 1]).astype('int64')\n",
    "credit['DisbursementFY'] = credit['DisbursementDate'].map(lambda x: x.year)\n"
   ]
  },
  {
   "cell_type": "code",
   "execution_count": 60,
   "metadata": {
    "colab": {
     "base_uri": "https://localhost:8080/"
    },
    "id": "A1dY8qUxIpnH",
    "outputId": "219bff55-9f3a-4478-b604-f78629799baa"
   },
   "outputs": [
    {
     "data": {
      "text/plain": [
       "0.0    358558\n",
       "1.0     98382\n",
       "Name: Default, dtype: int64"
      ]
     },
     "execution_count": 60,
     "metadata": {},
     "output_type": "execute_result"
    }
   ],
   "source": [
    "# Creating default column from MIS_Status \n",
    "# Make Default target field based on MIS_Status where P I F = 0 and CHGOFF = 1 so we can see what features are prevalant in a defaulted loan\n",
    "\n",
    "credit.loc[(credit['MIS_Status'] <= 0), 'Default'] = 1\n",
    "credit.loc[(credit['MIS_Status'] >= 1), 'Default'] = 0 \n",
    "credit['Default'].value_counts()"
   ]
  },
  {
   "cell_type": "code",
   "execution_count": 61,
   "metadata": {
    "colab": {
     "base_uri": "https://localhost:8080/"
    },
    "id": "HZz0biyHIpnI",
    "outputId": "ccc78195-4e5d-4108-a327-d927a5b75ff6"
   },
   "outputs": [
    {
     "data": {
      "text/plain": [
       "array([0., 1.])"
      ]
     },
     "execution_count": 61,
     "metadata": {},
     "output_type": "execute_result"
    }
   ],
   "source": [
    "credit['Default'].unique()"
   ]
  },
  {
   "cell_type": "code",
   "execution_count": 62,
   "metadata": {
    "colab": {
     "base_uri": "https://localhost:8080/"
    },
    "id": "cwgBu-s9IpnL",
    "outputId": "4fb1e2f3-b0cc-4697-ad5c-56fc0b688483"
   },
   "outputs": [
    {
     "name": "stdout",
     "output_type": "stream",
     "text": [
      "<class 'pandas.core.frame.DataFrame'>\n",
      "Int64Index: 456940 entries, 0 to 899161\n",
      "Data columns (total 36 columns):\n",
      " #   Column              Non-Null Count   Dtype         \n",
      "---  ------              --------------   -----         \n",
      " 0   LoanNr_ChkDgt       456940 non-null  int64         \n",
      " 1   Name                456940 non-null  object        \n",
      " 2   City                456940 non-null  object        \n",
      " 3   State               456940 non-null  object        \n",
      " 4   Zip                 456940 non-null  object        \n",
      " 5   Bank                456940 non-null  object        \n",
      " 6   BankState           456940 non-null  object        \n",
      " 7   NAICS               456940 non-null  int64         \n",
      " 8   ApprovalDate        456940 non-null  datetime64[ns]\n",
      " 9   ApprovalFY          456940 non-null  int64         \n",
      " 10  Term                456940 non-null  int64         \n",
      " 11  NoEmp               456940 non-null  int64         \n",
      " 12  NewExist            456940 non-null  int64         \n",
      " 13  CreateJob           456940 non-null  int64         \n",
      " 14  RetainedJob         456940 non-null  int64         \n",
      " 15  FranchiseCode       456940 non-null  int64         \n",
      " 16  UrbanRural          456940 non-null  object        \n",
      " 17  RevLineCr           456940 non-null  int64         \n",
      " 18  LowDoc              456940 non-null  int64         \n",
      " 19  DisbursementDate    456940 non-null  datetime64[ns]\n",
      " 20  MIS_Status          456940 non-null  int64         \n",
      " 21  nIndustry           456940 non-null  object        \n",
      " 22  Industry            456940 non-null  object        \n",
      " 23  DisbursementGross   456940 non-null  float64       \n",
      " 24  BalanceGross        456940 non-null  float64       \n",
      " 25  ChgOffPrinGr        456940 non-null  float64       \n",
      " 26  GrAppv              456940 non-null  float64       \n",
      " 27  SBA_Appv            456940 non-null  float64       \n",
      " 28  NewBusiness         456940 non-null  float64       \n",
      " 29  IsFranchise         456940 non-null  float64       \n",
      " 30  StateSame           456940 non-null  int64         \n",
      " 31  SBA_AppvPct         456940 non-null  int64         \n",
      " 32  AppvDisbursed       456940 non-null  int64         \n",
      " 33  DaysToDisbursement  456940 non-null  int64         \n",
      " 34  DisbursementFY      456940 non-null  int64         \n",
      " 35  Default             456940 non-null  float64       \n",
      "dtypes: datetime64[ns](2), float64(8), int64(17), object(9)\n",
      "memory usage: 129.0+ MB\n"
     ]
    }
   ],
   "source": [
    "credit.info()"
   ]
  },
  {
   "cell_type": "code",
   "execution_count": 63,
   "metadata": {
    "colab": {
     "base_uri": "https://localhost:8080/"
    },
    "id": "8wHANATRIpnQ",
    "outputId": "ec3eb75d-f260-4407-82fa-255654b01dc1"
   },
   "outputs": [
    {
     "data": {
      "text/plain": [
       "LoanNr_ChkDgt                  int64\n",
       "Name                          object\n",
       "City                          object\n",
       "State                         object\n",
       "Zip                           object\n",
       "Bank                          object\n",
       "BankState                     object\n",
       "NAICS                          int64\n",
       "ApprovalDate          datetime64[ns]\n",
       "ApprovalFY                     int64\n",
       "Term                           int64\n",
       "NoEmp                          int64\n",
       "NewExist                       int64\n",
       "CreateJob                      int64\n",
       "RetainedJob                    int64\n",
       "FranchiseCode                  int64\n",
       "UrbanRural                    object\n",
       "RevLineCr                      int64\n",
       "LowDoc                         int64\n",
       "DisbursementDate      datetime64[ns]\n",
       "MIS_Status                     int64\n",
       "nIndustry                     object\n",
       "Industry                      object\n",
       "DisbursementGross            float64\n",
       "BalanceGross                 float64\n",
       "ChgOffPrinGr                 float64\n",
       "GrAppv                       float64\n",
       "SBA_Appv                     float64\n",
       "NewBusiness                    int64\n",
       "IsFranchise                    int64\n",
       "StateSame                      int64\n",
       "SBA_AppvPct                    int64\n",
       "AppvDisbursed                  int64\n",
       "DaysToDisbursement             int64\n",
       "DisbursementFY                 int64\n",
       "Default                      float64\n",
       "dtype: object"
      ]
     },
     "execution_count": 63,
     "metadata": {},
     "output_type": "execute_result"
    }
   ],
   "source": [
    "#Format dtypes where necessary after feature engineering\n",
    "credit = credit.astype({'IsFranchise': 'int64', 'NewBusiness': 'int64'})\n",
    "credit.dtypes"
   ]
  },
  {
   "cell_type": "code",
   "execution_count": 64,
   "metadata": {
    "id": "ATOXh4zsIpnU"
   },
   "outputs": [],
   "source": [
    "credit['RealEstate'] = np.where(credit['Term'] >= 240, 1, 0)"
   ]
  },
  {
   "cell_type": "code",
   "execution_count": 65,
   "metadata": {
    "id": "l9YAomOUIpnV"
   },
   "outputs": [],
   "source": [
    "credit_2007_till_2009 = (credit['DisbursementFY']>=2007) & (credit['DisbursementFY']<=2009 )\n",
    "credit['Recession']=np.where(credit_2007_till_2009, 1,0)"
   ]
  },
  {
   "cell_type": "code",
   "execution_count": 66,
   "metadata": {
    "colab": {
     "base_uri": "https://localhost:8080/",
     "height": 419
    },
    "id": "5wKQde8ETIJ-",
    "outputId": "4d066cc8-b13b-4194-ea55-104e325098dd"
   },
   "outputs": [
    {
     "data": {
      "text/html": [
       "<div>\n",
       "<style scoped>\n",
       "    .dataframe tbody tr th:only-of-type {\n",
       "        vertical-align: middle;\n",
       "    }\n",
       "\n",
       "    .dataframe tbody tr th {\n",
       "        vertical-align: top;\n",
       "    }\n",
       "\n",
       "    .dataframe thead th {\n",
       "        text-align: right;\n",
       "    }\n",
       "</style>\n",
       "<table border=\"1\" class=\"dataframe\">\n",
       "  <thead>\n",
       "    <tr style=\"text-align: right;\">\n",
       "      <th></th>\n",
       "      <th>DisbursementFY</th>\n",
       "      <th>Recession</th>\n",
       "    </tr>\n",
       "  </thead>\n",
       "  <tbody>\n",
       "    <tr>\n",
       "      <th>959</th>\n",
       "      <td>2009</td>\n",
       "      <td>1</td>\n",
       "    </tr>\n",
       "    <tr>\n",
       "      <th>1021</th>\n",
       "      <td>2009</td>\n",
       "      <td>1</td>\n",
       "    </tr>\n",
       "    <tr>\n",
       "      <th>1176</th>\n",
       "      <td>2009</td>\n",
       "      <td>1</td>\n",
       "    </tr>\n",
       "    <tr>\n",
       "      <th>5697</th>\n",
       "      <td>2009</td>\n",
       "      <td>1</td>\n",
       "    </tr>\n",
       "    <tr>\n",
       "      <th>5888</th>\n",
       "      <td>2009</td>\n",
       "      <td>1</td>\n",
       "    </tr>\n",
       "    <tr>\n",
       "      <th>...</th>\n",
       "      <td>...</td>\n",
       "      <td>...</td>\n",
       "    </tr>\n",
       "    <tr>\n",
       "      <th>874152</th>\n",
       "      <td>2009</td>\n",
       "      <td>1</td>\n",
       "    </tr>\n",
       "    <tr>\n",
       "      <th>876348</th>\n",
       "      <td>2009</td>\n",
       "      <td>1</td>\n",
       "    </tr>\n",
       "    <tr>\n",
       "      <th>876635</th>\n",
       "      <td>2009</td>\n",
       "      <td>1</td>\n",
       "    </tr>\n",
       "    <tr>\n",
       "      <th>886586</th>\n",
       "      <td>2009</td>\n",
       "      <td>1</td>\n",
       "    </tr>\n",
       "    <tr>\n",
       "      <th>890370</th>\n",
       "      <td>2009</td>\n",
       "      <td>1</td>\n",
       "    </tr>\n",
       "  </tbody>\n",
       "</table>\n",
       "<p>18525 rows × 2 columns</p>\n",
       "</div>"
      ],
      "text/plain": [
       "        DisbursementFY  Recession\n",
       "959               2009          1\n",
       "1021              2009          1\n",
       "1176              2009          1\n",
       "5697              2009          1\n",
       "5888              2009          1\n",
       "...                ...        ...\n",
       "874152            2009          1\n",
       "876348            2009          1\n",
       "876635            2009          1\n",
       "886586            2009          1\n",
       "890370            2009          1\n",
       "\n",
       "[18525 rows x 2 columns]"
      ]
     },
     "execution_count": 66,
     "metadata": {},
     "output_type": "execute_result"
    }
   ],
   "source": [
    "credit[credit['DisbursementFY'] ==2009][['DisbursementFY', 'Recession']]"
   ]
  },
  {
   "cell_type": "code",
   "execution_count": 67,
   "metadata": {
    "colab": {
     "base_uri": "https://localhost:8080/",
     "height": 394
    },
    "id": "TJtyFHm2IP4s",
    "outputId": "9935afea-2fb4-490f-cde7-a76a4701c937"
   },
   "outputs": [
    {
     "data": {
      "text/html": [
       "<div>\n",
       "<style scoped>\n",
       "    .dataframe tbody tr th:only-of-type {\n",
       "        vertical-align: middle;\n",
       "    }\n",
       "\n",
       "    .dataframe tbody tr th {\n",
       "        vertical-align: top;\n",
       "    }\n",
       "\n",
       "    .dataframe thead th {\n",
       "        text-align: right;\n",
       "    }\n",
       "</style>\n",
       "<table border=\"1\" class=\"dataframe\">\n",
       "  <thead>\n",
       "    <tr style=\"text-align: right;\">\n",
       "      <th></th>\n",
       "      <th>LoanNr_ChkDgt</th>\n",
       "      <th>Name</th>\n",
       "      <th>City</th>\n",
       "      <th>State</th>\n",
       "      <th>Zip</th>\n",
       "      <th>Bank</th>\n",
       "      <th>BankState</th>\n",
       "      <th>NAICS</th>\n",
       "      <th>ApprovalDate</th>\n",
       "      <th>ApprovalFY</th>\n",
       "      <th>...</th>\n",
       "      <th>NewBusiness</th>\n",
       "      <th>IsFranchise</th>\n",
       "      <th>StateSame</th>\n",
       "      <th>SBA_AppvPct</th>\n",
       "      <th>AppvDisbursed</th>\n",
       "      <th>DaysToDisbursement</th>\n",
       "      <th>DisbursementFY</th>\n",
       "      <th>Default</th>\n",
       "      <th>RealEstate</th>\n",
       "      <th>Recession</th>\n",
       "    </tr>\n",
       "  </thead>\n",
       "  <tbody>\n",
       "    <tr>\n",
       "      <th>899145</th>\n",
       "      <td>9995233007</td>\n",
       "      <td>M L B CONSTRUCTION, INC.</td>\n",
       "      <td>ELLICOTT</td>\n",
       "      <td>MD</td>\n",
       "      <td>21043</td>\n",
       "      <td>WELLS FARGO BANK NATL ASSOC</td>\n",
       "      <td>CA</td>\n",
       "      <td>233210</td>\n",
       "      <td>1997-02-27</td>\n",
       "      <td>1997</td>\n",
       "      <td>...</td>\n",
       "      <td>0</td>\n",
       "      <td>0</td>\n",
       "      <td>0</td>\n",
       "      <td>0</td>\n",
       "      <td>1</td>\n",
       "      <td>32</td>\n",
       "      <td>1997</td>\n",
       "      <td>0.0</td>\n",
       "      <td>0</td>\n",
       "      <td>0</td>\n",
       "    </tr>\n",
       "    <tr>\n",
       "      <th>899146</th>\n",
       "      <td>9995263005</td>\n",
       "      <td>HILL AND SONS INC.</td>\n",
       "      <td>OAKLAND</td>\n",
       "      <td>CA</td>\n",
       "      <td>94603</td>\n",
       "      <td>MORTGAGE CAP. DEVEL CORP</td>\n",
       "      <td>CA</td>\n",
       "      <td>323111</td>\n",
       "      <td>1997-02-27</td>\n",
       "      <td>1997</td>\n",
       "      <td>...</td>\n",
       "      <td>0</td>\n",
       "      <td>0</td>\n",
       "      <td>1</td>\n",
       "      <td>1</td>\n",
       "      <td>1</td>\n",
       "      <td>167</td>\n",
       "      <td>1997</td>\n",
       "      <td>0.0</td>\n",
       "      <td>1</td>\n",
       "      <td>0</td>\n",
       "    </tr>\n",
       "    <tr>\n",
       "      <th>899157</th>\n",
       "      <td>9995493004</td>\n",
       "      <td>PULLTARPS MFG.</td>\n",
       "      <td>EL CAJON</td>\n",
       "      <td>CA</td>\n",
       "      <td>92020</td>\n",
       "      <td>U.S. BANK NATIONAL ASSOCIATION</td>\n",
       "      <td>CA</td>\n",
       "      <td>314912</td>\n",
       "      <td>1997-02-27</td>\n",
       "      <td>1997</td>\n",
       "      <td>...</td>\n",
       "      <td>0</td>\n",
       "      <td>0</td>\n",
       "      <td>1</td>\n",
       "      <td>0</td>\n",
       "      <td>1</td>\n",
       "      <td>32</td>\n",
       "      <td>1997</td>\n",
       "      <td>0.0</td>\n",
       "      <td>0</td>\n",
       "      <td>0</td>\n",
       "    </tr>\n",
       "    <tr>\n",
       "      <th>899160</th>\n",
       "      <td>9995603000</td>\n",
       "      <td>FABRIC FARMS</td>\n",
       "      <td>COLUMBUS</td>\n",
       "      <td>OH</td>\n",
       "      <td>43221</td>\n",
       "      <td>JPMORGAN CHASE BANK NATL ASSOC</td>\n",
       "      <td>IL</td>\n",
       "      <td>451130</td>\n",
       "      <td>1997-02-27</td>\n",
       "      <td>1997</td>\n",
       "      <td>...</td>\n",
       "      <td>0</td>\n",
       "      <td>0</td>\n",
       "      <td>0</td>\n",
       "      <td>0</td>\n",
       "      <td>1</td>\n",
       "      <td>246</td>\n",
       "      <td>1997</td>\n",
       "      <td>0.0</td>\n",
       "      <td>0</td>\n",
       "      <td>0</td>\n",
       "    </tr>\n",
       "    <tr>\n",
       "      <th>899161</th>\n",
       "      <td>9995613003</td>\n",
       "      <td>RADCO MANUFACTURING CO.,INC.</td>\n",
       "      <td>SANTA MARIA</td>\n",
       "      <td>CA</td>\n",
       "      <td>93455</td>\n",
       "      <td>RABOBANK, NATIONAL ASSOCIATION</td>\n",
       "      <td>CA</td>\n",
       "      <td>332321</td>\n",
       "      <td>1997-02-27</td>\n",
       "      <td>1997</td>\n",
       "      <td>...</td>\n",
       "      <td>0</td>\n",
       "      <td>0</td>\n",
       "      <td>1</td>\n",
       "      <td>0</td>\n",
       "      <td>1</td>\n",
       "      <td>215</td>\n",
       "      <td>1997</td>\n",
       "      <td>0.0</td>\n",
       "      <td>0</td>\n",
       "      <td>0</td>\n",
       "    </tr>\n",
       "  </tbody>\n",
       "</table>\n",
       "<p>5 rows × 38 columns</p>\n",
       "</div>"
      ],
      "text/plain": [
       "        LoanNr_ChkDgt                          Name         City State    Zip  \\\n",
       "899145     9995233007      M L B CONSTRUCTION, INC.     ELLICOTT    MD  21043   \n",
       "899146     9995263005            HILL AND SONS INC.      OAKLAND    CA  94603   \n",
       "899157     9995493004                PULLTARPS MFG.     EL CAJON    CA  92020   \n",
       "899160     9995603000                  FABRIC FARMS     COLUMBUS    OH  43221   \n",
       "899161     9995613003  RADCO MANUFACTURING CO.,INC.  SANTA MARIA    CA  93455   \n",
       "\n",
       "                                  Bank BankState   NAICS ApprovalDate  \\\n",
       "899145     WELLS FARGO BANK NATL ASSOC        CA  233210   1997-02-27   \n",
       "899146        MORTGAGE CAP. DEVEL CORP        CA  323111   1997-02-27   \n",
       "899157  U.S. BANK NATIONAL ASSOCIATION        CA  314912   1997-02-27   \n",
       "899160  JPMORGAN CHASE BANK NATL ASSOC        IL  451130   1997-02-27   \n",
       "899161  RABOBANK, NATIONAL ASSOCIATION        CA  332321   1997-02-27   \n",
       "\n",
       "        ApprovalFY  ...  NewBusiness  IsFranchise  StateSame  SBA_AppvPct  \\\n",
       "899145        1997  ...            0            0          0            0   \n",
       "899146        1997  ...            0            0          1            1   \n",
       "899157        1997  ...            0            0          1            0   \n",
       "899160        1997  ...            0            0          0            0   \n",
       "899161        1997  ...            0            0          1            0   \n",
       "\n",
       "        AppvDisbursed  DaysToDisbursement DisbursementFY  Default  RealEstate  \\\n",
       "899145              1                  32           1997      0.0           0   \n",
       "899146              1                 167           1997      0.0           1   \n",
       "899157              1                  32           1997      0.0           0   \n",
       "899160              1                 246           1997      0.0           0   \n",
       "899161              1                 215           1997      0.0           0   \n",
       "\n",
       "       Recession  \n",
       "899145         0  \n",
       "899146         0  \n",
       "899157         0  \n",
       "899160         0  \n",
       "899161         0  \n",
       "\n",
       "[5 rows x 38 columns]"
      ]
     },
     "execution_count": 67,
     "metadata": {},
     "output_type": "execute_result"
    }
   ],
   "source": [
    "credit.tail()"
   ]
  },
  {
   "cell_type": "markdown",
   "metadata": {
    "id": "MR91ZuinIpnW"
   },
   "source": [
    "# Visualizations  and Analysis"
   ]
  },
  {
   "cell_type": "markdown",
   "metadata": {
    "id": "eptG2gXuIpnX"
   },
   "source": [
    "<h2> Total/Average disbursed loan amount by industry <h2>"
   ]
  },
  {
   "cell_type": "code",
   "execution_count": 68,
   "metadata": {
    "colab": {
     "base_uri": "https://localhost:8080/",
     "height": 322
    },
    "id": "UIt6EMqlIpnX",
    "outputId": "7b8b7737-258b-40e5-c1b4-406537853a14"
   },
   "outputs": [
    {
     "data": {
      "image/png": "[encoded data removed]",
      "text/plain": [
       "<Figure size 1800x360 with 2 Axes>"
      ]
     },
     "metadata": {
      "needs_background": "light"
     },
     "output_type": "display_data"
    },
    {
     "name": "stdout",
     "output_type": "stream",
     "text": [
      "None\n"
     ]
    }
   ],
   "source": [
    "\n",
    "# Create a groupby object on Industry for use in visualization\n",
    "industry_group = credit.groupby(['Industry'])\n",
    "\n",
    "# Data frames based on groupby by Industry looking at aggregate and average values\n",
    "credit_industrySum = industry_group.sum().sort_values('DisbursementGross', ascending=False)\n",
    "credit_industryAve = industry_group.mean().sort_values('DisbursementGross', ascending=False)\n",
    "\n",
    "# Establish figure for placing bar charts side-by-side\n",
    "fig = plt.figure(figsize=(25, 5))\n",
    "\n",
    "# Add subplots to figure to build 1x2 grid and specify position of each subplot\n",
    "ax1 = fig.add_subplot(1, 2, 1)\n",
    "ax2 = fig.add_subplot(1, 2, 2)\n",
    "\n",
    "# Bar chart 1 = Gross SBA Loan Disbursement by Industry \n",
    "ax1.bar(credit_industrySum.index, credit_industrySum['DisbursementGross'] / 1000000000)\n",
    "ax1.set_xticklabels(credit_industrySum.index, rotation=30, horizontalalignment='right', fontsize=10)\n",
    "\n",
    "ax1.set_title('Gross SBA Loan Disbursement by Industry from 1984-2010', fontsize=15)\n",
    "ax1.set_xlabel('Industry')\n",
    "ax1.set_ylabel('Gross Loan Disbursement (Billions)')\n",
    "\n",
    "# Bar chart 2 = Average SBA Loan Disbursement by Industry\n",
    "ax2.bar(credit_industryAve.index, credit_industryAve['DisbursementGross'])\n",
    "ax2.set_xticklabels(credit_industryAve.index, rotation=30, horizontalalignment='right', fontsize=10)\n",
    "\n",
    "ax2.set_title('Average SBA Loan Disbursement by Industry from 1984-2010', fontsize=15)\n",
    "ax2.set_xlabel('Industry')\n",
    "ax2.set_ylabel('Average Loan Disbursement')\n",
    "\n",
    "print(plt.show());"
   ]
  },
  {
   "cell_type": "markdown",
   "metadata": {
    "id": "OGLGv1XPIpna"
   },
   "source": [
    "<h1> Average days to disbursement by industry </h1>"
   ]
  },
  {
   "cell_type": "code",
   "execution_count": 69,
   "metadata": {
    "colab": {
     "base_uri": "https://localhost:8080/",
     "height": 436
    },
    "id": "VPyi0p-kIpnb",
    "outputId": "e0e3e59e-29f7-497a-b09f-a9941e4162e0"
   },
   "outputs": [
    {
     "data": {
      "image/png": "[encoded data removed]",
      "text/plain": [
       "<Figure size 1080x360 with 1 Axes>"
      ]
     },
     "metadata": {
      "needs_background": "light"
     },
     "output_type": "display_data"
    }
   ],
   "source": [
    "# Average days to disbursement by industry\n",
    "fig2, ax = plt.subplots(figsize=(15, 5))\n",
    "\n",
    "ax.bar(credit_industryAve.index, credit_industryAve['DaysToDisbursement'].sort_values(ascending=False))\n",
    "ax.set_xticklabels(credit_industryAve['DaysToDisbursement'].sort_values(ascending=False).index, rotation=35,\n",
    "                   horizontalalignment='right', fontsize=10)\n",
    "\n",
    "ax.set_title('Average Days to SBA Loan Disbursement by Industry from 1984-2010', fontsize=15)\n",
    "ax.set_xlabel('Industry')\n",
    "ax.set_ylabel('Average Days to Disbursement')\n",
    "\n",
    "plt.show();"
   ]
  },
  {
   "cell_type": "markdown",
   "metadata": {
    "id": "ie_FTfWKIpnb"
   },
   "source": [
    "<h1> Default Percentage by Industry </h1>"
   ]
  },
  {
   "cell_type": "code",
   "execution_count": 70,
   "metadata": {
    "colab": {
     "base_uri": "https://localhost:8080/"
    },
    "id": "uq2CXV7RIpnc",
    "outputId": "7190b0b2-e4b0-43ab-e196-b15ae964677a"
   },
   "outputs": [
    {
     "name": "stdout",
     "output_type": "stream",
     "text": [
      "Default                     0.0    1.0  Def_Percent\n",
      "Industry                                           \n",
      "Accom/Food_serv           25701   8565     0.249956\n",
      "Admin_sup/Waste_Mgmt_Rem  16537   5475     0.248728\n",
      "Ag/For/Fish/Hunt           6960    669     0.087692\n",
      "Arts/Entertain/Rec         7311   1953     0.210816\n",
      "Construction              37053  12185     0.247471\n",
      "Educational                2918   1087     0.271411\n",
      "Finance/Insurance          4232   2104     0.332071\n",
      "Healthcare/Social_assist  30878   3627     0.105115\n",
      "Information                5509   1843     0.250680\n",
      "Manufacturing             38187   7343     0.161278\n",
      "Mgmt_comp                    97     23     0.191667\n",
      "Min/Quar/Oil_Gas_ext       1234    119     0.087953\n",
      "Other_no_pub              35360   9439     0.210697\n",
      "Prof/Science/Tech         39290   9911     0.201439\n",
      "Public_Admin                153     30     0.163934\n",
      "RE/Rental/Lease            6441   3112     0.325762\n",
      "Retail_trade              61706  19246     0.237746\n",
      "Trans/Ware                10932   4472     0.290314\n",
      "Utilities                   355     79     0.182028\n",
      "Wholesale_trade           27704   7100     0.204000\n"
     ]
    }
   ],
   "source": [
    "# Check Default percentage by Industry\n",
    "def_ind = credit.groupby(['Industry', 'Default'])['Industry'].count().unstack('Default')\n",
    "def_ind['Def_Percent'] = def_ind[1]/ (def_ind[1] + def_ind[0])\n",
    "print(def_ind)"
   ]
  },
  {
   "cell_type": "code",
   "execution_count": 71,
   "metadata": {
    "id": "ALHdyb6SQHGK"
   },
   "outputs": [],
   "source": [
    "def_ind.reset_index(inplace=True)"
   ]
  },
  {
   "cell_type": "code",
   "execution_count": 72,
   "metadata": {
    "colab": {
     "base_uri": "https://localhost:8080/"
    },
    "id": "-CRDdN6MQHGL",
    "outputId": "42c1920a-7202-499f-ba40-ff6538c2b230"
   },
   "outputs": [
    {
     "data": {
      "text/plain": [
       "pandas.core.frame.DataFrame"
      ]
     },
     "execution_count": 72,
     "metadata": {},
     "output_type": "execute_result"
    }
   ],
   "source": [
    "type(def_ind)"
   ]
  },
  {
   "cell_type": "code",
   "execution_count": 73,
   "metadata": {
    "id": "KWHOD59sQHGL"
   },
   "outputs": [],
   "source": [
    "sns.set(rc={'figure.figsize':(11.7,8.27)})"
   ]
  },
  {
   "cell_type": "code",
   "execution_count": 74,
   "metadata": {
    "colab": {
     "base_uri": "https://localhost:8080/",
     "height": 672
    },
    "id": "GA3Hy0CBQHGL",
    "outputId": "a511c832-bf65-4bf3-fed3-704fc367a5bc"
   },
   "outputs": [
    {
     "data": {
      "image/png": "[encoded data removed]",
      "text/plain": [
       "<Figure size 842.4x595.44 with 1 Axes>"
      ]
     },
     "metadata": {},
     "output_type": "display_data"
    }
   ],
   "source": [
    "plot = sns.barplot(x='Industry', y='Def_Percent', data=def_ind, order=def_ind.sort_values('Def_Percent',ascending = False).Industry)\n",
    "plt.setp(plot.get_xticklabels(), rotation=90);"
   ]
  },
  {
   "cell_type": "markdown",
   "metadata": {
    "id": "Y5RBmQ2sIpnd"
   },
   "source": [
    "<h1> Default Percentage by State </h1>"
   ]
  },
  {
   "cell_type": "code",
   "execution_count": 75,
   "metadata": {
    "colab": {
     "base_uri": "https://localhost:8080/",
     "height": 1000
    },
    "id": "XMcxNHw3Ipnd",
    "outputId": "7b551a01-cda3-4d1f-945b-6e504e83933c"
   },
   "outputs": [
    {
     "data": {
      "text/html": [
       "<div>\n",
       "<style scoped>\n",
       "    .dataframe tbody tr th:only-of-type {\n",
       "        vertical-align: middle;\n",
       "    }\n",
       "\n",
       "    .dataframe tbody tr th {\n",
       "        vertical-align: top;\n",
       "    }\n",
       "\n",
       "    .dataframe thead th {\n",
       "        text-align: right;\n",
       "    }\n",
       "</style>\n",
       "<table border=\"1\" class=\"dataframe\">\n",
       "  <thead>\n",
       "    <tr style=\"text-align: right;\">\n",
       "      <th>Default</th>\n",
       "      <th>0.0</th>\n",
       "      <th>1.0</th>\n",
       "      <th>Def_Percent</th>\n",
       "    </tr>\n",
       "    <tr>\n",
       "      <th>State</th>\n",
       "      <th></th>\n",
       "      <th></th>\n",
       "      <th></th>\n",
       "    </tr>\n",
       "  </thead>\n",
       "  <tbody>\n",
       "    <tr>\n",
       "      <th>AK</th>\n",
       "      <td>1006</td>\n",
       "      <td>97</td>\n",
       "      <td>0.087942</td>\n",
       "    </tr>\n",
       "    <tr>\n",
       "      <th>AL</th>\n",
       "      <td>3299</td>\n",
       "      <td>816</td>\n",
       "      <td>0.198299</td>\n",
       "    </tr>\n",
       "    <tr>\n",
       "      <th>AR</th>\n",
       "      <td>2519</td>\n",
       "      <td>534</td>\n",
       "      <td>0.174910</td>\n",
       "    </tr>\n",
       "    <tr>\n",
       "      <th>AZ</th>\n",
       "      <td>5440</td>\n",
       "      <td>2504</td>\n",
       "      <td>0.315206</td>\n",
       "    </tr>\n",
       "    <tr>\n",
       "      <th>CA</th>\n",
       "      <td>45091</td>\n",
       "      <td>16296</td>\n",
       "      <td>0.265463</td>\n",
       "    </tr>\n",
       "    <tr>\n",
       "      <th>CO</th>\n",
       "      <td>7866</td>\n",
       "      <td>2381</td>\n",
       "      <td>0.232361</td>\n",
       "    </tr>\n",
       "    <tr>\n",
       "      <th>CT</th>\n",
       "      <td>5503</td>\n",
       "      <td>1074</td>\n",
       "      <td>0.163296</td>\n",
       "    </tr>\n",
       "    <tr>\n",
       "      <th>DC</th>\n",
       "      <td>592</td>\n",
       "      <td>158</td>\n",
       "      <td>0.210667</td>\n",
       "    </tr>\n",
       "    <tr>\n",
       "      <th>DE</th>\n",
       "      <td>873</td>\n",
       "      <td>249</td>\n",
       "      <td>0.221925</td>\n",
       "    </tr>\n",
       "    <tr>\n",
       "      <th>FL</th>\n",
       "      <td>15469</td>\n",
       "      <td>7641</td>\n",
       "      <td>0.330636</td>\n",
       "    </tr>\n",
       "    <tr>\n",
       "      <th>GA</th>\n",
       "      <td>7415</td>\n",
       "      <td>3156</td>\n",
       "      <td>0.298553</td>\n",
       "    </tr>\n",
       "    <tr>\n",
       "      <th>HI</th>\n",
       "      <td>1280</td>\n",
       "      <td>268</td>\n",
       "      <td>0.173127</td>\n",
       "    </tr>\n",
       "    <tr>\n",
       "      <th>IA</th>\n",
       "      <td>4795</td>\n",
       "      <td>580</td>\n",
       "      <td>0.107907</td>\n",
       "    </tr>\n",
       "    <tr>\n",
       "      <th>ID</th>\n",
       "      <td>4238</td>\n",
       "      <td>895</td>\n",
       "      <td>0.174362</td>\n",
       "    </tr>\n",
       "    <tr>\n",
       "      <th>IL</th>\n",
       "      <td>12156</td>\n",
       "      <td>4551</td>\n",
       "      <td>0.272401</td>\n",
       "    </tr>\n",
       "    <tr>\n",
       "      <th>IN</th>\n",
       "      <td>6325</td>\n",
       "      <td>1551</td>\n",
       "      <td>0.196927</td>\n",
       "    </tr>\n",
       "    <tr>\n",
       "      <th>KS</th>\n",
       "      <td>4480</td>\n",
       "      <td>646</td>\n",
       "      <td>0.126024</td>\n",
       "    </tr>\n",
       "    <tr>\n",
       "      <th>KY</th>\n",
       "      <td>3154</td>\n",
       "      <td>809</td>\n",
       "      <td>0.204138</td>\n",
       "    </tr>\n",
       "    <tr>\n",
       "      <th>LA</th>\n",
       "      <td>3409</td>\n",
       "      <td>791</td>\n",
       "      <td>0.188333</td>\n",
       "    </tr>\n",
       "    <tr>\n",
       "      <th>MA</th>\n",
       "      <td>12427</td>\n",
       "      <td>2303</td>\n",
       "      <td>0.156348</td>\n",
       "    </tr>\n",
       "    <tr>\n",
       "      <th>MD</th>\n",
       "      <td>5305</td>\n",
       "      <td>1446</td>\n",
       "      <td>0.214190</td>\n",
       "    </tr>\n",
       "    <tr>\n",
       "      <th>ME</th>\n",
       "      <td>2640</td>\n",
       "      <td>319</td>\n",
       "      <td>0.107807</td>\n",
       "    </tr>\n",
       "    <tr>\n",
       "      <th>MI</th>\n",
       "      <td>8600</td>\n",
       "      <td>3322</td>\n",
       "      <td>0.278645</td>\n",
       "    </tr>\n",
       "    <tr>\n",
       "      <th>MN</th>\n",
       "      <td>9822</td>\n",
       "      <td>1704</td>\n",
       "      <td>0.147840</td>\n",
       "    </tr>\n",
       "    <tr>\n",
       "      <th>MO</th>\n",
       "      <td>8078</td>\n",
       "      <td>1666</td>\n",
       "      <td>0.170977</td>\n",
       "    </tr>\n",
       "    <tr>\n",
       "      <th>MS</th>\n",
       "      <td>4007</td>\n",
       "      <td>695</td>\n",
       "      <td>0.147809</td>\n",
       "    </tr>\n",
       "    <tr>\n",
       "      <th>MT</th>\n",
       "      <td>3712</td>\n",
       "      <td>266</td>\n",
       "      <td>0.066868</td>\n",
       "    </tr>\n",
       "    <tr>\n",
       "      <th>NC</th>\n",
       "      <td>5281</td>\n",
       "      <td>1452</td>\n",
       "      <td>0.215654</td>\n",
       "    </tr>\n",
       "    <tr>\n",
       "      <th>ND</th>\n",
       "      <td>2448</td>\n",
       "      <td>176</td>\n",
       "      <td>0.067073</td>\n",
       "    </tr>\n",
       "    <tr>\n",
       "      <th>NE</th>\n",
       "      <td>2484</td>\n",
       "      <td>295</td>\n",
       "      <td>0.106153</td>\n",
       "    </tr>\n",
       "    <tr>\n",
       "      <th>NH</th>\n",
       "      <td>6144</td>\n",
       "      <td>930</td>\n",
       "      <td>0.131467</td>\n",
       "    </tr>\n",
       "    <tr>\n",
       "      <th>NJ</th>\n",
       "      <td>8530</td>\n",
       "      <td>3248</td>\n",
       "      <td>0.275768</td>\n",
       "    </tr>\n",
       "    <tr>\n",
       "      <th>NM</th>\n",
       "      <td>2506</td>\n",
       "      <td>325</td>\n",
       "      <td>0.114800</td>\n",
       "    </tr>\n",
       "    <tr>\n",
       "      <th>NV</th>\n",
       "      <td>2789</td>\n",
       "      <td>1255</td>\n",
       "      <td>0.310336</td>\n",
       "    </tr>\n",
       "    <tr>\n",
       "      <th>NY</th>\n",
       "      <td>25954</td>\n",
       "      <td>8311</td>\n",
       "      <td>0.242551</td>\n",
       "    </tr>\n",
       "    <tr>\n",
       "      <th>OH</th>\n",
       "      <td>15066</td>\n",
       "      <td>3655</td>\n",
       "      <td>0.195235</td>\n",
       "    </tr>\n",
       "    <tr>\n",
       "      <th>OK</th>\n",
       "      <td>4017</td>\n",
       "      <td>778</td>\n",
       "      <td>0.162252</td>\n",
       "    </tr>\n",
       "    <tr>\n",
       "      <th>OR</th>\n",
       "      <td>4811</td>\n",
       "      <td>1153</td>\n",
       "      <td>0.193327</td>\n",
       "    </tr>\n",
       "    <tr>\n",
       "      <th>PA</th>\n",
       "      <td>15550</td>\n",
       "      <td>3164</td>\n",
       "      <td>0.169071</td>\n",
       "    </tr>\n",
       "    <tr>\n",
       "      <th>RI</th>\n",
       "      <td>4336</td>\n",
       "      <td>733</td>\n",
       "      <td>0.144604</td>\n",
       "    </tr>\n",
       "    <tr>\n",
       "      <th>SC</th>\n",
       "      <td>2014</td>\n",
       "      <td>619</td>\n",
       "      <td>0.235093</td>\n",
       "    </tr>\n",
       "    <tr>\n",
       "      <th>SD</th>\n",
       "      <td>1836</td>\n",
       "      <td>135</td>\n",
       "      <td>0.068493</td>\n",
       "    </tr>\n",
       "    <tr>\n",
       "      <th>TN</th>\n",
       "      <td>3635</td>\n",
       "      <td>1011</td>\n",
       "      <td>0.217607</td>\n",
       "    </tr>\n",
       "    <tr>\n",
       "      <th>TX</th>\n",
       "      <td>23989</td>\n",
       "      <td>6317</td>\n",
       "      <td>0.208441</td>\n",
       "    </tr>\n",
       "    <tr>\n",
       "      <th>UT</th>\n",
       "      <td>9098</td>\n",
       "      <td>2638</td>\n",
       "      <td>0.224778</td>\n",
       "    </tr>\n",
       "    <tr>\n",
       "      <th>VA</th>\n",
       "      <td>5130</td>\n",
       "      <td>1389</td>\n",
       "      <td>0.213069</td>\n",
       "    </tr>\n",
       "    <tr>\n",
       "      <th>VT</th>\n",
       "      <td>2316</td>\n",
       "      <td>205</td>\n",
       "      <td>0.081317</td>\n",
       "    </tr>\n",
       "    <tr>\n",
       "      <th>WA</th>\n",
       "      <td>9491</td>\n",
       "      <td>2097</td>\n",
       "      <td>0.180963</td>\n",
       "    </tr>\n",
       "    <tr>\n",
       "      <th>WI</th>\n",
       "      <td>9175</td>\n",
       "      <td>1495</td>\n",
       "      <td>0.140112</td>\n",
       "    </tr>\n",
       "    <tr>\n",
       "      <th>WV</th>\n",
       "      <td>1257</td>\n",
       "      <td>213</td>\n",
       "      <td>0.144898</td>\n",
       "    </tr>\n",
       "    <tr>\n",
       "      <th>WY</th>\n",
       "      <td>1200</td>\n",
       "      <td>70</td>\n",
       "      <td>0.055118</td>\n",
       "    </tr>\n",
       "  </tbody>\n",
       "</table>\n",
       "</div>"
      ],
      "text/plain": [
       "Default    0.0    1.0  Def_Percent\n",
       "State                             \n",
       "AK        1006     97     0.087942\n",
       "AL        3299    816     0.198299\n",
       "AR        2519    534     0.174910\n",
       "AZ        5440   2504     0.315206\n",
       "CA       45091  16296     0.265463\n",
       "CO        7866   2381     0.232361\n",
       "CT        5503   1074     0.163296\n",
       "DC         592    158     0.210667\n",
       "DE         873    249     0.221925\n",
       "FL       15469   7641     0.330636\n",
       "GA        7415   3156     0.298553\n",
       "HI        1280    268     0.173127\n",
       "IA        4795    580     0.107907\n",
       "ID        4238    895     0.174362\n",
       "IL       12156   4551     0.272401\n",
       "IN        6325   1551     0.196927\n",
       "KS        4480    646     0.126024\n",
       "KY        3154    809     0.204138\n",
       "LA        3409    791     0.188333\n",
       "MA       12427   2303     0.156348\n",
       "MD        5305   1446     0.214190\n",
       "ME        2640    319     0.107807\n",
       "MI        8600   3322     0.278645\n",
       "MN        9822   1704     0.147840\n",
       "MO        8078   1666     0.170977\n",
       "MS        4007    695     0.147809\n",
       "MT        3712    266     0.066868\n",
       "NC        5281   1452     0.215654\n",
       "ND        2448    176     0.067073\n",
       "NE        2484    295     0.106153\n",
       "NH        6144    930     0.131467\n",
       "NJ        8530   3248     0.275768\n",
       "NM        2506    325     0.114800\n",
       "NV        2789   1255     0.310336\n",
       "NY       25954   8311     0.242551\n",
       "OH       15066   3655     0.195235\n",
       "OK        4017    778     0.162252\n",
       "OR        4811   1153     0.193327\n",
       "PA       15550   3164     0.169071\n",
       "RI        4336    733     0.144604\n",
       "SC        2014    619     0.235093\n",
       "SD        1836    135     0.068493\n",
       "TN        3635   1011     0.217607\n",
       "TX       23989   6317     0.208441\n",
       "UT        9098   2638     0.224778\n",
       "VA        5130   1389     0.213069\n",
       "VT        2316    205     0.081317\n",
       "WA        9491   2097     0.180963\n",
       "WI        9175   1495     0.140112\n",
       "WV        1257    213     0.144898\n",
       "WY        1200     70     0.055118"
      ]
     },
     "execution_count": 75,
     "metadata": {},
     "output_type": "execute_result"
    }
   ],
   "source": [
    "# Check Default percentage by State\n",
    "def_state = credit.groupby(['State', 'Default'])['State'].count().unstack('Default')\n",
    "def_state['Def_Percent'] = def_state[1]/(def_state[1] + def_state[0])\n",
    "def_state"
   ]
  },
  {
   "cell_type": "code",
   "execution_count": 76,
   "metadata": {
    "colab": {
     "base_uri": "https://localhost:8080/"
    },
    "id": "RyByf9I-TIJ_",
    "outputId": "d8eb1670-cc83-44bb-ac2b-2292fba96fe7"
   },
   "outputs": [
    {
     "name": "stdout",
     "output_type": "stream",
     "text": [
      "Index([0.0, 1.0, 'Def_Percent'], dtype='object', name='Default')\n"
     ]
    }
   ],
   "source": [
    "print(def_state.columns) "
   ]
  },
  {
   "cell_type": "code",
   "execution_count": 77,
   "metadata": {
    "id": "yv5tOj2bTIJ_"
   },
   "outputs": [],
   "source": [
    "df_new = def_state.values "
   ]
  },
  {
   "cell_type": "code",
   "execution_count": 78,
   "metadata": {
    "id": "TFjvtGkjQHGL"
   },
   "outputs": [],
   "source": [
    "mapdf = pd.DataFrame(data = df_new, columns =['0', '1', 'Def_Percent'])"
   ]
  },
  {
   "cell_type": "code",
   "execution_count": 79,
   "metadata": {
    "id": "lvj34wtCQHGL"
   },
   "outputs": [],
   "source": [
    "states_US = [\"AK\", \"AL\", \"AR\", \"AZ\", \"CA\", \"CO\", \"CT\", \"DC\", \"DE\", \"FL\", \"GA\", \n",
    "          \"HI\",\"IA\", \"ID\", \"IL\", \"IN\", \"KS\", \"KY\", \"LA\",\"MA\", \"MD\", \"ME\", \n",
    "          \"MI\", \"MN\", \"MO\", \"MS\", \"MT\",\"NC\", \"ND\",\"NE\", \"NH\", \"NJ\", \n",
    "          \"NM\", \"NV\",\"NY\", \"OH\", \"OK\", \"OR\", \"PA\", \"RI\", \"SC\", \n",
    "          \"SD\", \"TN\", \"TX\", \"UT\", \"VA\",\"VT\",\"WA\", \"WI\",\"WV\", \"WY\"] "
   ]
  },
  {
   "cell_type": "code",
   "execution_count": 80,
   "metadata": {
    "id": "9ai66GZHQHGL"
   },
   "outputs": [],
   "source": [
    "from pandas import DataFrame\n",
    "dfstates_US = DataFrame(states_US,columns=['US_States']) "
   ]
  },
  {
   "cell_type": "code",
   "execution_count": 81,
   "metadata": {
    "id": "jsog-ljWQHGL"
   },
   "outputs": [],
   "source": [
    "mapdf['States'] = pd.DataFrame(dfstates_US) "
   ]
  },
  {
   "cell_type": "code",
   "execution_count": 82,
   "metadata": {
    "colab": {
     "base_uri": "https://localhost:8080/",
     "height": 1000
    },
    "id": "tTGuTVu_QHGL",
    "outputId": "9c1806d9-9238-48e6-e763-2cce54dffd2b"
   },
   "outputs": [
    {
     "data": {
      "text/html": [
       "<div>\n",
       "<style scoped>\n",
       "    .dataframe tbody tr th:only-of-type {\n",
       "        vertical-align: middle;\n",
       "    }\n",
       "\n",
       "    .dataframe tbody tr th {\n",
       "        vertical-align: top;\n",
       "    }\n",
       "\n",
       "    .dataframe thead th {\n",
       "        text-align: right;\n",
       "    }\n",
       "</style>\n",
       "<table border=\"1\" class=\"dataframe\">\n",
       "  <thead>\n",
       "    <tr style=\"text-align: right;\">\n",
       "      <th></th>\n",
       "      <th>0</th>\n",
       "      <th>1</th>\n",
       "      <th>Def_Percent</th>\n",
       "      <th>States</th>\n",
       "    </tr>\n",
       "  </thead>\n",
       "  <tbody>\n",
       "    <tr>\n",
       "      <th>0</th>\n",
       "      <td>1006.0</td>\n",
       "      <td>97.0</td>\n",
       "      <td>0.087942</td>\n",
       "      <td>AK</td>\n",
       "    </tr>\n",
       "    <tr>\n",
       "      <th>1</th>\n",
       "      <td>3299.0</td>\n",
       "      <td>816.0</td>\n",
       "      <td>0.198299</td>\n",
       "      <td>AL</td>\n",
       "    </tr>\n",
       "    <tr>\n",
       "      <th>2</th>\n",
       "      <td>2519.0</td>\n",
       "      <td>534.0</td>\n",
       "      <td>0.174910</td>\n",
       "      <td>AR</td>\n",
       "    </tr>\n",
       "    <tr>\n",
       "      <th>3</th>\n",
       "      <td>5440.0</td>\n",
       "      <td>2504.0</td>\n",
       "      <td>0.315206</td>\n",
       "      <td>AZ</td>\n",
       "    </tr>\n",
       "    <tr>\n",
       "      <th>4</th>\n",
       "      <td>45091.0</td>\n",
       "      <td>16296.0</td>\n",
       "      <td>0.265463</td>\n",
       "      <td>CA</td>\n",
       "    </tr>\n",
       "    <tr>\n",
       "      <th>5</th>\n",
       "      <td>7866.0</td>\n",
       "      <td>2381.0</td>\n",
       "      <td>0.232361</td>\n",
       "      <td>CO</td>\n",
       "    </tr>\n",
       "    <tr>\n",
       "      <th>6</th>\n",
       "      <td>5503.0</td>\n",
       "      <td>1074.0</td>\n",
       "      <td>0.163296</td>\n",
       "      <td>CT</td>\n",
       "    </tr>\n",
       "    <tr>\n",
       "      <th>7</th>\n",
       "      <td>592.0</td>\n",
       "      <td>158.0</td>\n",
       "      <td>0.210667</td>\n",
       "      <td>DC</td>\n",
       "    </tr>\n",
       "    <tr>\n",
       "      <th>8</th>\n",
       "      <td>873.0</td>\n",
       "      <td>249.0</td>\n",
       "      <td>0.221925</td>\n",
       "      <td>DE</td>\n",
       "    </tr>\n",
       "    <tr>\n",
       "      <th>9</th>\n",
       "      <td>15469.0</td>\n",
       "      <td>7641.0</td>\n",
       "      <td>0.330636</td>\n",
       "      <td>FL</td>\n",
       "    </tr>\n",
       "    <tr>\n",
       "      <th>10</th>\n",
       "      <td>7415.0</td>\n",
       "      <td>3156.0</td>\n",
       "      <td>0.298553</td>\n",
       "      <td>GA</td>\n",
       "    </tr>\n",
       "    <tr>\n",
       "      <th>11</th>\n",
       "      <td>1280.0</td>\n",
       "      <td>268.0</td>\n",
       "      <td>0.173127</td>\n",
       "      <td>HI</td>\n",
       "    </tr>\n",
       "    <tr>\n",
       "      <th>12</th>\n",
       "      <td>4795.0</td>\n",
       "      <td>580.0</td>\n",
       "      <td>0.107907</td>\n",
       "      <td>IA</td>\n",
       "    </tr>\n",
       "    <tr>\n",
       "      <th>13</th>\n",
       "      <td>4238.0</td>\n",
       "      <td>895.0</td>\n",
       "      <td>0.174362</td>\n",
       "      <td>ID</td>\n",
       "    </tr>\n",
       "    <tr>\n",
       "      <th>14</th>\n",
       "      <td>12156.0</td>\n",
       "      <td>4551.0</td>\n",
       "      <td>0.272401</td>\n",
       "      <td>IL</td>\n",
       "    </tr>\n",
       "    <tr>\n",
       "      <th>15</th>\n",
       "      <td>6325.0</td>\n",
       "      <td>1551.0</td>\n",
       "      <td>0.196927</td>\n",
       "      <td>IN</td>\n",
       "    </tr>\n",
       "    <tr>\n",
       "      <th>16</th>\n",
       "      <td>4480.0</td>\n",
       "      <td>646.0</td>\n",
       "      <td>0.126024</td>\n",
       "      <td>KS</td>\n",
       "    </tr>\n",
       "    <tr>\n",
       "      <th>17</th>\n",
       "      <td>3154.0</td>\n",
       "      <td>809.0</td>\n",
       "      <td>0.204138</td>\n",
       "      <td>KY</td>\n",
       "    </tr>\n",
       "    <tr>\n",
       "      <th>18</th>\n",
       "      <td>3409.0</td>\n",
       "      <td>791.0</td>\n",
       "      <td>0.188333</td>\n",
       "      <td>LA</td>\n",
       "    </tr>\n",
       "    <tr>\n",
       "      <th>19</th>\n",
       "      <td>12427.0</td>\n",
       "      <td>2303.0</td>\n",
       "      <td>0.156348</td>\n",
       "      <td>MA</td>\n",
       "    </tr>\n",
       "    <tr>\n",
       "      <th>20</th>\n",
       "      <td>5305.0</td>\n",
       "      <td>1446.0</td>\n",
       "      <td>0.214190</td>\n",
       "      <td>MD</td>\n",
       "    </tr>\n",
       "    <tr>\n",
       "      <th>21</th>\n",
       "      <td>2640.0</td>\n",
       "      <td>319.0</td>\n",
       "      <td>0.107807</td>\n",
       "      <td>ME</td>\n",
       "    </tr>\n",
       "    <tr>\n",
       "      <th>22</th>\n",
       "      <td>8600.0</td>\n",
       "      <td>3322.0</td>\n",
       "      <td>0.278645</td>\n",
       "      <td>MI</td>\n",
       "    </tr>\n",
       "    <tr>\n",
       "      <th>23</th>\n",
       "      <td>9822.0</td>\n",
       "      <td>1704.0</td>\n",
       "      <td>0.147840</td>\n",
       "      <td>MN</td>\n",
       "    </tr>\n",
       "    <tr>\n",
       "      <th>24</th>\n",
       "      <td>8078.0</td>\n",
       "      <td>1666.0</td>\n",
       "      <td>0.170977</td>\n",
       "      <td>MO</td>\n",
       "    </tr>\n",
       "    <tr>\n",
       "      <th>25</th>\n",
       "      <td>4007.0</td>\n",
       "      <td>695.0</td>\n",
       "      <td>0.147809</td>\n",
       "      <td>MS</td>\n",
       "    </tr>\n",
       "    <tr>\n",
       "      <th>26</th>\n",
       "      <td>3712.0</td>\n",
       "      <td>266.0</td>\n",
       "      <td>0.066868</td>\n",
       "      <td>MT</td>\n",
       "    </tr>\n",
       "    <tr>\n",
       "      <th>27</th>\n",
       "      <td>5281.0</td>\n",
       "      <td>1452.0</td>\n",
       "      <td>0.215654</td>\n",
       "      <td>NC</td>\n",
       "    </tr>\n",
       "    <tr>\n",
       "      <th>28</th>\n",
       "      <td>2448.0</td>\n",
       "      <td>176.0</td>\n",
       "      <td>0.067073</td>\n",
       "      <td>ND</td>\n",
       "    </tr>\n",
       "    <tr>\n",
       "      <th>29</th>\n",
       "      <td>2484.0</td>\n",
       "      <td>295.0</td>\n",
       "      <td>0.106153</td>\n",
       "      <td>NE</td>\n",
       "    </tr>\n",
       "    <tr>\n",
       "      <th>30</th>\n",
       "      <td>6144.0</td>\n",
       "      <td>930.0</td>\n",
       "      <td>0.131467</td>\n",
       "      <td>NH</td>\n",
       "    </tr>\n",
       "    <tr>\n",
       "      <th>31</th>\n",
       "      <td>8530.0</td>\n",
       "      <td>3248.0</td>\n",
       "      <td>0.275768</td>\n",
       "      <td>NJ</td>\n",
       "    </tr>\n",
       "    <tr>\n",
       "      <th>32</th>\n",
       "      <td>2506.0</td>\n",
       "      <td>325.0</td>\n",
       "      <td>0.114800</td>\n",
       "      <td>NM</td>\n",
       "    </tr>\n",
       "    <tr>\n",
       "      <th>33</th>\n",
       "      <td>2789.0</td>\n",
       "      <td>1255.0</td>\n",
       "      <td>0.310336</td>\n",
       "      <td>NV</td>\n",
       "    </tr>\n",
       "    <tr>\n",
       "      <th>34</th>\n",
       "      <td>25954.0</td>\n",
       "      <td>8311.0</td>\n",
       "      <td>0.242551</td>\n",
       "      <td>NY</td>\n",
       "    </tr>\n",
       "    <tr>\n",
       "      <th>35</th>\n",
       "      <td>15066.0</td>\n",
       "      <td>3655.0</td>\n",
       "      <td>0.195235</td>\n",
       "      <td>OH</td>\n",
       "    </tr>\n",
       "    <tr>\n",
       "      <th>36</th>\n",
       "      <td>4017.0</td>\n",
       "      <td>778.0</td>\n",
       "      <td>0.162252</td>\n",
       "      <td>OK</td>\n",
       "    </tr>\n",
       "    <tr>\n",
       "      <th>37</th>\n",
       "      <td>4811.0</td>\n",
       "      <td>1153.0</td>\n",
       "      <td>0.193327</td>\n",
       "      <td>OR</td>\n",
       "    </tr>\n",
       "    <tr>\n",
       "      <th>38</th>\n",
       "      <td>15550.0</td>\n",
       "      <td>3164.0</td>\n",
       "      <td>0.169071</td>\n",
       "      <td>PA</td>\n",
       "    </tr>\n",
       "    <tr>\n",
       "      <th>39</th>\n",
       "      <td>4336.0</td>\n",
       "      <td>733.0</td>\n",
       "      <td>0.144604</td>\n",
       "      <td>RI</td>\n",
       "    </tr>\n",
       "    <tr>\n",
       "      <th>40</th>\n",
       "      <td>2014.0</td>\n",
       "      <td>619.0</td>\n",
       "      <td>0.235093</td>\n",
       "      <td>SC</td>\n",
       "    </tr>\n",
       "    <tr>\n",
       "      <th>41</th>\n",
       "      <td>1836.0</td>\n",
       "      <td>135.0</td>\n",
       "      <td>0.068493</td>\n",
       "      <td>SD</td>\n",
       "    </tr>\n",
       "    <tr>\n",
       "      <th>42</th>\n",
       "      <td>3635.0</td>\n",
       "      <td>1011.0</td>\n",
       "      <td>0.217607</td>\n",
       "      <td>TN</td>\n",
       "    </tr>\n",
       "    <tr>\n",
       "      <th>43</th>\n",
       "      <td>23989.0</td>\n",
       "      <td>6317.0</td>\n",
       "      <td>0.208441</td>\n",
       "      <td>TX</td>\n",
       "    </tr>\n",
       "    <tr>\n",
       "      <th>44</th>\n",
       "      <td>9098.0</td>\n",
       "      <td>2638.0</td>\n",
       "      <td>0.224778</td>\n",
       "      <td>UT</td>\n",
       "    </tr>\n",
       "    <tr>\n",
       "      <th>45</th>\n",
       "      <td>5130.0</td>\n",
       "      <td>1389.0</td>\n",
       "      <td>0.213069</td>\n",
       "      <td>VA</td>\n",
       "    </tr>\n",
       "    <tr>\n",
       "      <th>46</th>\n",
       "      <td>2316.0</td>\n",
       "      <td>205.0</td>\n",
       "      <td>0.081317</td>\n",
       "      <td>VT</td>\n",
       "    </tr>\n",
       "    <tr>\n",
       "      <th>47</th>\n",
       "      <td>9491.0</td>\n",
       "      <td>2097.0</td>\n",
       "      <td>0.180963</td>\n",
       "      <td>WA</td>\n",
       "    </tr>\n",
       "    <tr>\n",
       "      <th>48</th>\n",
       "      <td>9175.0</td>\n",
       "      <td>1495.0</td>\n",
       "      <td>0.140112</td>\n",
       "      <td>WI</td>\n",
       "    </tr>\n",
       "    <tr>\n",
       "      <th>49</th>\n",
       "      <td>1257.0</td>\n",
       "      <td>213.0</td>\n",
       "      <td>0.144898</td>\n",
       "      <td>WV</td>\n",
       "    </tr>\n",
       "    <tr>\n",
       "      <th>50</th>\n",
       "      <td>1200.0</td>\n",
       "      <td>70.0</td>\n",
       "      <td>0.055118</td>\n",
       "      <td>WY</td>\n",
       "    </tr>\n",
       "  </tbody>\n",
       "</table>\n",
       "</div>"
      ],
      "text/plain": [
       "          0        1  Def_Percent States\n",
       "0    1006.0     97.0     0.087942     AK\n",
       "1    3299.0    816.0     0.198299     AL\n",
       "2    2519.0    534.0     0.174910     AR\n",
       "3    5440.0   2504.0     0.315206     AZ\n",
       "4   45091.0  16296.0     0.265463     CA\n",
       "5    7866.0   2381.0     0.232361     CO\n",
       "6    5503.0   1074.0     0.163296     CT\n",
       "7     592.0    158.0     0.210667     DC\n",
       "8     873.0    249.0     0.221925     DE\n",
       "9   15469.0   7641.0     0.330636     FL\n",
       "10   7415.0   3156.0     0.298553     GA\n",
       "11   1280.0    268.0     0.173127     HI\n",
       "12   4795.0    580.0     0.107907     IA\n",
       "13   4238.0    895.0     0.174362     ID\n",
       "14  12156.0   4551.0     0.272401     IL\n",
       "15   6325.0   1551.0     0.196927     IN\n",
       "16   4480.0    646.0     0.126024     KS\n",
       "17   3154.0    809.0     0.204138     KY\n",
       "18   3409.0    791.0     0.188333     LA\n",
       "19  12427.0   2303.0     0.156348     MA\n",
       "20   5305.0   1446.0     0.214190     MD\n",
       "21   2640.0    319.0     0.107807     ME\n",
       "22   8600.0   3322.0     0.278645     MI\n",
       "23   9822.0   1704.0     0.147840     MN\n",
       "24   8078.0   1666.0     0.170977     MO\n",
       "25   4007.0    695.0     0.147809     MS\n",
       "26   3712.0    266.0     0.066868     MT\n",
       "27   5281.0   1452.0     0.215654     NC\n",
       "28   2448.0    176.0     0.067073     ND\n",
       "29   2484.0    295.0     0.106153     NE\n",
       "30   6144.0    930.0     0.131467     NH\n",
       "31   8530.0   3248.0     0.275768     NJ\n",
       "32   2506.0    325.0     0.114800     NM\n",
       "33   2789.0   1255.0     0.310336     NV\n",
       "34  25954.0   8311.0     0.242551     NY\n",
       "35  15066.0   3655.0     0.195235     OH\n",
       "36   4017.0    778.0     0.162252     OK\n",
       "37   4811.0   1153.0     0.193327     OR\n",
       "38  15550.0   3164.0     0.169071     PA\n",
       "39   4336.0    733.0     0.144604     RI\n",
       "40   2014.0    619.0     0.235093     SC\n",
       "41   1836.0    135.0     0.068493     SD\n",
       "42   3635.0   1011.0     0.217607     TN\n",
       "43  23989.0   6317.0     0.208441     TX\n",
       "44   9098.0   2638.0     0.224778     UT\n",
       "45   5130.0   1389.0     0.213069     VA\n",
       "46   2316.0    205.0     0.081317     VT\n",
       "47   9491.0   2097.0     0.180963     WA\n",
       "48   9175.0   1495.0     0.140112     WI\n",
       "49   1257.0    213.0     0.144898     WV\n",
       "50   1200.0     70.0     0.055118     WY"
      ]
     },
     "execution_count": 82,
     "metadata": {},
     "output_type": "execute_result"
    }
   ],
   "source": [
    "mapdf"
   ]
  },
  {
   "cell_type": "code",
   "execution_count": 83,
   "metadata": {
    "id": "aRpG9N-HburC"
   },
   "outputs": [
    {
     "data": {
      "text/html": [
       "        <script type=\"text/javascript\">\n",
       "        window.PlotlyConfig = {MathJaxConfig: 'local'};\n",
       "        if (window.MathJax) {MathJax.Hub.Config({SVG: {font: \"STIX-Web\"}});}\n",
       "        if (typeof require !== 'undefined') {\n",
       "        require.undef(\"plotly\");\n",
       "        requirejs.config({\n",
       "            paths: {\n",
       "                'plotly': ['https://cdn.plot.ly/plotly-latest.min']\n",
       "            }\n",
       "        });\n",
       "        require(['plotly'], function(Plotly) {\n",
       "            window._Plotly = Plotly;\n",
       "        });\n",
       "        }\n",
       "        </script>\n",
       "        "
      ]
     },
     "metadata": {},
     "output_type": "display_data"
    }
   ],
   "source": [
    "import pandas as pd\n",
    "import plotly \n",
    "\n",
    "import plotly.graph_objects as go\n",
    "from plotly.offline import init_notebook_mode\n",
    "init_notebook_mode(connected = True)"
   ]
  },
  {
   "cell_type": "code",
   "execution_count": 84,
   "metadata": {
    "colab": {
     "base_uri": "https://localhost:8080/",
     "height": 542
    },
    "id": "vByv6eCwQHGL",
    "outputId": "7f7e6466-3f53-40a7-974a-7312ab074521"
   },
   "outputs": [
    {
     "data": {
      "application/vnd.plotly.v1+json": {
       "config": {
        "plotlyServerURL": "https://plot.ly"
       },
       "data": [
        {
         "colorbar": {
          "title": {
           "text": "Percentage of Default"
          }
         },
         "colorscale": [
          [
           0,
           "rgb(255,245,240)"
          ],
          [
           0.125,
           "rgb(254,224,210)"
          ],
          [
           0.25,
           "rgb(252,187,161)"
          ],
          [
           0.375,
           "rgb(252,146,114)"
          ],
          [
           0.5,
           "rgb(251,106,74)"
          ],
          [
           0.625,
           "rgb(239,59,44)"
          ],
          [
           0.75,
           "rgb(203,24,29)"
          ],
          [
           0.875,
           "rgb(165,15,21)"
          ],
          [
           1,
           "rgb(103,0,13)"
          ]
         ],
         "locationmode": "USA-states",
         "locations": [
          "AK",
          "AL",
          "AR",
          "AZ",
          "CA",
          "CO",
          "CT",
          "DC",
          "DE",
          "FL",
          "GA",
          "HI",
          "IA",
          "ID",
          "IL",
          "IN",
          "KS",
          "KY",
          "LA",
          "MA",
          "MD",
          "ME",
          "MI",
          "MN",
          "MO",
          "MS",
          "MT",
          "NC",
          "ND",
          "NE",
          "NH",
          "NJ",
          "NM",
          "NV",
          "NY",
          "OH",
          "OK",
          "OR",
          "PA",
          "RI",
          "SC",
          "SD",
          "TN",
          "TX",
          "UT",
          "VA",
          "VT",
          "WA",
          "WI",
          "WV",
          "WY"
         ],
         "type": "choropleth",
         "z": [
          0.08794197642792384,
          0.1982989064398542,
          0.17490992466426467,
          0.3152064451158107,
          0.26546337172365486,
          0.23236069093393188,
          0.16329633571537175,
          0.21066666666666667,
          0.22192513368983957,
          0.3306360882734747,
          0.29855264402610915,
          0.1731266149870801,
          0.10790697674418605,
          0.17436197155659458,
          0.27240079008798707,
          0.19692737430167598,
          0.1260241904018728,
          0.20413827908150392,
          0.18833333333333332,
          0.15634758995247794,
          0.21419049029773368,
          0.10780669144981413,
          0.27864452273108536,
          0.1478396668401874,
          0.17097701149425287,
          0.147809442790302,
          0.06686777275012569,
          0.2156542403089262,
          0.06707317073170732,
          0.10615329255127744,
          0.13146734520780323,
          0.27576838172864665,
          0.11480042387848817,
          0.31033630069238377,
          0.24255070771924706,
          0.19523529725976177,
          0.16225234619395204,
          0.19332662642521797,
          0.16907128353104628,
          0.1446044584730716,
          0.2350930497531333,
          0.0684931506849315,
          0.21760654326302195,
          0.20844057282386327,
          0.22477845944103614,
          0.2130694891854579,
          0.08131693772312575,
          0.18096306523990335,
          0.1401124648547329,
          0.14489795918367346,
          0.05511811023622047
         ]
        }
       ],
       "layout": {
        "geo": {
         "scope": "usa"
        },
        "template": {
         "data": {
          "bar": [
           {
            "error_x": {
             "color": "#2a3f5f"
            },
            "error_y": {
             "color": "#2a3f5f"
            },
            "marker": {
             "line": {
              "color": "#E5ECF6",
              "width": 0.5
             }
            },
            "type": "bar"
           }
          ],
          "barpolar": [
           {
            "marker": {
             "line": {
              "color": "#E5ECF6",
              "width": 0.5
             }
            },
            "type": "barpolar"
           }
          ],
          "carpet": [
           {
            "aaxis": {
             "endlinecolor": "#2a3f5f",
             "gridcolor": "white",
             "linecolor": "white",
             "minorgridcolor": "white",
             "startlinecolor": "#2a3f5f"
            },
            "baxis": {
             "endlinecolor": "#2a3f5f",
             "gridcolor": "white",
             "linecolor": "white",
             "minorgridcolor": "white",
             "startlinecolor": "#2a3f5f"
            },
            "type": "carpet"
           }
          ],
          "choropleth": [
           {
            "colorbar": {
             "outlinewidth": 0,
             "ticks": ""
            },
            "type": "choropleth"
           }
          ],
          "contour": [
           {
            "colorbar": {
             "outlinewidth": 0,
             "ticks": ""
            },
            "colorscale": [
             [
              0,
              "#0d0887"
             ],
             [
              0.1111111111111111,
              "#46039f"
             ],
             [
              0.2222222222222222,
              "#7201a8"
             ],
             [
              0.3333333333333333,
              "#9c179e"
             ],
             [
              0.4444444444444444,
              "#bd3786"
             ],
             [
              0.5555555555555556,
              "#d8576b"
             ],
             [
              0.6666666666666666,
              "#ed7953"
             ],
             [
              0.7777777777777778,
              "#fb9f3a"
             ],
             [
              0.8888888888888888,
              "#fdca26"
             ],
             [
              1,
              "#f0f921"
             ]
            ],
            "type": "contour"
           }
          ],
          "contourcarpet": [
           {
            "colorbar": {
             "outlinewidth": 0,
             "ticks": ""
            },
            "type": "contourcarpet"
           }
          ],
          "heatmap": [
           {
            "colorbar": {
             "outlinewidth": 0,
             "ticks": ""
            },
            "colorscale": [
             [
              0,
              "#0d0887"
             ],
             [
              0.1111111111111111,
              "#46039f"
             ],
             [
              0.2222222222222222,
              "#7201a8"
             ],
             [
              0.3333333333333333,
              "#9c179e"
             ],
             [
              0.4444444444444444,
              "#bd3786"
             ],
             [
              0.5555555555555556,
              "#d8576b"
             ],
             [
              0.6666666666666666,
              "#ed7953"
             ],
             [
              0.7777777777777778,
              "#fb9f3a"
             ],
             [
              0.8888888888888888,
              "#fdca26"
             ],
             [
              1,
              "#f0f921"
             ]
            ],
            "type": "heatmap"
           }
          ],
          "heatmapgl": [
           {
            "colorbar": {
             "outlinewidth": 0,
             "ticks": ""
            },
            "colorscale": [
             [
              0,
              "#0d0887"
             ],
             [
              0.1111111111111111,
              "#46039f"
             ],
             [
              0.2222222222222222,
              "#7201a8"
             ],
             [
              0.3333333333333333,
              "#9c179e"
             ],
             [
              0.4444444444444444,
              "#bd3786"
             ],
             [
              0.5555555555555556,
              "#d8576b"
             ],
             [
              0.6666666666666666,
              "#ed7953"
             ],
             [
              0.7777777777777778,
              "#fb9f3a"
             ],
             [
              0.8888888888888888,
              "#fdca26"
             ],
             [
              1,
              "#f0f921"
             ]
            ],
            "type": "heatmapgl"
           }
          ],
          "histogram": [
           {
            "marker": {
             "colorbar": {
              "outlinewidth": 0,
              "ticks": ""
             }
            },
            "type": "histogram"
           }
          ],
          "histogram2d": [
           {
            "colorbar": {
             "outlinewidth": 0,
             "ticks": ""
            },
            "colorscale": [
             [
              0,
              "#0d0887"
             ],
             [
              0.1111111111111111,
              "#46039f"
             ],
             [
              0.2222222222222222,
              "#7201a8"
             ],
             [
              0.3333333333333333,
              "#9c179e"
             ],
             [
              0.4444444444444444,
              "#bd3786"
             ],
             [
              0.5555555555555556,
              "#d8576b"
             ],
             [
              0.6666666666666666,
              "#ed7953"
             ],
             [
              0.7777777777777778,
              "#fb9f3a"
             ],
             [
              0.8888888888888888,
              "#fdca26"
             ],
             [
              1,
              "#f0f921"
             ]
            ],
            "type": "histogram2d"
           }
          ],
          "histogram2dcontour": [
           {
            "colorbar": {
             "outlinewidth": 0,
             "ticks": ""
            },
            "colorscale": [
             [
              0,
              "#0d0887"
             ],
             [
              0.1111111111111111,
              "#46039f"
             ],
             [
              0.2222222222222222,
              "#7201a8"
             ],
             [
              0.3333333333333333,
              "#9c179e"
             ],
             [
              0.4444444444444444,
              "#bd3786"
             ],
             [
              0.5555555555555556,
              "#d8576b"
             ],
             [
              0.6666666666666666,
              "#ed7953"
             ],
             [
              0.7777777777777778,
              "#fb9f3a"
             ],
             [
              0.8888888888888888,
              "#fdca26"
             ],
             [
              1,
              "#f0f921"
             ]
            ],
            "type": "histogram2dcontour"
           }
          ],
          "mesh3d": [
           {
            "colorbar": {
             "outlinewidth": 0,
             "ticks": ""
            },
            "type": "mesh3d"
           }
          ],
          "parcoords": [
           {
            "line": {
             "colorbar": {
              "outlinewidth": 0,
              "ticks": ""
             }
            },
            "type": "parcoords"
           }
          ],
          "pie": [
           {
            "automargin": true,
            "type": "pie"
           }
          ],
          "scatter": [
           {
            "marker": {
             "colorbar": {
              "outlinewidth": 0,
              "ticks": ""
             }
            },
            "type": "scatter"
           }
          ],
          "scatter3d": [
           {
            "line": {
             "colorbar": {
              "outlinewidth": 0,
              "ticks": ""
             }
            },
            "marker": {
             "colorbar": {
              "outlinewidth": 0,
              "ticks": ""
             }
            },
            "type": "scatter3d"
           }
          ],
          "scattercarpet": [
           {
            "marker": {
             "colorbar": {
              "outlinewidth": 0,
              "ticks": ""
             }
            },
            "type": "scattercarpet"
           }
          ],
          "scattergeo": [
           {
            "marker": {
             "colorbar": {
              "outlinewidth": 0,
              "ticks": ""
             }
            },
            "type": "scattergeo"
           }
          ],
          "scattergl": [
           {
            "marker": {
             "colorbar": {
              "outlinewidth": 0,
              "ticks": ""
             }
            },
            "type": "scattergl"
           }
          ],
          "scattermapbox": [
           {
            "marker": {
             "colorbar": {
              "outlinewidth": 0,
              "ticks": ""
             }
            },
            "type": "scattermapbox"
           }
          ],
          "scatterpolar": [
           {
            "marker": {
             "colorbar": {
              "outlinewidth": 0,
              "ticks": ""
             }
            },
            "type": "scatterpolar"
           }
          ],
          "scatterpolargl": [
           {
            "marker": {
             "colorbar": {
              "outlinewidth": 0,
              "ticks": ""
             }
            },
            "type": "scatterpolargl"
           }
          ],
          "scatterternary": [
           {
            "marker": {
             "colorbar": {
              "outlinewidth": 0,
              "ticks": ""
             }
            },
            "type": "scatterternary"
           }
          ],
          "surface": [
           {
            "colorbar": {
             "outlinewidth": 0,
             "ticks": ""
            },
            "colorscale": [
             [
              0,
              "#0d0887"
             ],
             [
              0.1111111111111111,
              "#46039f"
             ],
             [
              0.2222222222222222,
              "#7201a8"
             ],
             [
              0.3333333333333333,
              "#9c179e"
             ],
             [
              0.4444444444444444,
              "#bd3786"
             ],
             [
              0.5555555555555556,
              "#d8576b"
             ],
             [
              0.6666666666666666,
              "#ed7953"
             ],
             [
              0.7777777777777778,
              "#fb9f3a"
             ],
             [
              0.8888888888888888,
              "#fdca26"
             ],
             [
              1,
              "#f0f921"
             ]
            ],
            "type": "surface"
           }
          ],
          "table": [
           {
            "cells": {
             "fill": {
              "color": "#EBF0F8"
             },
             "line": {
              "color": "white"
             }
            },
            "header": {
             "fill": {
              "color": "#C8D4E3"
             },
             "line": {
              "color": "white"
             }
            },
            "type": "table"
           }
          ]
         },
         "layout": {
          "annotationdefaults": {
           "arrowcolor": "#2a3f5f",
           "arrowhead": 0,
           "arrowwidth": 1
          },
          "coloraxis": {
           "colorbar": {
            "outlinewidth": 0,
            "ticks": ""
           }
          },
          "colorscale": {
           "diverging": [
            [
             0,
             "#8e0152"
            ],
            [
             0.1,
             "#c51b7d"
            ],
            [
             0.2,
             "#de77ae"
            ],
            [
             0.3,
             "#f1b6da"
            ],
            [
             0.4,
             "#fde0ef"
            ],
            [
             0.5,
             "#f7f7f7"
            ],
            [
             0.6,
             "#e6f5d0"
            ],
            [
             0.7,
             "#b8e186"
            ],
            [
             0.8,
             "#7fbc41"
            ],
            [
             0.9,
             "#4d9221"
            ],
            [
             1,
             "#276419"
            ]
           ],
           "sequential": [
            [
             0,
             "#0d0887"
            ],
            [
             0.1111111111111111,
             "#46039f"
            ],
            [
             0.2222222222222222,
             "#7201a8"
            ],
            [
             0.3333333333333333,
             "#9c179e"
            ],
            [
             0.4444444444444444,
             "#bd3786"
            ],
            [
             0.5555555555555556,
             "#d8576b"
            ],
            [
             0.6666666666666666,
             "#ed7953"
            ],
            [
             0.7777777777777778,
             "#fb9f3a"
            ],
            [
             0.8888888888888888,
             "#fdca26"
            ],
            [
             1,
             "#f0f921"
            ]
           ],
           "sequentialminus": [
            [
             0,
             "#0d0887"
            ],
            [
             0.1111111111111111,
             "#46039f"
            ],
            [
             0.2222222222222222,
             "#7201a8"
            ],
            [
             0.3333333333333333,
             "#9c179e"
            ],
            [
             0.4444444444444444,
             "#bd3786"
            ],
            [
             0.5555555555555556,
             "#d8576b"
            ],
            [
             0.6666666666666666,
             "#ed7953"
            ],
            [
             0.7777777777777778,
             "#fb9f3a"
            ],
            [
             0.8888888888888888,
             "#fdca26"
            ],
            [
             1,
             "#f0f921"
            ]
           ]
          },
          "colorway": [
           "#636efa",
           "#EF553B",
           "#00cc96",
           "#ab63fa",
           "#FFA15A",
           "#19d3f3",
           "#FF6692",
           "#B6E880",
           "#FF97FF",
           "#FECB52"
          ],
          "font": {
           "color": "#2a3f5f"
          },
          "geo": {
           "bgcolor": "white",
           "lakecolor": "white",
           "landcolor": "#E5ECF6",
           "showlakes": true,
           "showland": true,
           "subunitcolor": "white"
          },
          "hoverlabel": {
           "align": "left"
          },
          "hovermode": "closest",
          "mapbox": {
           "style": "light"
          },
          "paper_bgcolor": "white",
          "plot_bgcolor": "#E5ECF6",
          "polar": {
           "angularaxis": {
            "gridcolor": "white",
            "linecolor": "white",
            "ticks": ""
           },
           "bgcolor": "#E5ECF6",
           "radialaxis": {
            "gridcolor": "white",
            "linecolor": "white",
            "ticks": ""
           }
          },
          "scene": {
           "xaxis": {
            "backgroundcolor": "#E5ECF6",
            "gridcolor": "white",
            "gridwidth": 2,
            "linecolor": "white",
            "showbackground": true,
            "ticks": "",
            "zerolinecolor": "white"
           },
           "yaxis": {
            "backgroundcolor": "#E5ECF6",
            "gridcolor": "white",
            "gridwidth": 2,
            "linecolor": "white",
            "showbackground": true,
            "ticks": "",
            "zerolinecolor": "white"
           },
           "zaxis": {
            "backgroundcolor": "#E5ECF6",
            "gridcolor": "white",
            "gridwidth": 2,
            "linecolor": "white",
            "showbackground": true,
            "ticks": "",
            "zerolinecolor": "white"
           }
          },
          "shapedefaults": {
           "line": {
            "color": "#2a3f5f"
           }
          },
          "ternary": {
           "aaxis": {
            "gridcolor": "white",
            "linecolor": "white",
            "ticks": ""
           },
           "baxis": {
            "gridcolor": "white",
            "linecolor": "white",
            "ticks": ""
           },
           "bgcolor": "#E5ECF6",
           "caxis": {
            "gridcolor": "white",
            "linecolor": "white",
            "ticks": ""
           }
          },
          "title": {
           "x": 0.05
          },
          "xaxis": {
           "automargin": true,
           "gridcolor": "white",
           "linecolor": "white",
           "ticks": "",
           "title": {
            "standoff": 15
           },
           "zerolinecolor": "white",
           "zerolinewidth": 2
          },
          "yaxis": {
           "automargin": true,
           "gridcolor": "white",
           "linecolor": "white",
           "ticks": "",
           "title": {
            "standoff": 15
           },
           "zerolinecolor": "white",
           "zerolinewidth": 2
          }
         }
        },
        "title": {
         "text": "Rate of Default by State"
        }
       }
      },
      "text/html": [
       "<div>                            <div id=\"f88a8870-c35c-4290-92e7-d21784961515\" class=\"plotly-graph-div\" style=\"height:525px; width:100%;\"></div>            <script type=\"text/javascript\">                require([\"plotly\"], function(Plotly) {                    window.PLOTLYENV=window.PLOTLYENV || {};                                    if (document.getElementById(\"f88a8870-c35c-4290-92e7-d21784961515\")) {                    Plotly.newPlot(                        \"f88a8870-c35c-4290-92e7-d21784961515\",                        [{\"colorbar\": {\"title\": {\"text\": \"Percentage of Default\"}}, \"colorscale\": [[0.0, \"rgb(255,245,240)\"], [0.125, \"rgb(254,224,210)\"], [0.25, \"rgb(252,187,161)\"], [0.375, \"rgb(252,146,114)\"], [0.5, \"rgb(251,106,74)\"], [0.625, \"rgb(239,59,44)\"], [0.75, \"rgb(203,24,29)\"], [0.875, \"rgb(165,15,21)\"], [1.0, \"rgb(103,0,13)\"]], \"locationmode\": \"USA-states\", \"locations\": [\"AK\", \"AL\", \"AR\", \"AZ\", \"CA\", \"CO\", \"CT\", \"DC\", \"DE\", \"FL\", \"GA\", \"HI\", \"IA\", \"ID\", \"IL\", \"IN\", \"KS\", \"KY\", \"LA\", \"MA\", \"MD\", \"ME\", \"MI\", \"MN\", \"MO\", \"MS\", \"MT\", \"NC\", \"ND\", \"NE\", \"NH\", \"NJ\", \"NM\", \"NV\", \"NY\", \"OH\", \"OK\", \"OR\", \"PA\", \"RI\", \"SC\", \"SD\", \"TN\", \"TX\", \"UT\", \"VA\", \"VT\", \"WA\", \"WI\", \"WV\", \"WY\"], \"type\": \"choropleth\", \"z\": [0.08794197642792384, 0.1982989064398542, 0.17490992466426467, 0.3152064451158107, 0.26546337172365486, 0.23236069093393188, 0.16329633571537175, 0.21066666666666667, 0.22192513368983957, 0.3306360882734747, 0.29855264402610915, 0.1731266149870801, 0.10790697674418605, 0.17436197155659458, 0.27240079008798707, 0.19692737430167598, 0.1260241904018728, 0.20413827908150392, 0.18833333333333332, 0.15634758995247794, 0.21419049029773368, 0.10780669144981413, 0.27864452273108536, 0.1478396668401874, 0.17097701149425287, 0.147809442790302, 0.06686777275012569, 0.2156542403089262, 0.06707317073170732, 0.10615329255127744, 0.13146734520780323, 0.27576838172864665, 0.11480042387848817, 0.31033630069238377, 0.24255070771924706, 0.19523529725976177, 0.16225234619395204, 0.19332662642521797, 0.16907128353104628, 0.1446044584730716, 0.2350930497531333, 0.0684931506849315, 0.21760654326302195, 0.20844057282386327, 0.22477845944103614, 0.2130694891854579, 0.08131693772312575, 0.18096306523990335, 0.1401124648547329, 0.14489795918367346, 0.05511811023622047]}],                        {\"geo\": {\"scope\": \"usa\"}, \"template\": {\"data\": {\"bar\": [{\"error_x\": {\"color\": \"#2a3f5f\"}, \"error_y\": {\"color\": \"#2a3f5f\"}, \"marker\": {\"line\": {\"color\": \"#E5ECF6\", \"width\": 0.5}}, \"type\": \"bar\"}], \"barpolar\": [{\"marker\": {\"line\": {\"color\": \"#E5ECF6\", \"width\": 0.5}}, \"type\": \"barpolar\"}], \"carpet\": [{\"aaxis\": {\"endlinecolor\": \"#2a3f5f\", \"gridcolor\": \"white\", \"linecolor\": \"white\", \"minorgridcolor\": \"white\", \"startlinecolor\": \"#2a3f5f\"}, \"baxis\": {\"endlinecolor\": \"#2a3f5f\", \"gridcolor\": \"white\", \"linecolor\": \"white\", \"minorgridcolor\": \"white\", \"startlinecolor\": \"#2a3f5f\"}, \"type\": \"carpet\"}], \"choropleth\": [{\"colorbar\": {\"outlinewidth\": 0, \"ticks\": \"\"}, \"type\": \"choropleth\"}], \"contour\": [{\"colorbar\": {\"outlinewidth\": 0, \"ticks\": \"\"}, \"colorscale\": [[0.0, \"#0d0887\"], [0.1111111111111111, \"#46039f\"], [0.2222222222222222, \"#7201a8\"], [0.3333333333333333, \"#9c179e\"], [0.4444444444444444, \"#bd3786\"], [0.5555555555555556, \"#d8576b\"], [0.6666666666666666, \"#ed7953\"], [0.7777777777777778, \"#fb9f3a\"], [0.8888888888888888, \"#fdca26\"], [1.0, \"#f0f921\"]], \"type\": \"contour\"}], \"contourcarpet\": [{\"colorbar\": {\"outlinewidth\": 0, \"ticks\": \"\"}, \"type\": \"contourcarpet\"}], \"heatmap\": [{\"colorbar\": {\"outlinewidth\": 0, \"ticks\": \"\"}, \"colorscale\": [[0.0, \"#0d0887\"], [0.1111111111111111, \"#46039f\"], [0.2222222222222222, \"#7201a8\"], [0.3333333333333333, \"#9c179e\"], [0.4444444444444444, \"#bd3786\"], [0.5555555555555556, \"#d8576b\"], [0.6666666666666666, \"#ed7953\"], [0.7777777777777778, \"#fb9f3a\"], [0.8888888888888888, \"#fdca26\"], [1.0, \"#f0f921\"]], \"type\": \"heatmap\"}], \"heatmapgl\": [{\"colorbar\": {\"outlinewidth\": 0, \"ticks\": \"\"}, \"colorscale\": [[0.0, \"#0d0887\"], [0.1111111111111111, \"#46039f\"], [0.2222222222222222, \"#7201a8\"], [0.3333333333333333, \"#9c179e\"], [0.4444444444444444, \"#bd3786\"], [0.5555555555555556, \"#d8576b\"], [0.6666666666666666, \"#ed7953\"], [0.7777777777777778, \"#fb9f3a\"], [0.8888888888888888, \"#fdca26\"], [1.0, \"#f0f921\"]], \"type\": \"heatmapgl\"}], \"histogram\": [{\"marker\": {\"colorbar\": {\"outlinewidth\": 0, \"ticks\": \"\"}}, \"type\": \"histogram\"}], \"histogram2d\": [{\"colorbar\": {\"outlinewidth\": 0, \"ticks\": \"\"}, \"colorscale\": [[0.0, \"#0d0887\"], [0.1111111111111111, \"#46039f\"], [0.2222222222222222, \"#7201a8\"], [0.3333333333333333, \"#9c179e\"], [0.4444444444444444, \"#bd3786\"], [0.5555555555555556, \"#d8576b\"], [0.6666666666666666, \"#ed7953\"], [0.7777777777777778, \"#fb9f3a\"], [0.8888888888888888, \"#fdca26\"], [1.0, \"#f0f921\"]], \"type\": \"histogram2d\"}], \"histogram2dcontour\": [{\"colorbar\": {\"outlinewidth\": 0, \"ticks\": \"\"}, \"colorscale\": [[0.0, \"#0d0887\"], [0.1111111111111111, \"#46039f\"], [0.2222222222222222, \"#7201a8\"], [0.3333333333333333, \"#9c179e\"], [0.4444444444444444, \"#bd3786\"], [0.5555555555555556, \"#d8576b\"], [0.6666666666666666, \"#ed7953\"], [0.7777777777777778, \"#fb9f3a\"], [0.8888888888888888, \"#fdca26\"], [1.0, \"#f0f921\"]], \"type\": \"histogram2dcontour\"}], \"mesh3d\": [{\"colorbar\": {\"outlinewidth\": 0, \"ticks\": \"\"}, \"type\": \"mesh3d\"}], \"parcoords\": [{\"line\": {\"colorbar\": {\"outlinewidth\": 0, \"ticks\": \"\"}}, \"type\": \"parcoords\"}], \"pie\": [{\"automargin\": true, \"type\": \"pie\"}], \"scatter\": [{\"marker\": {\"colorbar\": {\"outlinewidth\": 0, \"ticks\": \"\"}}, \"type\": \"scatter\"}], \"scatter3d\": [{\"line\": {\"colorbar\": {\"outlinewidth\": 0, \"ticks\": \"\"}}, \"marker\": {\"colorbar\": {\"outlinewidth\": 0, \"ticks\": \"\"}}, \"type\": \"scatter3d\"}], \"scattercarpet\": [{\"marker\": {\"colorbar\": {\"outlinewidth\": 0, \"ticks\": \"\"}}, \"type\": \"scattercarpet\"}], \"scattergeo\": [{\"marker\": {\"colorbar\": {\"outlinewidth\": 0, \"ticks\": \"\"}}, \"type\": \"scattergeo\"}], \"scattergl\": [{\"marker\": {\"colorbar\": {\"outlinewidth\": 0, \"ticks\": \"\"}}, \"type\": \"scattergl\"}], \"scattermapbox\": [{\"marker\": {\"colorbar\": {\"outlinewidth\": 0, \"ticks\": \"\"}}, \"type\": \"scattermapbox\"}], \"scatterpolar\": [{\"marker\": {\"colorbar\": {\"outlinewidth\": 0, \"ticks\": \"\"}}, \"type\": \"scatterpolar\"}], \"scatterpolargl\": [{\"marker\": {\"colorbar\": {\"outlinewidth\": 0, \"ticks\": \"\"}}, \"type\": \"scatterpolargl\"}], \"scatterternary\": [{\"marker\": {\"colorbar\": {\"outlinewidth\": 0, \"ticks\": \"\"}}, \"type\": \"scatterternary\"}], \"surface\": [{\"colorbar\": {\"outlinewidth\": 0, \"ticks\": \"\"}, \"colorscale\": [[0.0, \"#0d0887\"], [0.1111111111111111, \"#46039f\"], [0.2222222222222222, \"#7201a8\"], [0.3333333333333333, \"#9c179e\"], [0.4444444444444444, \"#bd3786\"], [0.5555555555555556, \"#d8576b\"], [0.6666666666666666, \"#ed7953\"], [0.7777777777777778, \"#fb9f3a\"], [0.8888888888888888, \"#fdca26\"], [1.0, \"#f0f921\"]], \"type\": \"surface\"}], \"table\": [{\"cells\": {\"fill\": {\"color\": \"#EBF0F8\"}, \"line\": {\"color\": \"white\"}}, \"header\": {\"fill\": {\"color\": \"#C8D4E3\"}, \"line\": {\"color\": \"white\"}}, \"type\": \"table\"}]}, \"layout\": {\"annotationdefaults\": {\"arrowcolor\": \"#2a3f5f\", \"arrowhead\": 0, \"arrowwidth\": 1}, \"coloraxis\": {\"colorbar\": {\"outlinewidth\": 0, \"ticks\": \"\"}}, \"colorscale\": {\"diverging\": [[0, \"#8e0152\"], [0.1, \"#c51b7d\"], [0.2, \"#de77ae\"], [0.3, \"#f1b6da\"], [0.4, \"#fde0ef\"], [0.5, \"#f7f7f7\"], [0.6, \"#e6f5d0\"], [0.7, \"#b8e186\"], [0.8, \"#7fbc41\"], [0.9, \"#4d9221\"], [1, \"#276419\"]], \"sequential\": [[0.0, \"#0d0887\"], [0.1111111111111111, \"#46039f\"], [0.2222222222222222, \"#7201a8\"], [0.3333333333333333, \"#9c179e\"], [0.4444444444444444, \"#bd3786\"], [0.5555555555555556, \"#d8576b\"], [0.6666666666666666, \"#ed7953\"], [0.7777777777777778, \"#fb9f3a\"], [0.8888888888888888, \"#fdca26\"], [1.0, \"#f0f921\"]], \"sequentialminus\": [[0.0, \"#0d0887\"], [0.1111111111111111, \"#46039f\"], [0.2222222222222222, \"#7201a8\"], [0.3333333333333333, \"#9c179e\"], [0.4444444444444444, \"#bd3786\"], [0.5555555555555556, \"#d8576b\"], [0.6666666666666666, \"#ed7953\"], [0.7777777777777778, \"#fb9f3a\"], [0.8888888888888888, \"#fdca26\"], [1.0, \"#f0f921\"]]}, \"colorway\": [\"#636efa\", \"#EF553B\", \"#00cc96\", \"#ab63fa\", \"#FFA15A\", \"#19d3f3\", \"#FF6692\", \"#B6E880\", \"#FF97FF\", \"#FECB52\"], \"font\": {\"color\": \"#2a3f5f\"}, \"geo\": {\"bgcolor\": \"white\", \"lakecolor\": \"white\", \"landcolor\": \"#E5ECF6\", \"showlakes\": true, \"showland\": true, \"subunitcolor\": \"white\"}, \"hoverlabel\": {\"align\": \"left\"}, \"hovermode\": \"closest\", \"mapbox\": {\"style\": \"light\"}, \"paper_bgcolor\": \"white\", \"plot_bgcolor\": \"#E5ECF6\", \"polar\": {\"angularaxis\": {\"gridcolor\": \"white\", \"linecolor\": \"white\", \"ticks\": \"\"}, \"bgcolor\": \"#E5ECF6\", \"radialaxis\": {\"gridcolor\": \"white\", \"linecolor\": \"white\", \"ticks\": \"\"}}, \"scene\": {\"xaxis\": {\"backgroundcolor\": \"#E5ECF6\", \"gridcolor\": \"white\", \"gridwidth\": 2, \"linecolor\": \"white\", \"showbackground\": true, \"ticks\": \"\", \"zerolinecolor\": \"white\"}, \"yaxis\": {\"backgroundcolor\": \"#E5ECF6\", \"gridcolor\": \"white\", \"gridwidth\": 2, \"linecolor\": \"white\", \"showbackground\": true, \"ticks\": \"\", \"zerolinecolor\": \"white\"}, \"zaxis\": {\"backgroundcolor\": \"#E5ECF6\", \"gridcolor\": \"white\", \"gridwidth\": 2, \"linecolor\": \"white\", \"showbackground\": true, \"ticks\": \"\", \"zerolinecolor\": \"white\"}}, \"shapedefaults\": {\"line\": {\"color\": \"#2a3f5f\"}}, \"ternary\": {\"aaxis\": {\"gridcolor\": \"white\", \"linecolor\": \"white\", \"ticks\": \"\"}, \"baxis\": {\"gridcolor\": \"white\", \"linecolor\": \"white\", \"ticks\": \"\"}, \"bgcolor\": \"#E5ECF6\", \"caxis\": {\"gridcolor\": \"white\", \"linecolor\": \"white\", \"ticks\": \"\"}}, \"title\": {\"x\": 0.05}, \"xaxis\": {\"automargin\": true, \"gridcolor\": \"white\", \"linecolor\": \"white\", \"ticks\": \"\", \"title\": {\"standoff\": 15}, \"zerolinecolor\": \"white\", \"zerolinewidth\": 2}, \"yaxis\": {\"automargin\": true, \"gridcolor\": \"white\", \"linecolor\": \"white\", \"ticks\": \"\", \"title\": {\"standoff\": 15}, \"zerolinecolor\": \"white\", \"zerolinewidth\": 2}}}, \"title\": {\"text\": \"Rate of Default by State\"}},                        {\"responsive\": true}                    ).then(function(){\n",
       "                            \n",
       "var gd = document.getElementById('f88a8870-c35c-4290-92e7-d21784961515');\n",
       "var x = new MutationObserver(function (mutations, observer) {{\n",
       "        var display = window.getComputedStyle(gd).display;\n",
       "        if (!display || display === 'none') {{\n",
       "            console.log([gd, 'removed!']);\n",
       "            Plotly.purge(gd);\n",
       "            observer.disconnect();\n",
       "        }}\n",
       "}});\n",
       "\n",
       "// Listen for the removal of the full notebook cells\n",
       "var notebookContainer = gd.closest('#notebook-container');\n",
       "if (notebookContainer) {{\n",
       "    x.observe(notebookContainer, {childList: true});\n",
       "}}\n",
       "\n",
       "// Listen for the clearing of the current output cell\n",
       "var outputEl = gd.closest('.output');\n",
       "if (outputEl) {{\n",
       "    x.observe(outputEl, {childList: true});\n",
       "}}\n",
       "\n",
       "                        })                };                });            </script>        </div>"
      ]
     },
     "metadata": {},
     "output_type": "display_data"
    }
   ],
   "source": [
    "fig = go.Figure(data=go.Choropleth(\n",
    "    locations= mapdf['States'], # Spatial coordinates\n",
    "    z = mapdf['Def_Percent'].astype(float), # Data to be color-coded\n",
    "    locationmode = 'USA-states', # set of locations match entries in `locations`\n",
    "    colorscale = 'Reds',\n",
    "    colorbar_title = \"Percentage of Default\",\n",
    "))\n",
    "\n",
    "fig.update_layout(\n",
    "    title_text = 'Rate of Default by State',\n",
    "    geo_scope='usa', # limite map scope to USA\n",
    ")"
   ]
  },
  {
   "cell_type": "markdown",
   "metadata": {
    "id": "oU61ss9cIpne"
   },
   "source": [
    "<h1>Paid in Full and Defaulted Loans</h1>"
   ]
  },
  {
   "cell_type": "code",
   "execution_count": 85,
   "metadata": {
    "colab": {
     "base_uri": "https://localhost:8080/",
     "height": 725
    },
    "id": "rFNepwJrIpne",
    "outputId": "ee81950d-b68e-4e1e-dbac-c11321266dc7"
   },
   "outputs": [
    {
     "name": "stdout",
     "output_type": "stream",
     "text": [
      "None\n"
     ]
    },
    {
     "data": {
      "image/png": "[encoded data removed]",
      "text/plain": [
       "<Figure size 1080x720 with 2 Axes>"
      ]
     },
     "metadata": {
      "tags": []
     },
     "output_type": "display_data"
    },
    {
     "name": "stdout",
     "output_type": "stream",
     "text": [
      "None\n"
     ]
    }
   ],
   "source": [
    "# Paid in full and defaulted loans\n",
    "fig3 = plt.figure(figsize=(15, 10))\n",
    "\n",
    "ax1a = plt.subplot(2, 1, 1)\n",
    "ax2a = plt.subplot(2, 1, 2)\n",
    "\n",
    "# Function for creating stacked bar charts grouped by desired column\n",
    "# df = original data frame, col = x-axis grouping, stack_col = column to show stacked values\n",
    "# Essentially acts as a stacked histogram when stack_col is a flag variable\n",
    "def stacked_setup(df, col, axes, stack_col='Default'):\n",
    "    data = df.groupby([col, stack_col])[col].count().unstack(stack_col)\n",
    "    data.fillna(0)\n",
    "\n",
    "    axes.bar(data.index, data[1], label='Default')\n",
    "    axes.bar(data.index, data[0], bottom=data[1], label='Paid in full')\n",
    "\n",
    "\n",
    "# Number of Paid in full and defaulted loans by industry\n",
    "stacked_setup(df=credit, col='Industry', axes=ax1a)\n",
    "ax1a.set_xticklabels(credit.groupby(['Industry', 'Default'])['Industry'].count().unstack('Default').index,\n",
    "                     rotation=35, horizontalalignment='right', fontsize=10)\n",
    "\n",
    "ax1a.set_title('Number of PIF/Defaulted Loans by Industry from 1984-2010', fontsize=15)\n",
    "ax1a.set_xlabel('Industry')\n",
    "ax1a.set_ylabel('Number of PIF/Defaulted Loans')\n",
    "ax1a.legend()\n",
    "\n",
    "# Number of Paid in full and defaulted loans by State\n",
    "stacked_setup(df=credit, col='State', axes=ax2a)\n",
    "\n",
    "ax2a.set_title('Number of PIF/Defaulted Loans by State from 1984-2010', fontsize=15)\n",
    "ax2a.set_xlabel('State')\n",
    "ax2a.set_ylabel('Number of PIF/Defaulted Loans')\n",
    "ax2a.legend()\n",
    "\n",
    "print(plt.tight_layout());\n",
    "print(plt.show());"
   ]
  },
  {
   "cell_type": "markdown",
   "metadata": {
    "id": "4tp-D97-Ipnf"
   },
   "source": [
    "<h1> Paid in Full and Defaulted Loans by DisbursementFY </h1>"
   ]
  },
  {
   "cell_type": "code",
   "execution_count": 86,
   "metadata": {
    "colab": {
     "base_uri": "https://localhost:8080/",
     "height": 357
    },
    "id": "SXpZEyG6Ipnf",
    "outputId": "9eaae05e-a9ec-4a18-ed3b-5ef474d5e439"
   },
   "outputs": [
    {
     "data": {
      "image/png": "[encoded data removed]",
      "text/plain": [
       "<Figure size 1080x360 with 1 Axes>"
      ]
     },
     "metadata": {
      "tags": []
     },
     "output_type": "display_data"
    }
   ],
   "source": [
    "# Paid in full and Defaulted loans by DisbursementFY\n",
    "# Decided to use a stacked area chart here since it's time series data\n",
    "fig4, ax4 = plt.subplots(figsize=(15, 5))\n",
    "\n",
    "stack_data = credit.groupby(['DisbursementFY', 'Default'])['DisbursementFY'].count().unstack('Default')\n",
    "x = stack_data.index \n",
    "y = [stack_data[1], stack_data[0]]\n",
    "\n",
    "ax4.stackplot(x, y, labels=['Default', 'Paid in full'])\n",
    "ax4.set_title('Number of PIF/Defaulted Loans by State from 1984-2010', fontsize=15)\n",
    "ax4.set_xlabel('Disbursement Year')\n",
    "ax4.set_ylabel('Number of PIF/Defaulted Loans')\n",
    "ax4.legend(loc='upper left')\n",
    "\n",
    "plt.show();"
   ]
  },
  {
   "cell_type": "markdown",
   "metadata": {
    "id": "Vdbe7xZqIpng"
   },
   "source": [
    "<h1> Defaulted Loans Backed by Real Estate Percentage vs. Defaulted Loans Active During Recession"
   ]
  },
  {
   "cell_type": "code",
   "execution_count": 87,
   "metadata": {
    "colab": {
     "base_uri": "https://localhost:8080/",
     "height": 513
    },
    "id": "1wTEs5eZIpnh",
    "outputId": "e2bac678-03f5-4f5f-c720-6d53a3f1460b"
   },
   "outputs": [
    {
     "data": {
      "image/png": "[encoded data removed]",
      "text/plain": [
       "<Figure size 1440x720 with 2 Axes>"
      ]
     },
     "metadata": {
      "tags": []
     },
     "output_type": "display_data"
    }
   ],
   "source": [
    "fig5 = plt.figure(figsize=(20, 10))\n",
    "\n",
    "ax1b = fig5.add_subplot(1, 2, 1)\n",
    "ax2b = fig5.add_subplot(1, 2, 2)\n",
    "\n",
    "stacked_setup(df=credit, col='RealEstate', axes=ax1b)\n",
    "ax1b.set_xticks(credit.groupby(['RealEstate', 'Default'])['RealEstate'].count().unstack('Default').index)\n",
    "ax1b.set_xticklabels(labels=['No', 'Yes'])\n",
    "\n",
    "ax1b.set_title('Number of PIF/Defaulted Loans backed by Real Estate from 1984-2010', fontsize=15)\n",
    "ax1b.set_xlabel('Loan Backed by Real Estate')\n",
    "ax1b.set_ylabel('Number of Loans')\n",
    "ax1b.legend()\n",
    "\n",
    "# Paid in full and defaulted loans active during the Great Recession\n",
    "stacked_setup(df=credit, col='Recession', axes=ax2b)\n",
    "ax2b.set_xticks(credit.groupby(['Recession', 'Default'])['Recession'].count().unstack('Default').index)\n",
    "ax2b.set_xticklabels(labels=['No', 'Yes'])\n",
    "\n",
    "ax2b.set_title('Number of PIF/Defaulted Loans Active during the Great Recession from 1984-2010', fontsize=15)\n",
    "ax2b.set_xlabel('Loan Active during Great Recession')\n",
    "ax2b.set_ylabel('Number of Loans')\n",
    "ax2b.legend()\n",
    "\n",
    "plt.show();"
   ]
  },
  {
   "cell_type": "markdown",
   "metadata": {
    "id": "YQ3KNJAOIpnr"
   },
   "source": [
    "# Modeling"
   ]
  },
  {
   "cell_type": "code",
   "execution_count": 88,
   "metadata": {
    "colab": {
     "base_uri": "https://localhost:8080/",
     "height": 377
    },
    "id": "0wS1EV4SIpnr",
    "outputId": "d38f17e8-1702-4b49-b04c-e11503b186a7"
   },
   "outputs": [
    {
     "data": {
      "text/html": [
       "<div>\n",
       "<style scoped>\n",
       "    .dataframe tbody tr th:only-of-type {\n",
       "        vertical-align: middle;\n",
       "    }\n",
       "\n",
       "    .dataframe tbody tr th {\n",
       "        vertical-align: top;\n",
       "    }\n",
       "\n",
       "    .dataframe thead th {\n",
       "        text-align: right;\n",
       "    }\n",
       "</style>\n",
       "<table border=\"1\" class=\"dataframe\">\n",
       "  <thead>\n",
       "    <tr style=\"text-align: right;\">\n",
       "      <th></th>\n",
       "      <th>LoanNr_ChkDgt</th>\n",
       "      <th>Name</th>\n",
       "      <th>City</th>\n",
       "      <th>State</th>\n",
       "      <th>Zip</th>\n",
       "      <th>Bank</th>\n",
       "      <th>BankState</th>\n",
       "      <th>NAICS</th>\n",
       "      <th>ApprovalDate</th>\n",
       "      <th>ApprovalFY</th>\n",
       "      <th>Term</th>\n",
       "      <th>NoEmp</th>\n",
       "      <th>NewExist</th>\n",
       "      <th>CreateJob</th>\n",
       "      <th>RetainedJob</th>\n",
       "      <th>FranchiseCode</th>\n",
       "      <th>UrbanRural</th>\n",
       "      <th>RevLineCr</th>\n",
       "      <th>LowDoc</th>\n",
       "      <th>DisbursementDate</th>\n",
       "      <th>MIS_Status</th>\n",
       "      <th>nIndustry</th>\n",
       "      <th>Industry</th>\n",
       "      <th>DisbursementGross</th>\n",
       "      <th>BalanceGross</th>\n",
       "      <th>ChgOffPrinGr</th>\n",
       "      <th>GrAppv</th>\n",
       "      <th>SBA_Appv</th>\n",
       "      <th>NewBusiness</th>\n",
       "      <th>IsFranchise</th>\n",
       "      <th>StateSame</th>\n",
       "      <th>SBA_AppvPct</th>\n",
       "      <th>AppvDisbursed</th>\n",
       "      <th>DaysToDisbursement</th>\n",
       "      <th>DisbursementFY</th>\n",
       "      <th>Default</th>\n",
       "      <th>RealEstate</th>\n",
       "      <th>Recession</th>\n",
       "    </tr>\n",
       "  </thead>\n",
       "  <tbody>\n",
       "    <tr>\n",
       "      <th>0</th>\n",
       "      <td>1000014003</td>\n",
       "      <td>ABC HOBBYCRAFT</td>\n",
       "      <td>EVANSVILLE</td>\n",
       "      <td>IN</td>\n",
       "      <td>47711</td>\n",
       "      <td>FIFTH THIRD BANK</td>\n",
       "      <td>OH</td>\n",
       "      <td>451120</td>\n",
       "      <td>1997-02-28</td>\n",
       "      <td>1997</td>\n",
       "      <td>84</td>\n",
       "      <td>4</td>\n",
       "      <td>2</td>\n",
       "      <td>0</td>\n",
       "      <td>0</td>\n",
       "      <td>1</td>\n",
       "      <td>0</td>\n",
       "      <td>0</td>\n",
       "      <td>1</td>\n",
       "      <td>1999-02-28</td>\n",
       "      <td>1</td>\n",
       "      <td>45</td>\n",
       "      <td>Retail_trade</td>\n",
       "      <td>60000.0</td>\n",
       "      <td>0.0</td>\n",
       "      <td>0.0</td>\n",
       "      <td>60000.0</td>\n",
       "      <td>48000.0</td>\n",
       "      <td>1</td>\n",
       "      <td>0</td>\n",
       "      <td>0</td>\n",
       "      <td>0</td>\n",
       "      <td>1</td>\n",
       "      <td>730</td>\n",
       "      <td>1999</td>\n",
       "      <td>0.0</td>\n",
       "      <td>0</td>\n",
       "      <td>0</td>\n",
       "    </tr>\n",
       "    <tr>\n",
       "      <th>1</th>\n",
       "      <td>1000024006</td>\n",
       "      <td>LANDMARK BAR &amp; GRILLE (THE)</td>\n",
       "      <td>NEW PARIS</td>\n",
       "      <td>IN</td>\n",
       "      <td>46526</td>\n",
       "      <td>1ST SOURCE BANK</td>\n",
       "      <td>IN</td>\n",
       "      <td>722410</td>\n",
       "      <td>1997-02-28</td>\n",
       "      <td>1997</td>\n",
       "      <td>60</td>\n",
       "      <td>2</td>\n",
       "      <td>2</td>\n",
       "      <td>0</td>\n",
       "      <td>0</td>\n",
       "      <td>1</td>\n",
       "      <td>0</td>\n",
       "      <td>0</td>\n",
       "      <td>1</td>\n",
       "      <td>1997-05-31</td>\n",
       "      <td>1</td>\n",
       "      <td>72</td>\n",
       "      <td>Accom/Food_serv</td>\n",
       "      <td>40000.0</td>\n",
       "      <td>0.0</td>\n",
       "      <td>0.0</td>\n",
       "      <td>40000.0</td>\n",
       "      <td>32000.0</td>\n",
       "      <td>1</td>\n",
       "      <td>0</td>\n",
       "      <td>1</td>\n",
       "      <td>0</td>\n",
       "      <td>1</td>\n",
       "      <td>92</td>\n",
       "      <td>1997</td>\n",
       "      <td>0.0</td>\n",
       "      <td>0</td>\n",
       "      <td>0</td>\n",
       "    </tr>\n",
       "    <tr>\n",
       "      <th>2</th>\n",
       "      <td>1000034009</td>\n",
       "      <td>WHITLOCK DDS, TODD M.</td>\n",
       "      <td>BLOOMINGTON</td>\n",
       "      <td>IN</td>\n",
       "      <td>47401</td>\n",
       "      <td>GRANT COUNTY STATE BANK</td>\n",
       "      <td>IN</td>\n",
       "      <td>621210</td>\n",
       "      <td>1997-02-28</td>\n",
       "      <td>1997</td>\n",
       "      <td>180</td>\n",
       "      <td>7</td>\n",
       "      <td>1</td>\n",
       "      <td>0</td>\n",
       "      <td>0</td>\n",
       "      <td>1</td>\n",
       "      <td>0</td>\n",
       "      <td>0</td>\n",
       "      <td>0</td>\n",
       "      <td>1997-12-31</td>\n",
       "      <td>1</td>\n",
       "      <td>62</td>\n",
       "      <td>Healthcare/Social_assist</td>\n",
       "      <td>287000.0</td>\n",
       "      <td>0.0</td>\n",
       "      <td>0.0</td>\n",
       "      <td>287000.0</td>\n",
       "      <td>215250.0</td>\n",
       "      <td>0</td>\n",
       "      <td>0</td>\n",
       "      <td>1</td>\n",
       "      <td>0</td>\n",
       "      <td>1</td>\n",
       "      <td>306</td>\n",
       "      <td>1997</td>\n",
       "      <td>0.0</td>\n",
       "      <td>0</td>\n",
       "      <td>0</td>\n",
       "    </tr>\n",
       "    <tr>\n",
       "      <th>5</th>\n",
       "      <td>1000084002</td>\n",
       "      <td>B&amp;T SCREW MACHINE COMPANY, INC</td>\n",
       "      <td>PLAINVILLE</td>\n",
       "      <td>CT</td>\n",
       "      <td>6062</td>\n",
       "      <td>TD BANK, NATIONAL ASSOCIATION</td>\n",
       "      <td>DE</td>\n",
       "      <td>332721</td>\n",
       "      <td>1997-02-28</td>\n",
       "      <td>1997</td>\n",
       "      <td>120</td>\n",
       "      <td>19</td>\n",
       "      <td>1</td>\n",
       "      <td>0</td>\n",
       "      <td>0</td>\n",
       "      <td>1</td>\n",
       "      <td>0</td>\n",
       "      <td>0</td>\n",
       "      <td>0</td>\n",
       "      <td>1997-06-30</td>\n",
       "      <td>1</td>\n",
       "      <td>33</td>\n",
       "      <td>Manufacturing</td>\n",
       "      <td>517000.0</td>\n",
       "      <td>0.0</td>\n",
       "      <td>0.0</td>\n",
       "      <td>517000.0</td>\n",
       "      <td>387750.0</td>\n",
       "      <td>0</td>\n",
       "      <td>0</td>\n",
       "      <td>0</td>\n",
       "      <td>0</td>\n",
       "      <td>1</td>\n",
       "      <td>122</td>\n",
       "      <td>1997</td>\n",
       "      <td>0.0</td>\n",
       "      <td>0</td>\n",
       "      <td>0</td>\n",
       "    </tr>\n",
       "    <tr>\n",
       "      <th>7</th>\n",
       "      <td>1000094005</td>\n",
       "      <td>WEAVER PRODUCTS</td>\n",
       "      <td>SUMMERFIELD</td>\n",
       "      <td>FL</td>\n",
       "      <td>34491</td>\n",
       "      <td>REGIONS BANK</td>\n",
       "      <td>AL</td>\n",
       "      <td>811118</td>\n",
       "      <td>1997-02-28</td>\n",
       "      <td>1997</td>\n",
       "      <td>84</td>\n",
       "      <td>1</td>\n",
       "      <td>2</td>\n",
       "      <td>0</td>\n",
       "      <td>0</td>\n",
       "      <td>1</td>\n",
       "      <td>0</td>\n",
       "      <td>0</td>\n",
       "      <td>1</td>\n",
       "      <td>1998-06-30</td>\n",
       "      <td>1</td>\n",
       "      <td>81</td>\n",
       "      <td>Other_no_pub</td>\n",
       "      <td>45000.0</td>\n",
       "      <td>0.0</td>\n",
       "      <td>0.0</td>\n",
       "      <td>45000.0</td>\n",
       "      <td>36000.0</td>\n",
       "      <td>1</td>\n",
       "      <td>0</td>\n",
       "      <td>0</td>\n",
       "      <td>0</td>\n",
       "      <td>1</td>\n",
       "      <td>487</td>\n",
       "      <td>1998</td>\n",
       "      <td>0.0</td>\n",
       "      <td>0</td>\n",
       "      <td>0</td>\n",
       "    </tr>\n",
       "  </tbody>\n",
       "</table>\n",
       "</div>"
      ],
      "text/plain": [
       "   LoanNr_ChkDgt                            Name  ... RealEstate Recession\n",
       "0     1000014003                  ABC HOBBYCRAFT  ...          0         0\n",
       "1     1000024006     LANDMARK BAR & GRILLE (THE)  ...          0         0\n",
       "2     1000034009           WHITLOCK DDS, TODD M.  ...          0         0\n",
       "5     1000084002  B&T SCREW MACHINE COMPANY, INC  ...          0         0\n",
       "7     1000094005                 WEAVER PRODUCTS  ...          0         0\n",
       "\n",
       "[5 rows x 38 columns]"
      ]
     },
     "execution_count": 88,
     "metadata": {
      "tags": []
     },
     "output_type": "execute_result"
    }
   ],
   "source": [
    "credit.head()"
   ]
  },
  {
   "cell_type": "code",
   "execution_count": 89,
   "metadata": {
    "colab": {
     "base_uri": "https://localhost:8080/",
     "height": 534
    },
    "id": "0XYMnhMdIP4t",
    "outputId": "2363d671-6415-4fbe-aee6-67fe779de06f"
   },
   "outputs": [
    {
     "data": {
      "text/plain": [
       "<matplotlib.axes._subplots.AxesSubplot at 0x7f3ec015bbe0>"
      ]
     },
     "execution_count": 89,
     "metadata": {
      "tags": []
     },
     "output_type": "execute_result"
    },
    {
     "data": {
      "image/png": "[encoded data removed]",
      "text/plain": [
       "<Figure size 842.4x595.44 with 1 Axes>"
      ]
     },
     "metadata": {
      "tags": []
     },
     "output_type": "display_data"
    }
   ],
   "source": [
    "# Class Distribuition\n",
    "sns.countplot(x=\"Default\", data=credit, palette=\"Blues\")"
   ]
  },
  {
   "cell_type": "code",
   "execution_count": 90,
   "metadata": {
    "colab": {
     "base_uri": "https://localhost:8080/"
    },
    "id": "s1KqAQNZIP4u",
    "outputId": "9e112fec-b4c6-40bb-81a7-558df9a4eadc"
   },
   "outputs": [
    {
     "data": {
      "text/plain": [
       "(456940, 38)"
      ]
     },
     "execution_count": 90,
     "metadata": {
      "tags": []
     },
     "output_type": "execute_result"
    }
   ],
   "source": [
    "credit.shape"
   ]
  },
  {
   "cell_type": "code",
   "execution_count": 91,
   "metadata": {
    "id": "0I5ocG9JIP4u"
   },
   "outputs": [],
   "source": [
    "#input data for modeling\n",
    "#cols=['Term','NoEmp', 'UrbanRural', 'RevLineCr','nIndustry','StateSame','State','SBA_AppvPct',\n",
    "#'DaysToDisbursement', 'Recession','RealEstate'] \n",
    "cols1=['Term','NoEmp','RevLineCr', 'StateSame', 'SBA_AppvPct', 'DaysToDisbursement', 'Recession', 'RealEstate' ] \n",
    "cols2=['UrbanRural' , 'nIndustry', 'State']\n",
    "\n",
    "a=credit[cols1]\n",
    "b=credit[cols2]\n",
    "y=credit['Default']   \n"
   ]
  },
  {
   "cell_type": "code",
   "execution_count": 92,
   "metadata": {
    "colab": {
     "base_uri": "https://localhost:8080/"
    },
    "id": "-Dnfn3Gq6ujY",
    "outputId": "2af467a0-6767-46ef-920e-4a1f8fc947b6"
   },
   "outputs": [
    {
     "data": {
      "text/plain": [
       "Term                   1.508794\n",
       "NoEmp                 90.685105\n",
       "RevLineCr              0.323957\n",
       "StateSame              0.173159\n",
       "SBA_AppvPct            3.616475\n",
       "DaysToDisbursement     6.061549\n",
       "Recession              1.355985\n",
       "RealEstate             2.487565\n",
       "dtype: float64"
      ]
     },
     "execution_count": 92,
     "metadata": {
      "tags": []
     },
     "output_type": "execute_result"
    }
   ],
   "source": [
    "a.skew() "
   ]
  },
  {
   "cell_type": "code",
   "execution_count": 93,
   "metadata": {
    "colab": {
     "base_uri": "https://localhost:8080/",
     "height": 1000
    },
    "id": "slkfB4T7IP4u",
    "outputId": "251b39c6-c01b-4ff0-9e14-743cdf17c715"
   },
   "outputs": [
    {
     "name": "stderr",
     "output_type": "stream",
     "text": [
      "/usr/local/lib/python3.6/dist-packages/seaborn/distributions.py:2551: FutureWarning:\n",
      "\n",
      "`distplot` is a deprecated function and will be removed in a future version. Please adapt your code to use either `displot` (a figure-level function with similar flexibility) or `histplot` (an axes-level function for histograms).\n",
      "\n"
     ]
    },
    {
     "name": "stdout",
     "output_type": "stream",
     "text": [
      "\n",
      " ------------------------------------------------------\n",
      "\n",
      " 'Term' had 'positive' skewness of 1.51\n",
      "\n",
      " Transformation yielded skewness of -2.14\n"
     ]
    },
    {
     "name": "stderr",
     "output_type": "stream",
     "text": [
      "/usr/local/lib/python3.6/dist-packages/seaborn/distributions.py:2551: FutureWarning:\n",
      "\n",
      "`distplot` is a deprecated function and will be removed in a future version. Please adapt your code to use either `displot` (a figure-level function with similar flexibility) or `histplot` (an axes-level function for histograms).\n",
      "\n"
     ]
    },
    {
     "data": {
      "image/png": "[encoded data removed]",
      "text/plain": [
       "<Figure size 720x360 with 2 Axes>"
      ]
     },
     "metadata": {
      "tags": []
     },
     "output_type": "display_data"
    },
    {
     "name": "stderr",
     "output_type": "stream",
     "text": [
      "/usr/local/lib/python3.6/dist-packages/seaborn/distributions.py:2551: FutureWarning:\n",
      "\n",
      "`distplot` is a deprecated function and will be removed in a future version. Please adapt your code to use either `displot` (a figure-level function with similar flexibility) or `histplot` (an axes-level function for histograms).\n",
      "\n"
     ]
    },
    {
     "name": "stdout",
     "output_type": "stream",
     "text": [
      "\n",
      " ------------------------------------------------------\n",
      "\n",
      " 'NoEmp' had 'positive' skewness of 90.69\n",
      "\n",
      " Transformation yielded skewness of -0.75\n"
     ]
    },
    {
     "name": "stderr",
     "output_type": "stream",
     "text": [
      "/usr/local/lib/python3.6/dist-packages/seaborn/distributions.py:2551: FutureWarning:\n",
      "\n",
      "`distplot` is a deprecated function and will be removed in a future version. Please adapt your code to use either `displot` (a figure-level function with similar flexibility) or `histplot` (an axes-level function for histograms).\n",
      "\n"
     ]
    },
    {
     "data": {
      "image/png": "[encoded data removed]",
      "text/plain": [
       "<Figure size 720x360 with 2 Axes>"
      ]
     },
     "metadata": {
      "tags": []
     },
     "output_type": "display_data"
    },
    {
     "name": "stderr",
     "output_type": "stream",
     "text": [
      "/usr/local/lib/python3.6/dist-packages/seaborn/distributions.py:2551: FutureWarning:\n",
      "\n",
      "`distplot` is a deprecated function and will be removed in a future version. Please adapt your code to use either `displot` (a figure-level function with similar flexibility) or `histplot` (an axes-level function for histograms).\n",
      "\n"
     ]
    },
    {
     "name": "stdout",
     "output_type": "stream",
     "text": [
      "\n",
      " ------------------------------------------------------\n",
      "\n",
      " NO TRANSFORMATION APPLIED FOR 'RevLineCr' . Skewness = 0.32\n"
     ]
    },
    {
     "name": "stderr",
     "output_type": "stream",
     "text": [
      "/usr/local/lib/python3.6/dist-packages/seaborn/distributions.py:2551: FutureWarning:\n",
      "\n",
      "`distplot` is a deprecated function and will be removed in a future version. Please adapt your code to use either `displot` (a figure-level function with similar flexibility) or `histplot` (an axes-level function for histograms).\n",
      "\n"
     ]
    },
    {
     "data": {
      "image/png": "[encoded data removed]",
      "text/plain": [
       "<Figure size 720x360 with 2 Axes>"
      ]
     },
     "metadata": {
      "tags": []
     },
     "output_type": "display_data"
    },
    {
     "name": "stderr",
     "output_type": "stream",
     "text": [
      "/usr/local/lib/python3.6/dist-packages/seaborn/distributions.py:2551: FutureWarning:\n",
      "\n",
      "`distplot` is a deprecated function and will be removed in a future version. Please adapt your code to use either `displot` (a figure-level function with similar flexibility) or `histplot` (an axes-level function for histograms).\n",
      "\n"
     ]
    },
    {
     "name": "stdout",
     "output_type": "stream",
     "text": [
      "\n",
      " ------------------------------------------------------\n",
      "\n",
      " NO TRANSFORMATION APPLIED FOR 'StateSame' . Skewness = 0.17\n"
     ]
    },
    {
     "name": "stderr",
     "output_type": "stream",
     "text": [
      "/usr/local/lib/python3.6/dist-packages/seaborn/distributions.py:2551: FutureWarning:\n",
      "\n",
      "`distplot` is a deprecated function and will be removed in a future version. Please adapt your code to use either `displot` (a figure-level function with similar flexibility) or `histplot` (an axes-level function for histograms).\n",
      "\n"
     ]
    },
    {
     "data": {
      "image/png": "[encoded data removed]",
      "text/plain": [
       "<Figure size 720x360 with 2 Axes>"
      ]
     },
     "metadata": {
      "tags": []
     },
     "output_type": "display_data"
    },
    {
     "name": "stderr",
     "output_type": "stream",
     "text": [
      "/usr/local/lib/python3.6/dist-packages/seaborn/distributions.py:2551: FutureWarning:\n",
      "\n",
      "`distplot` is a deprecated function and will be removed in a future version. Please adapt your code to use either `displot` (a figure-level function with similar flexibility) or `histplot` (an axes-level function for histograms).\n",
      "\n"
     ]
    },
    {
     "name": "stdout",
     "output_type": "stream",
     "text": [
      "\n",
      " ------------------------------------------------------\n",
      "\n",
      " 'SBA_AppvPct' had 'positive' skewness of 3.62\n",
      "\n",
      " Transformation yielded skewness of 3.62\n"
     ]
    },
    {
     "name": "stderr",
     "output_type": "stream",
     "text": [
      "/usr/local/lib/python3.6/dist-packages/seaborn/distributions.py:2551: FutureWarning:\n",
      "\n",
      "`distplot` is a deprecated function and will be removed in a future version. Please adapt your code to use either `displot` (a figure-level function with similar flexibility) or `histplot` (an axes-level function for histograms).\n",
      "\n"
     ]
    },
    {
     "data": {
      "image/png": "[encoded data removed]",
      "text/plain": [
       "<Figure size 720x360 with 2 Axes>"
      ]
     },
     "metadata": {
      "tags": []
     },
     "output_type": "display_data"
    },
    {
     "name": "stderr",
     "output_type": "stream",
     "text": [
      "/usr/local/lib/python3.6/dist-packages/seaborn/distributions.py:2551: FutureWarning:\n",
      "\n",
      "`distplot` is a deprecated function and will be removed in a future version. Please adapt your code to use either `displot` (a figure-level function with similar flexibility) or `histplot` (an axes-level function for histograms).\n",
      "\n"
     ]
    },
    {
     "name": "stdout",
     "output_type": "stream",
     "text": [
      "\n",
      " ------------------------------------------------------\n",
      "\n",
      " 'DaysToDisbursement' had 'positive' skewness of 6.06\n",
      "\n",
      " Transformation yielded skewness of -34.87\n"
     ]
    },
    {
     "name": "stderr",
     "output_type": "stream",
     "text": [
      "/usr/local/lib/python3.6/dist-packages/seaborn/distributions.py:2551: FutureWarning:\n",
      "\n",
      "`distplot` is a deprecated function and will be removed in a future version. Please adapt your code to use either `displot` (a figure-level function with similar flexibility) or `histplot` (an axes-level function for histograms).\n",
      "\n"
     ]
    },
    {
     "data": {
      "image/png": "[encoded data removed]",
      "text/plain": [
       "<Figure size 720x360 with 2 Axes>"
      ]
     },
     "metadata": {
      "tags": []
     },
     "output_type": "display_data"
    },
    {
     "name": "stderr",
     "output_type": "stream",
     "text": [
      "/usr/local/lib/python3.6/dist-packages/seaborn/distributions.py:2551: FutureWarning:\n",
      "\n",
      "`distplot` is a deprecated function and will be removed in a future version. Please adapt your code to use either `displot` (a figure-level function with similar flexibility) or `histplot` (an axes-level function for histograms).\n",
      "\n"
     ]
    },
    {
     "name": "stdout",
     "output_type": "stream",
     "text": [
      "\n",
      " ------------------------------------------------------\n",
      "\n",
      " 'Recession' had 'positive' skewness of 1.36\n",
      "\n",
      " Transformation yielded skewness of 1.36\n"
     ]
    },
    {
     "name": "stderr",
     "output_type": "stream",
     "text": [
      "/usr/local/lib/python3.6/dist-packages/seaborn/distributions.py:2551: FutureWarning:\n",
      "\n",
      "`distplot` is a deprecated function and will be removed in a future version. Please adapt your code to use either `displot` (a figure-level function with similar flexibility) or `histplot` (an axes-level function for histograms).\n",
      "\n"
     ]
    },
    {
     "data": {
      "image/png": "[encoded data removed]",
      "text/plain": [
       "<Figure size 720x360 with 2 Axes>"
      ]
     },
     "metadata": {
      "tags": []
     },
     "output_type": "display_data"
    },
    {
     "name": "stderr",
     "output_type": "stream",
     "text": [
      "/usr/local/lib/python3.6/dist-packages/seaborn/distributions.py:2551: FutureWarning:\n",
      "\n",
      "`distplot` is a deprecated function and will be removed in a future version. Please adapt your code to use either `displot` (a figure-level function with similar flexibility) or `histplot` (an axes-level function for histograms).\n",
      "\n"
     ]
    },
    {
     "name": "stdout",
     "output_type": "stream",
     "text": [
      "\n",
      " ------------------------------------------------------\n",
      "\n",
      " 'RealEstate' had 'positive' skewness of 2.49\n",
      "\n",
      " Transformation yielded skewness of 2.49\n"
     ]
    },
    {
     "name": "stderr",
     "output_type": "stream",
     "text": [
      "/usr/local/lib/python3.6/dist-packages/seaborn/distributions.py:2551: FutureWarning:\n",
      "\n",
      "`distplot` is a deprecated function and will be removed in a future version. Please adapt your code to use either `displot` (a figure-level function with similar flexibility) or `histplot` (an axes-level function for histograms).\n",
      "\n"
     ]
    },
    {
     "data": {
      "image/png": "[encoded data removed]",
      "text/plain": [
       "<Figure size 720x360 with 2 Axes>"
      ]
     },
     "metadata": {
      "tags": []
     },
     "output_type": "display_data"
    },
    {
     "name": "stdout",
     "output_type": "stream",
     "text": [
      "Original average skewness value was 13.28\n",
      "Average skewness after transformation is 5.71\n"
     ]
    }
   ],
   "source": [
    "from skew_autotransform import skew_autotransform\n",
    "\n",
    "skewed_cols = pd.DataFrame(a, columns = cols1)\n",
    "\n",
    "transformedDF = skew_autotransform(skewed_cols.copy(deep=True), plot = True, exp = True, threshold = 1.0) \n",
    "\n",
    "print('Original average skewness value was %2.2f' %(np.mean(abs(skewed_cols.skew()))))\n",
    "print('Average skewness after transformation is %2.2f' %(np.mean(abs(transformedDF.skew()))))"
   ]
  },
  {
   "cell_type": "code",
   "execution_count": 141,
   "metadata": {
    "id": "G8nmSm5KIP4u"
   },
   "outputs": [],
   "source": [
    "X= pd.concat([transformedDF, b], axis=1)"
   ]
  },
  {
   "cell_type": "code",
   "execution_count": 95,
   "metadata": {
    "id": "SDBMfNLHIP4u"
   },
   "outputs": [],
   "source": [
    "X = pd.get_dummies(X) "
   ]
  },
  {
   "cell_type": "code",
   "execution_count": 96,
   "metadata": {
    "colab": {
     "base_uri": "https://localhost:8080/",
     "height": 439
    },
    "id": "pJymJp3oIP4u",
    "outputId": "21f935ae-fefa-4e6a-f639-3ff0d1f5579d"
   },
   "outputs": [
    {
     "data": {
      "text/html": [
       "<div>\n",
       "<style scoped>\n",
       "    .dataframe tbody tr th:only-of-type {\n",
       "        vertical-align: middle;\n",
       "    }\n",
       "\n",
       "    .dataframe tbody tr th {\n",
       "        vertical-align: top;\n",
       "    }\n",
       "\n",
       "    .dataframe thead th {\n",
       "        text-align: right;\n",
       "    }\n",
       "</style>\n",
       "<table border=\"1\" class=\"dataframe\">\n",
       "  <thead>\n",
       "    <tr style=\"text-align: right;\">\n",
       "      <th></th>\n",
       "      <th>Term</th>\n",
       "      <th>NoEmp</th>\n",
       "      <th>RevLineCr</th>\n",
       "      <th>StateSame</th>\n",
       "      <th>SBA_AppvPct</th>\n",
       "      <th>DaysToDisbursement</th>\n",
       "      <th>Recession</th>\n",
       "      <th>RealEstate</th>\n",
       "      <th>UrbanRural_0</th>\n",
       "      <th>UrbanRural_1</th>\n",
       "      <th>UrbanRural_2</th>\n",
       "      <th>nIndustry_11</th>\n",
       "      <th>nIndustry_21</th>\n",
       "      <th>nIndustry_22</th>\n",
       "      <th>nIndustry_23</th>\n",
       "      <th>nIndustry_31</th>\n",
       "      <th>nIndustry_32</th>\n",
       "      <th>nIndustry_33</th>\n",
       "      <th>nIndustry_42</th>\n",
       "      <th>nIndustry_44</th>\n",
       "      <th>nIndustry_45</th>\n",
       "      <th>nIndustry_48</th>\n",
       "      <th>nIndustry_49</th>\n",
       "      <th>nIndustry_51</th>\n",
       "      <th>nIndustry_52</th>\n",
       "      <th>nIndustry_53</th>\n",
       "      <th>nIndustry_54</th>\n",
       "      <th>nIndustry_55</th>\n",
       "      <th>nIndustry_56</th>\n",
       "      <th>nIndustry_61</th>\n",
       "      <th>nIndustry_62</th>\n",
       "      <th>nIndustry_71</th>\n",
       "      <th>nIndustry_72</th>\n",
       "      <th>nIndustry_81</th>\n",
       "      <th>nIndustry_92</th>\n",
       "      <th>State_AK</th>\n",
       "      <th>State_AL</th>\n",
       "      <th>State_AR</th>\n",
       "      <th>State_AZ</th>\n",
       "      <th>State_CA</th>\n",
       "      <th>...</th>\n",
       "      <th>State_HI</th>\n",
       "      <th>State_IA</th>\n",
       "      <th>State_ID</th>\n",
       "      <th>State_IL</th>\n",
       "      <th>State_IN</th>\n",
       "      <th>State_KS</th>\n",
       "      <th>State_KY</th>\n",
       "      <th>State_LA</th>\n",
       "      <th>State_MA</th>\n",
       "      <th>State_MD</th>\n",
       "      <th>State_ME</th>\n",
       "      <th>State_MI</th>\n",
       "      <th>State_MN</th>\n",
       "      <th>State_MO</th>\n",
       "      <th>State_MS</th>\n",
       "      <th>State_MT</th>\n",
       "      <th>State_NC</th>\n",
       "      <th>State_ND</th>\n",
       "      <th>State_NE</th>\n",
       "      <th>State_NH</th>\n",
       "      <th>State_NJ</th>\n",
       "      <th>State_NM</th>\n",
       "      <th>State_NV</th>\n",
       "      <th>State_NY</th>\n",
       "      <th>State_OH</th>\n",
       "      <th>State_OK</th>\n",
       "      <th>State_OR</th>\n",
       "      <th>State_PA</th>\n",
       "      <th>State_RI</th>\n",
       "      <th>State_SC</th>\n",
       "      <th>State_SD</th>\n",
       "      <th>State_TN</th>\n",
       "      <th>State_TX</th>\n",
       "      <th>State_UT</th>\n",
       "      <th>State_VA</th>\n",
       "      <th>State_VT</th>\n",
       "      <th>State_WA</th>\n",
       "      <th>State_WI</th>\n",
       "      <th>State_WV</th>\n",
       "      <th>State_WY</th>\n",
       "    </tr>\n",
       "  </thead>\n",
       "  <tbody>\n",
       "    <tr>\n",
       "      <th>0</th>\n",
       "      <td>4.430936</td>\n",
       "      <td>1.388791</td>\n",
       "      <td>0</td>\n",
       "      <td>0</td>\n",
       "      <td>-4.60517</td>\n",
       "      <td>8.376553</td>\n",
       "      <td>-4.60517</td>\n",
       "      <td>-4.60517</td>\n",
       "      <td>1</td>\n",
       "      <td>0</td>\n",
       "      <td>0</td>\n",
       "      <td>0</td>\n",
       "      <td>0</td>\n",
       "      <td>0</td>\n",
       "      <td>0</td>\n",
       "      <td>0</td>\n",
       "      <td>0</td>\n",
       "      <td>0</td>\n",
       "      <td>0</td>\n",
       "      <td>0</td>\n",
       "      <td>1</td>\n",
       "      <td>0</td>\n",
       "      <td>0</td>\n",
       "      <td>0</td>\n",
       "      <td>0</td>\n",
       "      <td>0</td>\n",
       "      <td>0</td>\n",
       "      <td>0</td>\n",
       "      <td>0</td>\n",
       "      <td>0</td>\n",
       "      <td>0</td>\n",
       "      <td>0</td>\n",
       "      <td>0</td>\n",
       "      <td>0</td>\n",
       "      <td>0</td>\n",
       "      <td>0</td>\n",
       "      <td>0</td>\n",
       "      <td>0</td>\n",
       "      <td>0</td>\n",
       "      <td>0</td>\n",
       "      <td>...</td>\n",
       "      <td>0</td>\n",
       "      <td>0</td>\n",
       "      <td>0</td>\n",
       "      <td>0</td>\n",
       "      <td>1</td>\n",
       "      <td>0</td>\n",
       "      <td>0</td>\n",
       "      <td>0</td>\n",
       "      <td>0</td>\n",
       "      <td>0</td>\n",
       "      <td>0</td>\n",
       "      <td>0</td>\n",
       "      <td>0</td>\n",
       "      <td>0</td>\n",
       "      <td>0</td>\n",
       "      <td>0</td>\n",
       "      <td>0</td>\n",
       "      <td>0</td>\n",
       "      <td>0</td>\n",
       "      <td>0</td>\n",
       "      <td>0</td>\n",
       "      <td>0</td>\n",
       "      <td>0</td>\n",
       "      <td>0</td>\n",
       "      <td>0</td>\n",
       "      <td>0</td>\n",
       "      <td>0</td>\n",
       "      <td>0</td>\n",
       "      <td>0</td>\n",
       "      <td>0</td>\n",
       "      <td>0</td>\n",
       "      <td>0</td>\n",
       "      <td>0</td>\n",
       "      <td>0</td>\n",
       "      <td>0</td>\n",
       "      <td>0</td>\n",
       "      <td>0</td>\n",
       "      <td>0</td>\n",
       "      <td>0</td>\n",
       "      <td>0</td>\n",
       "    </tr>\n",
       "    <tr>\n",
       "      <th>1</th>\n",
       "      <td>4.094511</td>\n",
       "      <td>0.698135</td>\n",
       "      <td>0</td>\n",
       "      <td>1</td>\n",
       "      <td>-4.60517</td>\n",
       "      <td>8.217711</td>\n",
       "      <td>-4.60517</td>\n",
       "      <td>-4.60517</td>\n",
       "      <td>1</td>\n",
       "      <td>0</td>\n",
       "      <td>0</td>\n",
       "      <td>0</td>\n",
       "      <td>0</td>\n",
       "      <td>0</td>\n",
       "      <td>0</td>\n",
       "      <td>0</td>\n",
       "      <td>0</td>\n",
       "      <td>0</td>\n",
       "      <td>0</td>\n",
       "      <td>0</td>\n",
       "      <td>0</td>\n",
       "      <td>0</td>\n",
       "      <td>0</td>\n",
       "      <td>0</td>\n",
       "      <td>0</td>\n",
       "      <td>0</td>\n",
       "      <td>0</td>\n",
       "      <td>0</td>\n",
       "      <td>0</td>\n",
       "      <td>0</td>\n",
       "      <td>0</td>\n",
       "      <td>0</td>\n",
       "      <td>1</td>\n",
       "      <td>0</td>\n",
       "      <td>0</td>\n",
       "      <td>0</td>\n",
       "      <td>0</td>\n",
       "      <td>0</td>\n",
       "      <td>0</td>\n",
       "      <td>0</td>\n",
       "      <td>...</td>\n",
       "      <td>0</td>\n",
       "      <td>0</td>\n",
       "      <td>0</td>\n",
       "      <td>0</td>\n",
       "      <td>1</td>\n",
       "      <td>0</td>\n",
       "      <td>0</td>\n",
       "      <td>0</td>\n",
       "      <td>0</td>\n",
       "      <td>0</td>\n",
       "      <td>0</td>\n",
       "      <td>0</td>\n",
       "      <td>0</td>\n",
       "      <td>0</td>\n",
       "      <td>0</td>\n",
       "      <td>0</td>\n",
       "      <td>0</td>\n",
       "      <td>0</td>\n",
       "      <td>0</td>\n",
       "      <td>0</td>\n",
       "      <td>0</td>\n",
       "      <td>0</td>\n",
       "      <td>0</td>\n",
       "      <td>0</td>\n",
       "      <td>0</td>\n",
       "      <td>0</td>\n",
       "      <td>0</td>\n",
       "      <td>0</td>\n",
       "      <td>0</td>\n",
       "      <td>0</td>\n",
       "      <td>0</td>\n",
       "      <td>0</td>\n",
       "      <td>0</td>\n",
       "      <td>0</td>\n",
       "      <td>0</td>\n",
       "      <td>0</td>\n",
       "      <td>0</td>\n",
       "      <td>0</td>\n",
       "      <td>0</td>\n",
       "      <td>0</td>\n",
       "    </tr>\n",
       "    <tr>\n",
       "      <th>2</th>\n",
       "      <td>5.193012</td>\n",
       "      <td>1.947338</td>\n",
       "      <td>0</td>\n",
       "      <td>1</td>\n",
       "      <td>-4.60517</td>\n",
       "      <td>8.273849</td>\n",
       "      <td>-4.60517</td>\n",
       "      <td>-4.60517</td>\n",
       "      <td>1</td>\n",
       "      <td>0</td>\n",
       "      <td>0</td>\n",
       "      <td>0</td>\n",
       "      <td>0</td>\n",
       "      <td>0</td>\n",
       "      <td>0</td>\n",
       "      <td>0</td>\n",
       "      <td>0</td>\n",
       "      <td>0</td>\n",
       "      <td>0</td>\n",
       "      <td>0</td>\n",
       "      <td>0</td>\n",
       "      <td>0</td>\n",
       "      <td>0</td>\n",
       "      <td>0</td>\n",
       "      <td>0</td>\n",
       "      <td>0</td>\n",
       "      <td>0</td>\n",
       "      <td>0</td>\n",
       "      <td>0</td>\n",
       "      <td>0</td>\n",
       "      <td>1</td>\n",
       "      <td>0</td>\n",
       "      <td>0</td>\n",
       "      <td>0</td>\n",
       "      <td>0</td>\n",
       "      <td>0</td>\n",
       "      <td>0</td>\n",
       "      <td>0</td>\n",
       "      <td>0</td>\n",
       "      <td>0</td>\n",
       "      <td>...</td>\n",
       "      <td>0</td>\n",
       "      <td>0</td>\n",
       "      <td>0</td>\n",
       "      <td>0</td>\n",
       "      <td>1</td>\n",
       "      <td>0</td>\n",
       "      <td>0</td>\n",
       "      <td>0</td>\n",
       "      <td>0</td>\n",
       "      <td>0</td>\n",
       "      <td>0</td>\n",
       "      <td>0</td>\n",
       "      <td>0</td>\n",
       "      <td>0</td>\n",
       "      <td>0</td>\n",
       "      <td>0</td>\n",
       "      <td>0</td>\n",
       "      <td>0</td>\n",
       "      <td>0</td>\n",
       "      <td>0</td>\n",
       "      <td>0</td>\n",
       "      <td>0</td>\n",
       "      <td>0</td>\n",
       "      <td>0</td>\n",
       "      <td>0</td>\n",
       "      <td>0</td>\n",
       "      <td>0</td>\n",
       "      <td>0</td>\n",
       "      <td>0</td>\n",
       "      <td>0</td>\n",
       "      <td>0</td>\n",
       "      <td>0</td>\n",
       "      <td>0</td>\n",
       "      <td>0</td>\n",
       "      <td>0</td>\n",
       "      <td>0</td>\n",
       "      <td>0</td>\n",
       "      <td>0</td>\n",
       "      <td>0</td>\n",
       "      <td>0</td>\n",
       "    </tr>\n",
       "    <tr>\n",
       "      <th>5</th>\n",
       "      <td>4.787575</td>\n",
       "      <td>2.944965</td>\n",
       "      <td>0</td>\n",
       "      <td>0</td>\n",
       "      <td>-4.60517</td>\n",
       "      <td>8.225773</td>\n",
       "      <td>-4.60517</td>\n",
       "      <td>-4.60517</td>\n",
       "      <td>1</td>\n",
       "      <td>0</td>\n",
       "      <td>0</td>\n",
       "      <td>0</td>\n",
       "      <td>0</td>\n",
       "      <td>0</td>\n",
       "      <td>0</td>\n",
       "      <td>0</td>\n",
       "      <td>0</td>\n",
       "      <td>1</td>\n",
       "      <td>0</td>\n",
       "      <td>0</td>\n",
       "      <td>0</td>\n",
       "      <td>0</td>\n",
       "      <td>0</td>\n",
       "      <td>0</td>\n",
       "      <td>0</td>\n",
       "      <td>0</td>\n",
       "      <td>0</td>\n",
       "      <td>0</td>\n",
       "      <td>0</td>\n",
       "      <td>0</td>\n",
       "      <td>0</td>\n",
       "      <td>0</td>\n",
       "      <td>0</td>\n",
       "      <td>0</td>\n",
       "      <td>0</td>\n",
       "      <td>0</td>\n",
       "      <td>0</td>\n",
       "      <td>0</td>\n",
       "      <td>0</td>\n",
       "      <td>0</td>\n",
       "      <td>...</td>\n",
       "      <td>0</td>\n",
       "      <td>0</td>\n",
       "      <td>0</td>\n",
       "      <td>0</td>\n",
       "      <td>0</td>\n",
       "      <td>0</td>\n",
       "      <td>0</td>\n",
       "      <td>0</td>\n",
       "      <td>0</td>\n",
       "      <td>0</td>\n",
       "      <td>0</td>\n",
       "      <td>0</td>\n",
       "      <td>0</td>\n",
       "      <td>0</td>\n",
       "      <td>0</td>\n",
       "      <td>0</td>\n",
       "      <td>0</td>\n",
       "      <td>0</td>\n",
       "      <td>0</td>\n",
       "      <td>0</td>\n",
       "      <td>0</td>\n",
       "      <td>0</td>\n",
       "      <td>0</td>\n",
       "      <td>0</td>\n",
       "      <td>0</td>\n",
       "      <td>0</td>\n",
       "      <td>0</td>\n",
       "      <td>0</td>\n",
       "      <td>0</td>\n",
       "      <td>0</td>\n",
       "      <td>0</td>\n",
       "      <td>0</td>\n",
       "      <td>0</td>\n",
       "      <td>0</td>\n",
       "      <td>0</td>\n",
       "      <td>0</td>\n",
       "      <td>0</td>\n",
       "      <td>0</td>\n",
       "      <td>0</td>\n",
       "      <td>0</td>\n",
       "    </tr>\n",
       "    <tr>\n",
       "      <th>7</th>\n",
       "      <td>4.430936</td>\n",
       "      <td>0.009950</td>\n",
       "      <td>0</td>\n",
       "      <td>0</td>\n",
       "      <td>-4.60517</td>\n",
       "      <td>8.318989</td>\n",
       "      <td>-4.60517</td>\n",
       "      <td>-4.60517</td>\n",
       "      <td>1</td>\n",
       "      <td>0</td>\n",
       "      <td>0</td>\n",
       "      <td>0</td>\n",
       "      <td>0</td>\n",
       "      <td>0</td>\n",
       "      <td>0</td>\n",
       "      <td>0</td>\n",
       "      <td>0</td>\n",
       "      <td>0</td>\n",
       "      <td>0</td>\n",
       "      <td>0</td>\n",
       "      <td>0</td>\n",
       "      <td>0</td>\n",
       "      <td>0</td>\n",
       "      <td>0</td>\n",
       "      <td>0</td>\n",
       "      <td>0</td>\n",
       "      <td>0</td>\n",
       "      <td>0</td>\n",
       "      <td>0</td>\n",
       "      <td>0</td>\n",
       "      <td>0</td>\n",
       "      <td>0</td>\n",
       "      <td>0</td>\n",
       "      <td>1</td>\n",
       "      <td>0</td>\n",
       "      <td>0</td>\n",
       "      <td>0</td>\n",
       "      <td>0</td>\n",
       "      <td>0</td>\n",
       "      <td>0</td>\n",
       "      <td>...</td>\n",
       "      <td>0</td>\n",
       "      <td>0</td>\n",
       "      <td>0</td>\n",
       "      <td>0</td>\n",
       "      <td>0</td>\n",
       "      <td>0</td>\n",
       "      <td>0</td>\n",
       "      <td>0</td>\n",
       "      <td>0</td>\n",
       "      <td>0</td>\n",
       "      <td>0</td>\n",
       "      <td>0</td>\n",
       "      <td>0</td>\n",
       "      <td>0</td>\n",
       "      <td>0</td>\n",
       "      <td>0</td>\n",
       "      <td>0</td>\n",
       "      <td>0</td>\n",
       "      <td>0</td>\n",
       "      <td>0</td>\n",
       "      <td>0</td>\n",
       "      <td>0</td>\n",
       "      <td>0</td>\n",
       "      <td>0</td>\n",
       "      <td>0</td>\n",
       "      <td>0</td>\n",
       "      <td>0</td>\n",
       "      <td>0</td>\n",
       "      <td>0</td>\n",
       "      <td>0</td>\n",
       "      <td>0</td>\n",
       "      <td>0</td>\n",
       "      <td>0</td>\n",
       "      <td>0</td>\n",
       "      <td>0</td>\n",
       "      <td>0</td>\n",
       "      <td>0</td>\n",
       "      <td>0</td>\n",
       "      <td>0</td>\n",
       "      <td>0</td>\n",
       "    </tr>\n",
       "    <tr>\n",
       "      <th>...</th>\n",
       "      <td>...</td>\n",
       "      <td>...</td>\n",
       "      <td>...</td>\n",
       "      <td>...</td>\n",
       "      <td>...</td>\n",
       "      <td>...</td>\n",
       "      <td>...</td>\n",
       "      <td>...</td>\n",
       "      <td>...</td>\n",
       "      <td>...</td>\n",
       "      <td>...</td>\n",
       "      <td>...</td>\n",
       "      <td>...</td>\n",
       "      <td>...</td>\n",
       "      <td>...</td>\n",
       "      <td>...</td>\n",
       "      <td>...</td>\n",
       "      <td>...</td>\n",
       "      <td>...</td>\n",
       "      <td>...</td>\n",
       "      <td>...</td>\n",
       "      <td>...</td>\n",
       "      <td>...</td>\n",
       "      <td>...</td>\n",
       "      <td>...</td>\n",
       "      <td>...</td>\n",
       "      <td>...</td>\n",
       "      <td>...</td>\n",
       "      <td>...</td>\n",
       "      <td>...</td>\n",
       "      <td>...</td>\n",
       "      <td>...</td>\n",
       "      <td>...</td>\n",
       "      <td>...</td>\n",
       "      <td>...</td>\n",
       "      <td>...</td>\n",
       "      <td>...</td>\n",
       "      <td>...</td>\n",
       "      <td>...</td>\n",
       "      <td>...</td>\n",
       "      <td>...</td>\n",
       "      <td>...</td>\n",
       "      <td>...</td>\n",
       "      <td>...</td>\n",
       "      <td>...</td>\n",
       "      <td>...</td>\n",
       "      <td>...</td>\n",
       "      <td>...</td>\n",
       "      <td>...</td>\n",
       "      <td>...</td>\n",
       "      <td>...</td>\n",
       "      <td>...</td>\n",
       "      <td>...</td>\n",
       "      <td>...</td>\n",
       "      <td>...</td>\n",
       "      <td>...</td>\n",
       "      <td>...</td>\n",
       "      <td>...</td>\n",
       "      <td>...</td>\n",
       "      <td>...</td>\n",
       "      <td>...</td>\n",
       "      <td>...</td>\n",
       "      <td>...</td>\n",
       "      <td>...</td>\n",
       "      <td>...</td>\n",
       "      <td>...</td>\n",
       "      <td>...</td>\n",
       "      <td>...</td>\n",
       "      <td>...</td>\n",
       "      <td>...</td>\n",
       "      <td>...</td>\n",
       "      <td>...</td>\n",
       "      <td>...</td>\n",
       "      <td>...</td>\n",
       "      <td>...</td>\n",
       "      <td>...</td>\n",
       "      <td>...</td>\n",
       "      <td>...</td>\n",
       "      <td>...</td>\n",
       "      <td>...</td>\n",
       "      <td>...</td>\n",
       "    </tr>\n",
       "    <tr>\n",
       "      <th>899145</th>\n",
       "      <td>4.094511</td>\n",
       "      <td>1.611436</td>\n",
       "      <td>1</td>\n",
       "      <td>0</td>\n",
       "      <td>-4.60517</td>\n",
       "      <td>8.201389</td>\n",
       "      <td>-4.60517</td>\n",
       "      <td>-4.60517</td>\n",
       "      <td>1</td>\n",
       "      <td>0</td>\n",
       "      <td>0</td>\n",
       "      <td>0</td>\n",
       "      <td>0</td>\n",
       "      <td>0</td>\n",
       "      <td>1</td>\n",
       "      <td>0</td>\n",
       "      <td>0</td>\n",
       "      <td>0</td>\n",
       "      <td>0</td>\n",
       "      <td>0</td>\n",
       "      <td>0</td>\n",
       "      <td>0</td>\n",
       "      <td>0</td>\n",
       "      <td>0</td>\n",
       "      <td>0</td>\n",
       "      <td>0</td>\n",
       "      <td>0</td>\n",
       "      <td>0</td>\n",
       "      <td>0</td>\n",
       "      <td>0</td>\n",
       "      <td>0</td>\n",
       "      <td>0</td>\n",
       "      <td>0</td>\n",
       "      <td>0</td>\n",
       "      <td>0</td>\n",
       "      <td>0</td>\n",
       "      <td>0</td>\n",
       "      <td>0</td>\n",
       "      <td>0</td>\n",
       "      <td>0</td>\n",
       "      <td>...</td>\n",
       "      <td>0</td>\n",
       "      <td>0</td>\n",
       "      <td>0</td>\n",
       "      <td>0</td>\n",
       "      <td>0</td>\n",
       "      <td>0</td>\n",
       "      <td>0</td>\n",
       "      <td>0</td>\n",
       "      <td>0</td>\n",
       "      <td>1</td>\n",
       "      <td>0</td>\n",
       "      <td>0</td>\n",
       "      <td>0</td>\n",
       "      <td>0</td>\n",
       "      <td>0</td>\n",
       "      <td>0</td>\n",
       "      <td>0</td>\n",
       "      <td>0</td>\n",
       "      <td>0</td>\n",
       "      <td>0</td>\n",
       "      <td>0</td>\n",
       "      <td>0</td>\n",
       "      <td>0</td>\n",
       "      <td>0</td>\n",
       "      <td>0</td>\n",
       "      <td>0</td>\n",
       "      <td>0</td>\n",
       "      <td>0</td>\n",
       "      <td>0</td>\n",
       "      <td>0</td>\n",
       "      <td>0</td>\n",
       "      <td>0</td>\n",
       "      <td>0</td>\n",
       "      <td>0</td>\n",
       "      <td>0</td>\n",
       "      <td>0</td>\n",
       "      <td>0</td>\n",
       "      <td>0</td>\n",
       "      <td>0</td>\n",
       "      <td>0</td>\n",
       "    </tr>\n",
       "    <tr>\n",
       "      <th>899146</th>\n",
       "      <td>5.480681</td>\n",
       "      <td>2.080691</td>\n",
       "      <td>0</td>\n",
       "      <td>1</td>\n",
       "      <td>0.00995</td>\n",
       "      <td>8.237746</td>\n",
       "      <td>-4.60517</td>\n",
       "      <td>0.00995</td>\n",
       "      <td>1</td>\n",
       "      <td>0</td>\n",
       "      <td>0</td>\n",
       "      <td>0</td>\n",
       "      <td>0</td>\n",
       "      <td>0</td>\n",
       "      <td>0</td>\n",
       "      <td>0</td>\n",
       "      <td>1</td>\n",
       "      <td>0</td>\n",
       "      <td>0</td>\n",
       "      <td>0</td>\n",
       "      <td>0</td>\n",
       "      <td>0</td>\n",
       "      <td>0</td>\n",
       "      <td>0</td>\n",
       "      <td>0</td>\n",
       "      <td>0</td>\n",
       "      <td>0</td>\n",
       "      <td>0</td>\n",
       "      <td>0</td>\n",
       "      <td>0</td>\n",
       "      <td>0</td>\n",
       "      <td>0</td>\n",
       "      <td>0</td>\n",
       "      <td>0</td>\n",
       "      <td>0</td>\n",
       "      <td>0</td>\n",
       "      <td>0</td>\n",
       "      <td>0</td>\n",
       "      <td>0</td>\n",
       "      <td>1</td>\n",
       "      <td>...</td>\n",
       "      <td>0</td>\n",
       "      <td>0</td>\n",
       "      <td>0</td>\n",
       "      <td>0</td>\n",
       "      <td>0</td>\n",
       "      <td>0</td>\n",
       "      <td>0</td>\n",
       "      <td>0</td>\n",
       "      <td>0</td>\n",
       "      <td>0</td>\n",
       "      <td>0</td>\n",
       "      <td>0</td>\n",
       "      <td>0</td>\n",
       "      <td>0</td>\n",
       "      <td>0</td>\n",
       "      <td>0</td>\n",
       "      <td>0</td>\n",
       "      <td>0</td>\n",
       "      <td>0</td>\n",
       "      <td>0</td>\n",
       "      <td>0</td>\n",
       "      <td>0</td>\n",
       "      <td>0</td>\n",
       "      <td>0</td>\n",
       "      <td>0</td>\n",
       "      <td>0</td>\n",
       "      <td>0</td>\n",
       "      <td>0</td>\n",
       "      <td>0</td>\n",
       "      <td>0</td>\n",
       "      <td>0</td>\n",
       "      <td>0</td>\n",
       "      <td>0</td>\n",
       "      <td>0</td>\n",
       "      <td>0</td>\n",
       "      <td>0</td>\n",
       "      <td>0</td>\n",
       "      <td>0</td>\n",
       "      <td>0</td>\n",
       "      <td>0</td>\n",
       "    </tr>\n",
       "    <tr>\n",
       "      <th>899157</th>\n",
       "      <td>3.583797</td>\n",
       "      <td>3.689129</td>\n",
       "      <td>0</td>\n",
       "      <td>1</td>\n",
       "      <td>-4.60517</td>\n",
       "      <td>8.201389</td>\n",
       "      <td>-4.60517</td>\n",
       "      <td>-4.60517</td>\n",
       "      <td>1</td>\n",
       "      <td>0</td>\n",
       "      <td>0</td>\n",
       "      <td>0</td>\n",
       "      <td>0</td>\n",
       "      <td>0</td>\n",
       "      <td>0</td>\n",
       "      <td>1</td>\n",
       "      <td>0</td>\n",
       "      <td>0</td>\n",
       "      <td>0</td>\n",
       "      <td>0</td>\n",
       "      <td>0</td>\n",
       "      <td>0</td>\n",
       "      <td>0</td>\n",
       "      <td>0</td>\n",
       "      <td>0</td>\n",
       "      <td>0</td>\n",
       "      <td>0</td>\n",
       "      <td>0</td>\n",
       "      <td>0</td>\n",
       "      <td>0</td>\n",
       "      <td>0</td>\n",
       "      <td>0</td>\n",
       "      <td>0</td>\n",
       "      <td>0</td>\n",
       "      <td>0</td>\n",
       "      <td>0</td>\n",
       "      <td>0</td>\n",
       "      <td>0</td>\n",
       "      <td>0</td>\n",
       "      <td>1</td>\n",
       "      <td>...</td>\n",
       "      <td>0</td>\n",
       "      <td>0</td>\n",
       "      <td>0</td>\n",
       "      <td>0</td>\n",
       "      <td>0</td>\n",
       "      <td>0</td>\n",
       "      <td>0</td>\n",
       "      <td>0</td>\n",
       "      <td>0</td>\n",
       "      <td>0</td>\n",
       "      <td>0</td>\n",
       "      <td>0</td>\n",
       "      <td>0</td>\n",
       "      <td>0</td>\n",
       "      <td>0</td>\n",
       "      <td>0</td>\n",
       "      <td>0</td>\n",
       "      <td>0</td>\n",
       "      <td>0</td>\n",
       "      <td>0</td>\n",
       "      <td>0</td>\n",
       "      <td>0</td>\n",
       "      <td>0</td>\n",
       "      <td>0</td>\n",
       "      <td>0</td>\n",
       "      <td>0</td>\n",
       "      <td>0</td>\n",
       "      <td>0</td>\n",
       "      <td>0</td>\n",
       "      <td>0</td>\n",
       "      <td>0</td>\n",
       "      <td>0</td>\n",
       "      <td>0</td>\n",
       "      <td>0</td>\n",
       "      <td>0</td>\n",
       "      <td>0</td>\n",
       "      <td>0</td>\n",
       "      <td>0</td>\n",
       "      <td>0</td>\n",
       "      <td>0</td>\n",
       "    </tr>\n",
       "    <tr>\n",
       "      <th>899160</th>\n",
       "      <td>4.094511</td>\n",
       "      <td>1.793425</td>\n",
       "      <td>1</td>\n",
       "      <td>0</td>\n",
       "      <td>-4.60517</td>\n",
       "      <td>8.258425</td>\n",
       "      <td>-4.60517</td>\n",
       "      <td>-4.60517</td>\n",
       "      <td>1</td>\n",
       "      <td>0</td>\n",
       "      <td>0</td>\n",
       "      <td>0</td>\n",
       "      <td>0</td>\n",
       "      <td>0</td>\n",
       "      <td>0</td>\n",
       "      <td>0</td>\n",
       "      <td>0</td>\n",
       "      <td>0</td>\n",
       "      <td>0</td>\n",
       "      <td>0</td>\n",
       "      <td>1</td>\n",
       "      <td>0</td>\n",
       "      <td>0</td>\n",
       "      <td>0</td>\n",
       "      <td>0</td>\n",
       "      <td>0</td>\n",
       "      <td>0</td>\n",
       "      <td>0</td>\n",
       "      <td>0</td>\n",
       "      <td>0</td>\n",
       "      <td>0</td>\n",
       "      <td>0</td>\n",
       "      <td>0</td>\n",
       "      <td>0</td>\n",
       "      <td>0</td>\n",
       "      <td>0</td>\n",
       "      <td>0</td>\n",
       "      <td>0</td>\n",
       "      <td>0</td>\n",
       "      <td>0</td>\n",
       "      <td>...</td>\n",
       "      <td>0</td>\n",
       "      <td>0</td>\n",
       "      <td>0</td>\n",
       "      <td>0</td>\n",
       "      <td>0</td>\n",
       "      <td>0</td>\n",
       "      <td>0</td>\n",
       "      <td>0</td>\n",
       "      <td>0</td>\n",
       "      <td>0</td>\n",
       "      <td>0</td>\n",
       "      <td>0</td>\n",
       "      <td>0</td>\n",
       "      <td>0</td>\n",
       "      <td>0</td>\n",
       "      <td>0</td>\n",
       "      <td>0</td>\n",
       "      <td>0</td>\n",
       "      <td>0</td>\n",
       "      <td>0</td>\n",
       "      <td>0</td>\n",
       "      <td>0</td>\n",
       "      <td>0</td>\n",
       "      <td>0</td>\n",
       "      <td>1</td>\n",
       "      <td>0</td>\n",
       "      <td>0</td>\n",
       "      <td>0</td>\n",
       "      <td>0</td>\n",
       "      <td>0</td>\n",
       "      <td>0</td>\n",
       "      <td>0</td>\n",
       "      <td>0</td>\n",
       "      <td>0</td>\n",
       "      <td>0</td>\n",
       "      <td>0</td>\n",
       "      <td>0</td>\n",
       "      <td>0</td>\n",
       "      <td>0</td>\n",
       "      <td>0</td>\n",
       "    </tr>\n",
       "    <tr>\n",
       "      <th>899161</th>\n",
       "      <td>4.682224</td>\n",
       "      <td>3.258481</td>\n",
       "      <td>0</td>\n",
       "      <td>1</td>\n",
       "      <td>-4.60517</td>\n",
       "      <td>8.250362</td>\n",
       "      <td>-4.60517</td>\n",
       "      <td>-4.60517</td>\n",
       "      <td>1</td>\n",
       "      <td>0</td>\n",
       "      <td>0</td>\n",
       "      <td>0</td>\n",
       "      <td>0</td>\n",
       "      <td>0</td>\n",
       "      <td>0</td>\n",
       "      <td>0</td>\n",
       "      <td>0</td>\n",
       "      <td>1</td>\n",
       "      <td>0</td>\n",
       "      <td>0</td>\n",
       "      <td>0</td>\n",
       "      <td>0</td>\n",
       "      <td>0</td>\n",
       "      <td>0</td>\n",
       "      <td>0</td>\n",
       "      <td>0</td>\n",
       "      <td>0</td>\n",
       "      <td>0</td>\n",
       "      <td>0</td>\n",
       "      <td>0</td>\n",
       "      <td>0</td>\n",
       "      <td>0</td>\n",
       "      <td>0</td>\n",
       "      <td>0</td>\n",
       "      <td>0</td>\n",
       "      <td>0</td>\n",
       "      <td>0</td>\n",
       "      <td>0</td>\n",
       "      <td>0</td>\n",
       "      <td>1</td>\n",
       "      <td>...</td>\n",
       "      <td>0</td>\n",
       "      <td>0</td>\n",
       "      <td>0</td>\n",
       "      <td>0</td>\n",
       "      <td>0</td>\n",
       "      <td>0</td>\n",
       "      <td>0</td>\n",
       "      <td>0</td>\n",
       "      <td>0</td>\n",
       "      <td>0</td>\n",
       "      <td>0</td>\n",
       "      <td>0</td>\n",
       "      <td>0</td>\n",
       "      <td>0</td>\n",
       "      <td>0</td>\n",
       "      <td>0</td>\n",
       "      <td>0</td>\n",
       "      <td>0</td>\n",
       "      <td>0</td>\n",
       "      <td>0</td>\n",
       "      <td>0</td>\n",
       "      <td>0</td>\n",
       "      <td>0</td>\n",
       "      <td>0</td>\n",
       "      <td>0</td>\n",
       "      <td>0</td>\n",
       "      <td>0</td>\n",
       "      <td>0</td>\n",
       "      <td>0</td>\n",
       "      <td>0</td>\n",
       "      <td>0</td>\n",
       "      <td>0</td>\n",
       "      <td>0</td>\n",
       "      <td>0</td>\n",
       "      <td>0</td>\n",
       "      <td>0</td>\n",
       "      <td>0</td>\n",
       "      <td>0</td>\n",
       "      <td>0</td>\n",
       "      <td>0</td>\n",
       "    </tr>\n",
       "  </tbody>\n",
       "</table>\n",
       "<p>456940 rows × 86 columns</p>\n",
       "</div>"
      ],
      "text/plain": [
       "            Term     NoEmp  RevLineCr  ...  State_WI  State_WV  State_WY\n",
       "0       4.430936  1.388791          0  ...         0         0         0\n",
       "1       4.094511  0.698135          0  ...         0         0         0\n",
       "2       5.193012  1.947338          0  ...         0         0         0\n",
       "5       4.787575  2.944965          0  ...         0         0         0\n",
       "7       4.430936  0.009950          0  ...         0         0         0\n",
       "...          ...       ...        ...  ...       ...       ...       ...\n",
       "899145  4.094511  1.611436          1  ...         0         0         0\n",
       "899146  5.480681  2.080691          0  ...         0         0         0\n",
       "899157  3.583797  3.689129          0  ...         0         0         0\n",
       "899160  4.094511  1.793425          1  ...         0         0         0\n",
       "899161  4.682224  3.258481          0  ...         0         0         0\n",
       "\n",
       "[456940 rows x 86 columns]"
      ]
     },
     "execution_count": 96,
     "metadata": {
      "tags": []
     },
     "output_type": "execute_result"
    }
   ],
   "source": [
    "X"
   ]
  },
  {
   "cell_type": "markdown",
   "metadata": {
    "id": "-CFySWk482p0"
   },
   "source": [
    "<h1> Scaling </h1>"
   ]
  },
  {
   "cell_type": "code",
   "execution_count": 97,
   "metadata": {
    "id": "MrPq6r5K84l0"
   },
   "outputs": [],
   "source": [
    "from sklearn.preprocessing import StandardScaler\n",
    "sc = StandardScaler()\n",
    "X = sc.fit_transform(X)"
   ]
  },
  {
   "cell_type": "markdown",
   "metadata": {
    "id": "Om7nZ3SM8bRU"
   },
   "source": [
    "<h1> Splitting the dataset into the Training set and Test set </h1>"
   ]
  },
  {
   "cell_type": "code",
   "execution_count": 98,
   "metadata": {
    "id": "hlyhHRquIP4u"
   },
   "outputs": [],
   "source": [
    "import sklearn\n",
    "from sklearn.model_selection import train_test_split"
   ]
  },
  {
   "cell_type": "code",
   "execution_count": 99,
   "metadata": {
    "id": "LvUaAZD78i8G"
   },
   "outputs": [],
   "source": [
    "X_train, X_test, y_train, y_test = train_test_split(X, y, test_size = 0.2, random_state = 0) "
   ]
  },
  {
   "cell_type": "markdown",
   "metadata": {
    "id": "e0kKWosSIpnv"
   },
   "source": [
    "<h1> Logistic Regression </h1>"
   ]
  },
  {
   "cell_type": "code",
   "execution_count": 100,
   "metadata": {
    "id": "WTWIJReQIP4u"
   },
   "outputs": [],
   "source": [
    "#running logistics regression \n",
    "from sklearn.linear_model import LogisticRegression"
   ]
  },
  {
   "cell_type": "code",
   "execution_count": 101,
   "metadata": {
    "id": "hH3Pq_wkIpny"
   },
   "outputs": [],
   "source": [
    "from sklearn.linear_model import LogisticRegression\n",
    "classifier_log = LogisticRegression(random_state = 0)\n",
    "logreg = classifier_log.fit(X_train, y_train) "
   ]
  },
  {
   "cell_type": "code",
   "execution_count": 102,
   "metadata": {
    "id": "jFa9mUxGIpn7"
   },
   "outputs": [],
   "source": [
    "y_pred_log = classifier_log.predict(X_test)"
   ]
  },
  {
   "cell_type": "code",
   "execution_count": 103,
   "metadata": {
    "colab": {
     "base_uri": "https://localhost:8080/"
    },
    "id": "WBOayFNRIpn9",
    "outputId": "b90e4196-7a28-4ea8-8039-5bed7d9b255a"
   },
   "outputs": [
    {
     "name": "stdout",
     "output_type": "stream",
     "text": [
      "[[68229  3513]\n",
      " [10648  8998]]\n"
     ]
    },
    {
     "data": {
      "text/plain": [
       "0.8450453013524751"
      ]
     },
     "execution_count": 103,
     "metadata": {
      "tags": []
     },
     "output_type": "execute_result"
    }
   ],
   "source": [
    "from sklearn.metrics import confusion_matrix, accuracy_score\n",
    "cm_log = confusion_matrix(y_test, y_pred_log)\n",
    "print(cm_log)\n",
    "accuracy_score(y_test, y_pred_log)  "
   ]
  },
  {
   "cell_type": "code",
   "execution_count": 104,
   "metadata": {
    "colab": {
     "base_uri": "https://localhost:8080/"
    },
    "id": "NTV5HpY4Ipn-",
    "outputId": "3a6237fd-bddb-44b1-afdc-cd48ac9afaad"
   },
   "outputs": [
    {
     "name": "stdout",
     "output_type": "stream",
     "text": [
      "Precision score: 0.7192\n",
      "Recall score: 0.4580\n",
      "Accuracy score: 0.8450\n",
      "F1 score: 0.5596\n"
     ]
    }
   ],
   "source": [
    "from sklearn.metrics import precision_score, recall_score, accuracy_score, f1_score\n",
    "print('Precision score: {:.4f}'.format(precision_score(y_test,y_pred_log)))\n",
    "print('Recall score: {:.4f}'.format(recall_score(y_test,y_pred_log)))\n",
    "print('Accuracy score: {:.4f}'.format(accuracy_score(y_test,y_pred_log)))\n",
    "print('F1 score: {:.4f}'.format(f1_score(y_test,y_pred_log))) "
   ]
  },
  {
   "cell_type": "code",
   "execution_count": 105,
   "metadata": {
    "colab": {
     "base_uri": "https://localhost:8080/"
    },
    "id": "bVQDvpF4IpoA",
    "outputId": "eb63e821-35b9-4d5a-e844-3a88fae7492f"
   },
   "outputs": [
    {
     "name": "stdout",
     "output_type": "stream",
     "text": [
      "lr.intercept_: [-2.06665717]\n",
      "Training set score: 0.845\n",
      "Test set score: 0.845\n"
     ]
    }
   ],
   "source": [
    "print(\"lr.intercept_:\", logreg.intercept_) \n",
    "print(\"Training set score: {:.3f}\".format(logreg.score(X_train, y_train)))\n",
    "print(\"Test set score: {:.3f}\".format(logreg.score(X_test, y_test)))  "
   ]
  },
  {
   "cell_type": "code",
   "execution_count": 106,
   "metadata": {
    "colab": {
     "base_uri": "https://localhost:8080/"
    },
    "id": "6rWT5DZnAeQu",
    "outputId": "affffe67-9d4f-4867-db67-dd5544d1f77c"
   },
   "outputs": [
    {
     "name": "stdout",
     "output_type": "stream",
     "text": [
      "              precision    recall  f1-score   support\n",
      "\n",
      "         0.0       0.87      0.95      0.91     71742\n",
      "         1.0       0.72      0.46      0.56     19646\n",
      "\n",
      "    accuracy                           0.85     91388\n",
      "   macro avg       0.79      0.70      0.73     91388\n",
      "weighted avg       0.83      0.85      0.83     91388\n",
      "\n"
     ]
    }
   ],
   "source": [
    "print( sklearn.metrics.classification_report(y_test,y_pred_log) )"
   ]
  },
  {
   "cell_type": "markdown",
   "metadata": {
    "id": "deCF9mrVEFA0"
   },
   "source": [
    "**GridSearch Using Logistic Regression**"
   ]
  },
  {
   "cell_type": "code",
   "execution_count": 107,
   "metadata": {
    "colab": {
     "base_uri": "https://localhost:8080/"
    },
    "id": "WwEbGWCDIP4v",
    "outputId": "ffb73b81-b264-4d78-fe2d-26f1774863f3"
   },
   "outputs": [
    {
     "data": {
      "text/plain": [
       "GridSearchCV(cv=3, error_score=nan,\n",
       "             estimator=LogisticRegression(C=1.0, class_weight=None, dual=False,\n",
       "                                          fit_intercept=True,\n",
       "                                          intercept_scaling=1, l1_ratio=None,\n",
       "                                          max_iter=100, multi_class='auto',\n",
       "                                          n_jobs=None, penalty='l2',\n",
       "                                          random_state=0, solver='lbfgs',\n",
       "                                          tol=0.0001, verbose=0,\n",
       "                                          warm_start=False),\n",
       "             iid='deprecated', n_jobs=-1,\n",
       "             param_grid=[{'C': [0.1, 0.2, 0.25, 0.5, 1]}],\n",
       "             pre_dispatch='2*n_jobs', refit=True, return_train_score=False,\n",
       "             scoring='accuracy', verbose=0)"
      ]
     },
     "execution_count": 107,
     "metadata": {
      "tags": []
     },
     "output_type": "execute_result"
    },
    {
     "name": "stdout",
     "output_type": "stream",
     "text": [
      "Best Accuracy: 84.51 %\n",
      "Best Parameters: {'C': 0.5}\n"
     ]
    }
   ],
   "source": [
    "# Running with tuning both C and gamma\n",
    "from sklearn.model_selection import GridSearchCV\n",
    "parameters = [{'C': [0.1, 0.2, 0.25, 0.5, 1]}]\n",
    "grid_search = GridSearchCV(estimator = logreg,\n",
    "                           param_grid = parameters,\n",
    "                           scoring = 'accuracy',\n",
    "                           cv = 3,\n",
    "                           n_jobs = -1)\n",
    "grid_search.fit(X_train, y_train)\n",
    "best_accuracy = grid_search.best_score_\n",
    "best_parameters = grid_search.best_params_\n",
    "print(\"Best Accuracy: {:.2f} %\".format(best_accuracy*100))\n",
    "print(\"Best Parameters:\", best_parameters)"
   ]
  },
  {
   "cell_type": "code",
   "execution_count": 108,
   "metadata": {
    "colab": {
     "base_uri": "https://localhost:8080/"
    },
    "id": "Ocg6Xk3JIP4v",
    "outputId": "8fb7abb4-7c28-4714-98cb-b64921db1ee9"
   },
   "outputs": [
    {
     "name": "stdout",
     "output_type": "stream",
     "text": [
      "lr.intercept_: [-2.06665717]\n",
      "Training set score: 0.845\n",
      "Test set score: 0.845\n"
     ]
    }
   ],
   "source": [
    "print(\"lr.intercept_:\", logreg.intercept_) \n",
    "print(\"Training set score: {:.3f}\".format(grid_search.score(X_train, y_train)))\n",
    "print(\"Test set score: {:.3f}\".format(grid_search.score(X_test, y_test)))  "
   ]
  },
  {
   "cell_type": "code",
   "execution_count": 109,
   "metadata": {
    "id": "o00ZnUI7IP4v"
   },
   "outputs": [],
   "source": [
    "y_pred_log = logreg.predict(X_test)"
   ]
  },
  {
   "cell_type": "code",
   "execution_count": 110,
   "metadata": {
    "colab": {
     "base_uri": "https://localhost:8080/"
    },
    "id": "lgoJZq1tIP4w",
    "outputId": "04af9a63-dee7-4af3-baff-857aaa089fa5"
   },
   "outputs": [
    {
     "name": "stdout",
     "output_type": "stream",
     "text": [
      "Precision score: 0.7192\n",
      "Recall score: 0.4580\n",
      "Accuracy score: 0.8450\n",
      "F1 score: 0.5596\n"
     ]
    }
   ],
   "source": [
    "from sklearn.metrics import precision_score, recall_score, accuracy_score, f1_score\n",
    "print('Precision score: {:.4f}'.format(precision_score(y_test,y_pred_log)))\n",
    "print('Recall score: {:.4f}'.format(recall_score(y_test,y_pred_log)))\n",
    "print('Accuracy score: {:.4f}'.format(accuracy_score(y_test,y_pred_log)))\n",
    "print('F1 score: {:.4f}'.format(f1_score(y_test,y_pred_log))) "
   ]
  },
  {
   "cell_type": "markdown",
   "metadata": {
    "id": "1Txn7CK0IP4w"
   },
   "source": [
    "# Decision Tree\n"
   ]
  },
  {
   "cell_type": "code",
   "execution_count": 111,
   "metadata": {
    "colab": {
     "base_uri": "https://localhost:8080/"
    },
    "id": "e07S2dUGIP4w",
    "outputId": "632b9b6b-8f84-49d4-cf67-1a1c38d383f7"
   },
   "outputs": [
    {
     "data": {
      "text/plain": [
       "DecisionTreeClassifier(ccp_alpha=0.0, class_weight=None, criterion='gini',\n",
       "                       max_depth=None, max_features=None, max_leaf_nodes=None,\n",
       "                       min_impurity_decrease=0.0, min_impurity_split=None,\n",
       "                       min_samples_leaf=1, min_samples_split=2,\n",
       "                       min_weight_fraction_leaf=0.0, presort='deprecated',\n",
       "                       random_state=0, splitter='best')"
      ]
     },
     "execution_count": 111,
     "metadata": {
      "tags": []
     },
     "output_type": "execute_result"
    },
    {
     "name": "stdout",
     "output_type": "stream",
     "text": [
      "Accuracy on training set: 1.000\n",
      "Accuracy on test set: 0.919\n"
     ]
    }
   ],
   "source": [
    "# running without tuning\n",
    "from sklearn.tree import DecisionTreeClassifier\n",
    "tree = DecisionTreeClassifier(random_state=0)\n",
    "tree.fit(X_train, y_train)\n",
    "print(\"Accuracy on training set: {:.3f}\".format(tree.score(X_train, y_train)))\n",
    "print(\"Accuracy on test set: {:.3f}\".format(tree.score(X_test, y_test)))"
   ]
  },
  {
   "cell_type": "code",
   "execution_count": 112,
   "metadata": {
    "colab": {
     "base_uri": "https://localhost:8080/"
    },
    "id": "y5xJjfEvIP4w",
    "outputId": "0207d47d-06fc-46f5-8998-392f131b09f9"
   },
   "outputs": [
    {
     "name": "stdout",
     "output_type": "stream",
     "text": [
      "0.9191907033746225\n"
     ]
    }
   ],
   "source": [
    "y_pred = tree.predict(X_test)\n",
    "print(accuracy_score(y_test, y_pred))"
   ]
  },
  {
   "cell_type": "code",
   "execution_count": 113,
   "metadata": {
    "colab": {
     "base_uri": "https://localhost:8080/"
    },
    "id": "C_Ci4QS9IP4w",
    "outputId": "70371692-76b8-4761-9842-f1ced00aa4e0"
   },
   "outputs": [
    {
     "name": "stdout",
     "output_type": "stream",
     "text": [
      "Precision score: 0.8145\n",
      "Recall score: 0.8082\n",
      "Accuracy score: 0.9192\n",
      "F1 score: 0.8113\n"
     ]
    }
   ],
   "source": [
    "from sklearn.metrics import precision_score, recall_score, accuracy_score, f1_score\n",
    "print('Precision score: {:.4f}'.format(precision_score(y_test,y_pred)))\n",
    "print('Recall score: {:.4f}'.format(recall_score(y_test,y_pred)))\n",
    "print('Accuracy score: {:.4f}'.format(accuracy_score(y_test,y_pred)))\n",
    "print('F1 score: {:.4f}'.format(f1_score(y_test,y_pred)))"
   ]
  },
  {
   "cell_type": "code",
   "execution_count": 114,
   "metadata": {
    "colab": {
     "base_uri": "https://localhost:8080/"
    },
    "id": "k2h0MLRrIP4w",
    "outputId": "57a6b75b-6f3d-4efb-f93b-cc07f59e08cc"
   },
   "outputs": [
    {
     "name": "stdout",
     "output_type": "stream",
     "text": [
      "Feature importances:\n",
      "[6.06542977e-01 4.12748321e-02 1.60396039e-02 5.11417041e-02\n",
      " 5.27479079e-03 7.74162350e-02 2.41440877e-02 0.00000000e+00\n",
      " 2.98282867e-02 3.88200664e-03 3.32447460e-03 1.66351278e-03\n",
      " 3.31635154e-04 9.55140923e-05 4.86545464e-03 1.38627316e-03\n",
      " 1.89080438e-03 3.10309267e-03 3.81600181e-03 5.34643574e-03\n",
      " 3.84538646e-03 2.27782477e-03 3.12734688e-04 1.27597619e-03\n",
      " 1.06748474e-03 1.78739949e-03 4.48237275e-03 3.39817683e-05\n",
      " 2.95149324e-03 9.07762039e-04 3.90255961e-03 1.58148364e-03\n",
      " 4.87317714e-03 4.57428711e-03 4.88788363e-05 1.91311703e-04\n",
      " 9.43114445e-04 9.39105302e-04 1.39013515e-03 8.68137444e-03\n",
      " 1.62687102e-03 1.33371261e-03 2.39204244e-04 3.85334932e-04\n",
      " 3.48565203e-03 1.97781947e-03 2.71399545e-04 1.28920923e-03\n",
      " 9.70089931e-04 3.42181849e-03 1.57000263e-03 1.23639267e-03\n",
      " 1.49114279e-03 9.67995849e-04 2.34093624e-03 1.45518106e-03\n",
      " 7.76997740e-04 2.38629411e-03 2.44814516e-03 1.85223024e-03\n",
      " 1.07195579e-03 1.21967807e-03 1.34332175e-03 7.64625419e-04\n",
      " 6.02365998e-04 1.38925738e-03 2.91516855e-03 7.01987789e-04\n",
      " 9.94443528e-04 4.12117474e-03 3.15541350e-03 1.25554087e-03\n",
      " 7.86882626e-04 3.89653937e-03 1.09101508e-03 8.12370796e-04\n",
      " 3.19756097e-04 1.24248070e-03 4.00459539e-03 2.29778314e-03\n",
      " 1.53672316e-03 9.40360184e-04 1.60944057e-03 1.98934114e-03\n",
      " 4.64562698e-04 5.11219541e-04]\n"
     ]
    }
   ],
   "source": [
    "print(\"Feature importances:\")\n",
    "print(tree.feature_importances_)"
   ]
  },
  {
   "cell_type": "code",
   "execution_count": 115,
   "metadata": {
    "colab": {
     "base_uri": "https://localhost:8080/"
    },
    "id": "O3mcSCNzIP4w",
    "outputId": "08888d88-ff85-4db7-ba3c-3456a547e5bd"
   },
   "outputs": [
    {
     "data": {
      "text/plain": [
       "GridSearchCV(cv=2, error_score=nan,\n",
       "             estimator=DecisionTreeClassifier(ccp_alpha=0.0, class_weight=None,\n",
       "                                              criterion='gini', max_depth=None,\n",
       "                                              max_features=None,\n",
       "                                              max_leaf_nodes=None,\n",
       "                                              min_impurity_decrease=0.0,\n",
       "                                              min_impurity_split=None,\n",
       "                                              min_samples_leaf=1,\n",
       "                                              min_samples_split=2,\n",
       "                                              min_weight_fraction_leaf=0.0,\n",
       "                                              presort='deprecated',\n",
       "                                              random_state=0, splitter='best'),\n",
       "             iid='deprecated', n_jobs=-1,\n",
       "             param_grid={'max_depth': range(1, 5),\n",
       "                         'max_leaf_nodes': range(2, 10),\n",
       "                         'min_samples_split': range(2, 5)},\n",
       "             pre_dispatch='2*n_jobs', refit=True, return_train_score=False,\n",
       "             scoring=None, verbose=0)"
      ]
     },
     "execution_count": 115,
     "metadata": {
      "tags": []
     },
     "output_type": "execute_result"
    },
    {
     "name": "stdout",
     "output_type": "stream",
     "text": [
      "Accuracy on training set: 0.885\n",
      "Accuracy on test set: 0.882\n",
      "{'max_depth': 4, 'max_leaf_nodes': 8, 'min_samples_split': 2}\n"
     ]
    }
   ],
   "source": [
    "# running with grid search\n",
    "from sklearn.model_selection import GridSearchCV\n",
    "opt_tree = DecisionTreeClassifier(random_state = 0)\n",
    "param_DT = {\"max_depth\": range(1,5),\n",
    "           \"min_samples_split\": range(2,5,1),\n",
    "           \"max_leaf_nodes\": range(2,10)}\n",
    "\n",
    "grid_tree = GridSearchCV(opt_tree,param_DT,cv=2, n_jobs=-1)\n",
    "grid_tree.fit(X_train,y_train)\n",
    "\n",
    "print(\"Accuracy on training set: {:.3f}\".format(grid_tree.score(X_train, y_train)))\n",
    "print(\"Accuracy on test set: {:.3f}\".format(grid_tree.score(X_test, y_test)))\n",
    "\n",
    "print(grid_tree.best_params_)"
   ]
  },
  {
   "cell_type": "code",
   "execution_count": 116,
   "metadata": {
    "colab": {
     "base_uri": "https://localhost:8080/"
    },
    "id": "8G2SXhqlIP4w",
    "outputId": "490b1744-cee8-49f1-c29d-5c097ea2339a"
   },
   "outputs": [
    {
     "name": "stdout",
     "output_type": "stream",
     "text": [
      "0.8824791001006697\n"
     ]
    }
   ],
   "source": [
    "y_pred = grid_tree.predict(X_test)\n",
    "print(accuracy_score(y_test, y_pred))"
   ]
  },
  {
   "cell_type": "code",
   "execution_count": 117,
   "metadata": {
    "colab": {
     "base_uri": "https://localhost:8080/"
    },
    "id": "1Fwg1WVvIP4w",
    "outputId": "df3e0546-484a-4beb-ecc5-9aba330e51af"
   },
   "outputs": [
    {
     "name": "stdout",
     "output_type": "stream",
     "text": [
      "Precision score: 0.7197\n",
      "Recall score: 0.7426\n",
      "Accuracy score: 0.8825\n",
      "F1 score: 0.7309\n"
     ]
    }
   ],
   "source": [
    "from sklearn.metrics import precision_score, recall_score, accuracy_score, f1_score\n",
    "print('Precision score: {:.4f}'.format(precision_score(y_test,y_pred)))\n",
    "print('Recall score: {:.4f}'.format(recall_score(y_test,y_pred)))\n",
    "print('Accuracy score: {:.4f}'.format(accuracy_score(y_test,y_pred)))\n",
    "print('F1 score: {:.4f}'.format(f1_score(y_test,y_pred))) "
   ]
  },
  {
   "cell_type": "markdown",
   "metadata": {
    "id": "IBNT1YeSIP4w"
   },
   "source": [
    "# Random Forest Classifier"
   ]
  },
  {
   "cell_type": "code",
   "execution_count": 118,
   "metadata": {
    "colab": {
     "base_uri": "https://localhost:8080/"
    },
    "id": "zBnSu8UNIP4w",
    "outputId": "a462d926-e2ed-430f-aeb9-983db796bd62"
   },
   "outputs": [
    {
     "name": "stderr",
     "output_type": "stream",
     "text": [
      "[Parallel(n_jobs=-1)]: Using backend ThreadingBackend with 40 concurrent workers.\n",
      "[Parallel(n_jobs=-1)]: Done   5 out of   5 | elapsed:    0.6s finished\n"
     ]
    },
    {
     "data": {
      "text/plain": [
       "RandomForestClassifier(bootstrap=True, ccp_alpha=0.0, class_weight=None,\n",
       "                       criterion='gini', max_depth=None, max_features='auto',\n",
       "                       max_leaf_nodes=800, max_samples=None,\n",
       "                       min_impurity_decrease=0.0, min_impurity_split=None,\n",
       "                       min_samples_leaf=1, min_samples_split=2,\n",
       "                       min_weight_fraction_leaf=0.0, n_estimators=5, n_jobs=-1,\n",
       "                       oob_score=False, random_state=0, verbose=1,\n",
       "                       warm_start=False)"
      ]
     },
     "execution_count": 118,
     "metadata": {
      "tags": []
     },
     "output_type": "execute_result"
    },
    {
     "name": "stderr",
     "output_type": "stream",
     "text": [
      "[Parallel(n_jobs=5)]: Using backend ThreadingBackend with 5 concurrent workers.\n",
      "[Parallel(n_jobs=5)]: Done   2 out of   5 | elapsed:    0.0s remaining:    0.1s\n",
      "[Parallel(n_jobs=5)]: Done   5 out of   5 | elapsed:    0.0s finished\n",
      "[Parallel(n_jobs=5)]: Using backend ThreadingBackend with 5 concurrent workers.\n",
      "[Parallel(n_jobs=5)]: Done   2 out of   5 | elapsed:    0.0s remaining:    0.0s\n",
      "[Parallel(n_jobs=5)]: Done   5 out of   5 | elapsed:    0.0s finished\n"
     ]
    },
    {
     "name": "stdout",
     "output_type": "stream",
     "text": [
      "Accuracy on training set: 0.916\n",
      "Accuracy on test set: 0.913\n"
     ]
    }
   ],
   "source": [
    "# running random forest without tuning\n",
    "from sklearn.ensemble import RandomForestClassifier\n",
    "\n",
    "rnd_clf = RandomForestClassifier(n_estimators=5, max_leaf_nodes=800, n_jobs=-1, random_state=0, verbose=1)\n",
    "rnd_clf.fit(X_train, y_train)\n",
    "\n",
    "print(\"Accuracy on training set: {:.3f}\".format(rnd_clf.score(X_train, y_train)))\n",
    "print(\"Accuracy on test set: {:.3f}\".format(rnd_clf.score(X_test, y_test)))\n",
    "\n"
   ]
  },
  {
   "cell_type": "code",
   "execution_count": 119,
   "metadata": {
    "colab": {
     "base_uri": "https://localhost:8080/"
    },
    "id": "5yscH6sWIP4w",
    "outputId": "8f912bae-ea1a-44ef-974c-43edf6f45491"
   },
   "outputs": [
    {
     "name": "stderr",
     "output_type": "stream",
     "text": [
      "[Parallel(n_jobs=5)]: Using backend ThreadingBackend with 5 concurrent workers.\n",
      "[Parallel(n_jobs=5)]: Done   2 out of   5 | elapsed:    0.0s remaining:    0.0s\n",
      "[Parallel(n_jobs=5)]: Done   5 out of   5 | elapsed:    0.0s finished\n"
     ]
    },
    {
     "name": "stdout",
     "output_type": "stream",
     "text": [
      "0.9129426182868648\n"
     ]
    }
   ],
   "source": [
    "y_pred = rnd_clf.predict(X_test)\n",
    "print(accuracy_score(y_test, y_pred))"
   ]
  },
  {
   "cell_type": "code",
   "execution_count": 120,
   "metadata": {
    "colab": {
     "base_uri": "https://localhost:8080/"
    },
    "id": "z7daQY7SIP4w",
    "outputId": "2268d4cc-1b28-479b-f092-50413bc6de17"
   },
   "outputs": [
    {
     "name": "stdout",
     "output_type": "stream",
     "text": [
      "Precision score: 0.8443\n",
      "Recall score: 0.7296\n",
      "Accuracy score: 0.9129\n",
      "F1 score: 0.7828\n"
     ]
    }
   ],
   "source": [
    "from sklearn.metrics import precision_score, recall_score, accuracy_score, f1_score\n",
    "print('Precision score: {:.4f}'.format(precision_score(y_test,y_pred)))\n",
    "print('Recall score: {:.4f}'.format(recall_score(y_test,y_pred)))\n",
    "print('Accuracy score: {:.4f}'.format(accuracy_score(y_test,y_pred)))\n",
    "print('F1 score: {:.4f}'.format(f1_score(y_test,y_pred))) "
   ]
  },
  {
   "cell_type": "markdown",
   "metadata": {
    "id": "pZN_7sygIpoB"
   },
   "source": [
    "<h1> Support Vector Machine </h1>"
   ]
  },
  {
   "cell_type": "code",
   "execution_count": 121,
   "metadata": {
    "id": "xRO40u_a9THW"
   },
   "outputs": [],
   "source": [
    "svc_X_train, svc_X_test, svc_y_train, svc_y_test = train_test_split(X, y, train_size=10000, test_size = 2000, random_state = 0) "
   ]
  },
  {
   "cell_type": "code",
   "execution_count": 122,
   "metadata": {
    "colab": {
     "base_uri": "https://localhost:8080/"
    },
    "id": "dcid-2EBIpoB",
    "outputId": "b10b69d0-ded9-4a0c-9076-a4ac49f9fa75"
   },
   "outputs": [
    {
     "name": "stdout",
     "output_type": "stream",
     "text": [
      "[LibSVM]"
     ]
    },
    {
     "data": {
      "text/plain": [
       "SVC(C=1.0, break_ties=False, cache_size=200, class_weight=None, coef0=0.0,\n",
       "    decision_function_shape='ovr', degree=3, gamma='scale', kernel='rbf',\n",
       "    max_iter=-1, probability=False, random_state=0, shrinking=True, tol=0.001,\n",
       "    verbose=1)"
      ]
     },
     "execution_count": 122,
     "metadata": {
      "tags": []
     },
     "output_type": "execute_result"
    },
    {
     "name": "stdout",
     "output_type": "stream",
     "text": [
      "Training set score: 0.867\n",
      "Test set score: 0.844\n"
     ]
    }
   ],
   "source": [
    "from sklearn.svm import SVC \n",
    "classifier_svm = SVC(kernel = 'rbf', random_state = 0, verbose=1) \n",
    "classifier_svm.fit(svc_X_train, svc_y_train)   \n",
    "\n",
    "print(\"Training set score: {:.3f}\".format(classifier_svm.score(svc_X_train, svc_y_train)))\n",
    "print(\"Test set score: {:.3f}\".format(classifier_svm.score(svc_X_test, svc_y_test))) "
   ]
  },
  {
   "cell_type": "code",
   "execution_count": 123,
   "metadata": {
    "id": "OeGnDZUQIpoD"
   },
   "outputs": [],
   "source": [
    "y_pred_svm = classifier_svm.predict(svc_X_test)"
   ]
  },
  {
   "cell_type": "code",
   "execution_count": 124,
   "metadata": {
    "colab": {
     "base_uri": "https://localhost:8080/"
    },
    "id": "PmXc4mdCM2gn",
    "outputId": "f1e32fd4-e401-4f39-82db-a2d92bab219c"
   },
   "outputs": [
    {
     "name": "stdout",
     "output_type": "stream",
     "text": [
      "[[1499   62]\n",
      " [ 251  188]]\n"
     ]
    },
    {
     "data": {
      "text/plain": [
       "0.8435"
      ]
     },
     "execution_count": 124,
     "metadata": {
      "tags": []
     },
     "output_type": "execute_result"
    }
   ],
   "source": [
    "from sklearn.metrics import confusion_matrix, accuracy_score\n",
    "cm_svm = confusion_matrix(svc_y_test, y_pred_svm)\n",
    "print(cm_svm)\n",
    "accuracy_score(svc_y_test, y_pred_svm)  "
   ]
  },
  {
   "cell_type": "code",
   "execution_count": 125,
   "metadata": {
    "colab": {
     "base_uri": "https://localhost:8080/"
    },
    "id": "Fa7WrQ95IpoG",
    "outputId": "b88d7004-e7e3-4a50-bb4d-610df6bdbf63"
   },
   "outputs": [
    {
     "name": "stdout",
     "output_type": "stream",
     "text": [
      "Precision score: 0.7520\n",
      "Recall score: 0.4282\n",
      "Accuracy score: 0.8435\n",
      "F1 score: 0.5457\n"
     ]
    }
   ],
   "source": [
    "from sklearn.metrics import precision_score, recall_score, accuracy_score, f1_score\n",
    "print('Precision score: {:.4f}'.format(precision_score(svc_y_test,y_pred_svm)))\n",
    "print('Recall score: {:.4f}'.format(recall_score(svc_y_test,y_pred_svm)))\n",
    "print('Accuracy score: {:.4f}'.format(accuracy_score(svc_y_test,y_pred_svm)))\n",
    "print('F1 score: {:.4f}'.format(f1_score(svc_y_test,y_pred_svm))) "
   ]
  },
  {
   "cell_type": "markdown",
   "metadata": {
    "id": "1FIFfazqDxo8"
   },
   "source": [
    "**GridSearch Using SVM**"
   ]
  },
  {
   "cell_type": "code",
   "execution_count": 126,
   "metadata": {
    "colab": {
     "base_uri": "https://localhost:8080/"
    },
    "id": "VRuM3NOEIpoT",
    "outputId": "4736cb0c-d643-47e4-b6b4-d9a6306a37c8"
   },
   "outputs": [
    {
     "name": "stdout",
     "output_type": "stream",
     "text": [
      "[LibSVM]"
     ]
    },
    {
     "data": {
      "text/plain": [
       "GridSearchCV(cv=5, error_score=nan,\n",
       "             estimator=SVC(C=1.0, break_ties=False, cache_size=200,\n",
       "                           class_weight=None, coef0=0.0,\n",
       "                           decision_function_shape='ovr', degree=3,\n",
       "                           gamma='scale', kernel='rbf', max_iter=-1,\n",
       "                           probability=False, random_state=0, shrinking=True,\n",
       "                           tol=0.001, verbose=1),\n",
       "             iid='deprecated', n_jobs=-1,\n",
       "             param_grid=[{'C': [0.25, 0.5, 0.75, 1, 10, 100],\n",
       "                          'gamma': [0.0001, 0.001, 0.1, 1, 10],\n",
       "                          'kernel': ['rbf']}],\n",
       "             pre_dispatch='2*n_jobs', refit=True, return_train_score=False,\n",
       "             scoring='roc_auc', verbose=0)"
      ]
     },
     "execution_count": 126,
     "metadata": {
      "tags": []
     },
     "output_type": "execute_result"
    },
    {
     "name": "stdout",
     "output_type": "stream",
     "text": [
      "Training set score: 0.886\n",
      "Test set score: 0.868\n",
      "Best Accuracy: 86.78 %\n",
      "Best Parameters: {'C': 10, 'gamma': 0.001, 'kernel': 'rbf'}\n"
     ]
    }
   ],
   "source": [
    "#Grid Search for SVM model and tuning both C and gamma\n",
    "from sklearn.model_selection import GridSearchCV\n",
    "parameters = [{'C': [0.25, 0.5, 0.75, 1, 10,100], 'kernel': ['rbf'], 'gamma': [0.0001, 0.001, 0.1, 1, 10]}]\n",
    "grid_search = GridSearchCV(estimator = classifier_svm,\n",
    "                           param_grid = parameters,\n",
    "                           scoring = 'roc_auc',\n",
    "                           cv = 5,\n",
    "                           n_jobs = -1)\n",
    "grid_search.fit(svc_X_train, svc_y_train)\n",
    "\n",
    "print(\"Training set score: {:.3f}\".format(grid_search.score(svc_X_train, svc_y_train)))\n",
    "print(\"Test set score: {:.3f}\".format(grid_search.score(svc_X_test, svc_y_test))) \n",
    "\n",
    "best_accuracy = grid_search.best_score_\n",
    "best_parameters = grid_search.best_params_\n",
    "print(\"Best Accuracy: {:.2f} %\".format(best_accuracy*100))\n",
    "print(\"Best Parameters:\", best_parameters)"
   ]
  },
  {
   "cell_type": "code",
   "execution_count": 127,
   "metadata": {
    "id": "98iszFWtIP4x"
   },
   "outputs": [],
   "source": [
    "y_pred_svm = classifier_svm.predict(svc_X_test)"
   ]
  },
  {
   "cell_type": "code",
   "execution_count": 128,
   "metadata": {
    "colab": {
     "base_uri": "https://localhost:8080/"
    },
    "id": "kbKst3EUIP4x",
    "outputId": "cdd55d15-5ce3-441f-d86c-7923d070583b"
   },
   "outputs": [
    {
     "name": "stdout",
     "output_type": "stream",
     "text": [
      "Precision score: 0.7520\n",
      "Recall score: 0.4282\n",
      "Accuracy score: 0.8435\n",
      "F1 score: 0.5457\n"
     ]
    }
   ],
   "source": [
    "from sklearn.metrics import precision_score, recall_score, accuracy_score, f1_score\n",
    "print('Precision score: {:.4f}'.format(precision_score(svc_y_test,y_pred_svm)))\n",
    "print('Recall score: {:.4f}'.format(recall_score(svc_y_test,y_pred_svm)))\n",
    "print('Accuracy score: {:.4f}'.format(accuracy_score(svc_y_test,y_pred_svm)))\n",
    "print('F1 score: {:.4f}'.format(f1_score(svc_y_test,y_pred_svm))) "
   ]
  },
  {
   "cell_type": "markdown",
   "metadata": {
    "id": "0kaKXDhGIP4x"
   },
   "source": [
    "<h1>Gradient Boosting</h1>"
   ]
  },
  {
   "cell_type": "code",
   "execution_count": 129,
   "metadata": {
    "colab": {
     "base_uri": "https://localhost:8080/"
    },
    "id": "gWotYULGIP4x",
    "outputId": "078ad996-220a-4c56-bc2f-a83d5efc9120"
   },
   "outputs": [
    {
     "data": {
      "text/plain": [
       "GradientBoostingClassifier(ccp_alpha=0.0, criterion='friedman_mse', init=None,\n",
       "                           learning_rate=0.5, loss='deviance', max_depth=3,\n",
       "                           max_features=None, max_leaf_nodes=None,\n",
       "                           min_impurity_decrease=0.0, min_impurity_split=None,\n",
       "                           min_samples_leaf=1, min_samples_split=2,\n",
       "                           min_weight_fraction_leaf=0.0, n_estimators=100,\n",
       "                           n_iter_no_change=None, presort='deprecated',\n",
       "                           random_state=0, subsample=1.0, tol=0.0001,\n",
       "                           validation_fraction=0.1, verbose=0,\n",
       "                           warm_start=False)"
      ]
     },
     "execution_count": 129,
     "metadata": {
      "tags": []
     },
     "output_type": "execute_result"
    }
   ],
   "source": [
    "from sklearn.ensemble import GradientBoostingClassifier\n",
    "\n",
    "gsb_clf = GradientBoostingClassifier(learning_rate=0.5, random_state=0)\n",
    "gsb_clf.fit(X_train,y_train)"
   ]
  },
  {
   "cell_type": "code",
   "execution_count": 130,
   "metadata": {
    "colab": {
     "base_uri": "https://localhost:8080/"
    },
    "id": "fYgN8vQtTIKA",
    "outputId": "d5541f47-71e6-438c-db11-38795088c4ff"
   },
   "outputs": [
    {
     "name": "stdout",
     "output_type": "stream",
     "text": [
      "Training set score: 0.941\n",
      "Test set score: 0.940\n"
     ]
    }
   ],
   "source": [
    "y_pred_gsb = gsb_clf.predict(X_test)\n",
    "\n",
    "print(\"Training set score: {:.3f}\".format(gsb_clf.score(X_train, y_train)))\n",
    "print(\"Test set score: {:.3f}\".format(gsb_clf.score(X_test, y_test))) "
   ]
  },
  {
   "cell_type": "code",
   "execution_count": 131,
   "metadata": {
    "colab": {
     "base_uri": "https://localhost:8080/"
    },
    "id": "4zPB7BERIP4x",
    "outputId": "778578ee-05e3-479e-f34d-02df0a9104c3"
   },
   "outputs": [
    {
     "name": "stdout",
     "output_type": "stream",
     "text": [
      "Precision score: 0.8760\n",
      "Recall score: 0.8394\n",
      "Accuracy score: 0.9399\n",
      "F1 score: 0.8573\n"
     ]
    }
   ],
   "source": [
    "from sklearn.metrics import precision_score, recall_score, accuracy_score, f1_score\n",
    "print('Precision score: {:.4f}'.format(precision_score(y_test,y_pred_gsb)))\n",
    "print('Recall score: {:.4f}'.format(recall_score(y_test,y_pred_gsb)))\n",
    "print('Accuracy score: {:.4f}'.format(accuracy_score(y_test,y_pred_gsb)))\n",
    "print('F1 score: {:.4f}'.format(f1_score(y_test,y_pred_gsb)))"
   ]
  },
  {
   "cell_type": "markdown",
   "metadata": {
    "id": "fbHcjR5QIP4x"
   },
   "source": [
    "<h1>AdaBoost</h1>"
   ]
  },
  {
   "cell_type": "code",
   "execution_count": 132,
   "metadata": {
    "colab": {
     "base_uri": "https://localhost:8080/"
    },
    "id": "BstPStZNIP4x",
    "outputId": "2b00883e-e0d6-441d-97b0-057ec613b3b2"
   },
   "outputs": [
    {
     "data": {
      "text/plain": [
       "AdaBoostClassifier(algorithm='SAMME.R', base_estimator=None, learning_rate=0.5,\n",
       "                   n_estimators=200, random_state=0)"
      ]
     },
     "execution_count": 132,
     "metadata": {
      "tags": []
     },
     "output_type": "execute_result"
    }
   ],
   "source": [
    "from sklearn.ensemble import AdaBoostClassifier\n",
    "\n",
    "ada_clf = AdaBoostClassifier(n_estimators=200,\n",
    "    algorithm=\"SAMME.R\", learning_rate=0.5, random_state=0)\n",
    "ada_clf.fit(X_train, y_train)"
   ]
  },
  {
   "cell_type": "code",
   "execution_count": 133,
   "metadata": {
    "colab": {
     "base_uri": "https://localhost:8080/"
    },
    "id": "2GK-BR7fIP4x",
    "outputId": "ca6d1039-460a-43bb-efae-4d799f6c43e0"
   },
   "outputs": [
    {
     "name": "stdout",
     "output_type": "stream",
     "text": [
      "0.9205475554777433\n",
      "Training set score: 0.920\n",
      "Test set score: 0.921\n"
     ]
    }
   ],
   "source": [
    "y_pred_ada = ada_clf.predict(X_test)\n",
    "\n",
    "print(accuracy_score(y_test, y_pred_ada))\n",
    "print(\"Training set score: {:.3f}\".format(ada_clf.score(X_train, y_train)))\n",
    "print(\"Test set score: {:.3f}\".format(ada_clf.score(X_test, y_test))) "
   ]
  },
  {
   "cell_type": "code",
   "execution_count": 134,
   "metadata": {
    "colab": {
     "base_uri": "https://localhost:8080/"
    },
    "id": "zDRo1nlHIP4x",
    "outputId": "cb734ab1-78c5-4d4a-8e2b-80f4803abfce"
   },
   "outputs": [
    {
     "name": "stdout",
     "output_type": "stream",
     "text": [
      "Precision score: 0.8287\n",
      "Recall score: 0.7947\n",
      "Accuracy score: 0.9205\n",
      "F1 score: 0.8113\n"
     ]
    }
   ],
   "source": [
    "from sklearn.metrics import precision_score, recall_score, accuracy_score, f1_score\n",
    "print('Precision score: {:.4f}'.format(precision_score(y_test,y_pred_ada)))\n",
    "print('Recall score: {:.4f}'.format(recall_score(y_test,y_pred_ada)))\n",
    "print('Accuracy score: {:.4f}'.format(accuracy_score(y_test,y_pred_ada)))\n",
    "print('F1 score: {:.4f}'.format(f1_score(y_test,y_pred_ada)))"
   ]
  },
  {
   "cell_type": "markdown",
   "metadata": {
    "id": "rUJmO2dYVFMJ"
   },
   "source": [
    "<h1> XGBoost </h1>"
   ]
  },
  {
   "cell_type": "code",
   "execution_count": 135,
   "metadata": {
    "colab": {
     "base_uri": "https://localhost:8080/"
    },
    "id": "6XBz-JEuIP4x",
    "outputId": "f57d3a7b-4642-4344-95fe-d03cf7bbda30"
   },
   "outputs": [
    {
     "data": {
      "text/plain": [
       "XGBClassifier(base_score=0.5, booster='gbtree', colsample_bylevel=1,\n",
       "              colsample_bynode=1, colsample_bytree=1, gamma=0,\n",
       "              learning_rate=0.1, max_delta_step=0, max_depth=3,\n",
       "              min_child_weight=1, missing=None, n_estimators=100, n_jobs=1,\n",
       "              nthread=None, objective='binary:logistic', random_state=0,\n",
       "              reg_alpha=0, reg_lambda=1, scale_pos_weight=1, seed=None,\n",
       "              silent=None, subsample=1, verbosity=1)"
      ]
     },
     "execution_count": 135,
     "metadata": {
      "tags": []
     },
     "output_type": "execute_result"
    },
    {
     "name": "stdout",
     "output_type": "stream",
     "text": [
      "Training set score: 0.927\n",
      "Test set score: 0.926\n"
     ]
    }
   ],
   "source": [
    "from xgboost import XGBClassifier\n",
    "classifier_XGB = XGBClassifier(random_state = 0)\n",
    "classifier_XGB.fit(X_train, y_train) \n",
    "\n",
    "print(\"Training set score: {:.3f}\".format(classifier_XGB.score(X_train, y_train)))\n",
    "print(\"Test set score: {:.3f}\".format(classifier_XGB.score(X_test, y_test))) "
   ]
  },
  {
   "cell_type": "code",
   "execution_count": 136,
   "metadata": {
    "colab": {
     "base_uri": "https://localhost:8080/"
    },
    "id": "Kvy2P_jPVHt6",
    "outputId": "ccaae1dc-c59d-4708-db71-fae64c536a71"
   },
   "outputs": [
    {
     "data": {
      "text/plain": [
       "0.9263141769160065"
      ]
     },
     "execution_count": 136,
     "metadata": {
      "tags": []
     },
     "output_type": "execute_result"
    }
   ],
   "source": [
    "from sklearn.metrics import confusion_matrix, accuracy_score\n",
    "y_pred_XGB = classifier_XGB.predict(X_test)\n",
    "accuracy_score(y_test, y_pred_XGB)\n"
   ]
  },
  {
   "cell_type": "code",
   "execution_count": 137,
   "metadata": {
    "colab": {
     "base_uri": "https://localhost:8080/"
    },
    "id": "oFDpgn0sIP4x",
    "outputId": "f89587e9-0fd7-4fc6-e0b9-2a895458f875"
   },
   "outputs": [
    {
     "name": "stdout",
     "output_type": "stream",
     "text": [
      "Precision score: 0.8502\n",
      "Recall score: 0.7978\n",
      "Accuracy score: 0.9263\n",
      "F1 score: 0.8232\n"
     ]
    }
   ],
   "source": [
    "from sklearn.metrics import precision_score, recall_score, accuracy_score, f1_score\n",
    "print('Precision score: {:.4f}'.format(precision_score(y_test,y_pred_XGB)))\n",
    "print('Recall score: {:.4f}'.format(recall_score(y_test,y_pred_XGB)))\n",
    "print('Accuracy score: {:.4f}'.format(accuracy_score(y_test,y_pred_XGB)))\n",
    "print('F1 score: {:.4f}'.format(f1_score(y_test,y_pred_XGB))) "
   ]
  },
  {
   "cell_type": "code",
   "execution_count": 138,
   "metadata": {
    "colab": {
     "base_uri": "https://localhost:8080/"
    },
    "id": "xlL61lTZIP4x",
    "outputId": "1de21807-3519-4984-a167-e5fa615b49f7"
   },
   "outputs": [
    {
     "name": "stdout",
     "output_type": "stream",
     "text": [
      "Feature importances:\n",
      "[0.15400925 0.02135531 0.01650722 0.19835272 0.01881175 0.04270682\n",
      " 0.10659211 0.         0.13333035 0.08242569 0.         0.00257292\n",
      " 0.         0.         0.         0.         0.         0.\n",
      " 0.00211162 0.00612809 0.         0.         0.         0.\n",
      " 0.         0.         0.         0.         0.         0.\n",
      " 0.02188771 0.         0.01438068 0.00022867 0.         0.\n",
      " 0.         0.00176415 0.         0.03596305 0.         0.\n",
      " 0.         0.         0.02795883 0.01565581 0.         0.\n",
      " 0.         0.01842018 0.         0.         0.         0.\n",
      " 0.01620878 0.         0.00364813 0.         0.         0.\n",
      " 0.         0.01045088 0.         0.         0.         0.\n",
      " 0.01394568 0.         0.         0.         0.         0.\n",
      " 0.         0.01994346 0.         0.         0.         0.\n",
      " 0.         0.01464005 0.         0.         0.         0.\n",
      " 0.         0.        ]\n"
     ]
    }
   ],
   "source": [
    "print(\"Feature importances:\")\n",
    "print(fea,classifier_XGB.feature_importances_)"
   ]
  },
  {
   "cell_type": "markdown",
   "metadata": {
    "id": "KMFCNAcBXTae"
   },
   "source": [
    "#### Applying K fold Cross Validation to XGBoost model"
   ]
  },
  {
   "cell_type": "code",
   "execution_count": 139,
   "metadata": {
    "colab": {
     "base_uri": "https://localhost:8080/"
    },
    "id": "PSwBBtKEXZHl",
    "outputId": "2b96446f-61c7-48a1-edbc-5049670bd538"
   },
   "outputs": [
    {
     "name": "stdout",
     "output_type": "stream",
     "text": [
      "Accuracy: 92.80 %\n",
      "Standard Deviation: 0.12 %\n"
     ]
    }
   ],
   "source": [
    "from sklearn.model_selection import cross_val_score\n",
    "accuracies = cross_val_score(estimator = classifier_XGB, X = X_train, y = y_train, cv = 3 )\n",
    "print(\"Accuracy: {:.2f} %\".format(accuracies.mean()*100))\n",
    "print(\"Standard Deviation: {:.2f} %\".format(accuracies.std()*100))  "
   ]
  },
  {
   "cell_type": "code",
   "execution_count": 142,
   "metadata": {
    "colab": {
     "base_uri": "https://localhost:8080/"
    },
    "id": "YCdcFrVBkGJ8",
    "outputId": "1b760030-fb15-4f50-cf6c-a0f099ab0d3e"
   },
   "outputs": [
    {
     "name": "stdout",
     "output_type": "stream",
     "text": [
      "DaysToDisbursement = 0.04270682\n",
      "NoEmp = 0.021355314\n",
      "RealEstate = 0.0\n",
      "Recession = 0.10659211\n",
      "RevLineCr = 0.016507221\n",
      "SBA_AppvPct = 0.018811747\n",
      "State = 0.0\n",
      "StateSame = 0.19835272\n",
      "Term = 0.15400925\n",
      "UrbanRural = 0.13333035\n",
      "nIndustry = 0.08242569\n"
     ]
    }
   ],
   "source": [
    "# List the importance of each feature\n",
    "for name, importance in sorted(zip(X, classifier_XGB.feature_importances_)):\n",
    "    print(name, \"=\", importance) "
   ]
  },
  {
   "cell_type": "markdown",
   "metadata": {
    "id": "aDs1S5FTIP4x"
   },
   "source": [
    "<h1>Voting Classifer</h1>"
   ]
  },
  {
   "cell_type": "code",
   "execution_count": 143,
   "metadata": {
    "id": "dGlW4hOyIP4x"
   },
   "outputs": [],
   "source": [
    "from sklearn.ensemble import VotingClassifier"
   ]
  },
  {
   "cell_type": "code",
   "execution_count": 144,
   "metadata": {
    "colab": {
     "base_uri": "https://localhost:8080/"
    },
    "id": "96zsUJppIP4x",
    "outputId": "ed633ae1-488c-4c40-adcd-a89d8c0e8eb0"
   },
   "outputs": [
    {
     "name": "stdout",
     "output_type": "stream",
     "text": [
      "[LibSVM]"
     ]
    },
    {
     "data": {
      "text/plain": [
       "VotingClassifier(estimators=[('lr',\n",
       "                              LogisticRegression(C=1.0, class_weight=None,\n",
       "                                                 dual=False, fit_intercept=True,\n",
       "                                                 intercept_scaling=1,\n",
       "                                                 l1_ratio=None, max_iter=100,\n",
       "                                                 multi_class='auto',\n",
       "                                                 n_jobs=None, penalty='l2',\n",
       "                                                 random_state=0, solver='lbfgs',\n",
       "                                                 tol=0.0001, verbose=0,\n",
       "                                                 warm_start=False)),\n",
       "                             ('svc',\n",
       "                              SVC(C=1.0, break_ties=False, cache_size=200,\n",
       "                                  class_weight=None, coef0=0.0,\n",
       "                                  deci...\n",
       "                                            colsample_bynode=1,\n",
       "                                            colsample_bytree=1, gamma=0,\n",
       "                                            learning_rate=0.1, max_delta_step=0,\n",
       "                                            max_depth=3, min_child_weight=1,\n",
       "                                            missing=None, n_estimators=100,\n",
       "                                            n_jobs=1, nthread=None,\n",
       "                                            objective='binary:logistic',\n",
       "                                            random_state=0, reg_alpha=0,\n",
       "                                            reg_lambda=1, scale_pos_weight=1,\n",
       "                                            seed=None, silent=None, subsample=1,\n",
       "                                            verbosity=1))],\n",
       "                 flatten_transform=True, n_jobs=None, voting='hard',\n",
       "                 weights=None)"
      ]
     },
     "execution_count": 144,
     "metadata": {
      "tags": []
     },
     "output_type": "execute_result"
    }
   ],
   "source": [
    "# Using Data Subset of 10,000 as SVM is non-linear in processing times.\n",
    "# Trying Hard & Soft with Probability\n",
    "voting_clf = VotingClassifier(\n",
    "    estimators=[('lr', logreg), ('svc', classifier_svm), ('xgb', classifier_XGB)],\n",
    "    voting='hard')\n",
    "\n",
    "voting_clf.fit(svc_X_train, svc_y_train)"
   ]
  },
  {
   "cell_type": "code",
   "execution_count": 145,
   "metadata": {
    "colab": {
     "base_uri": "https://localhost:8080/"
    },
    "id": "Glz9YidHIP4x",
    "outputId": "be5941ed-4bd3-46d9-ca52-e91fc64bb1f5"
   },
   "outputs": [
    {
     "data": {
      "text/plain": [
       "LogisticRegression(C=1.0, class_weight=None, dual=False, fit_intercept=True,\n",
       "                   intercept_scaling=1, l1_ratio=None, max_iter=100,\n",
       "                   multi_class='auto', n_jobs=None, penalty='l2',\n",
       "                   random_state=0, solver='lbfgs', tol=0.0001, verbose=0,\n",
       "                   warm_start=False)"
      ]
     },
     "execution_count": 145,
     "metadata": {
      "tags": []
     },
     "output_type": "execute_result"
    },
    {
     "name": "stdout",
     "output_type": "stream",
     "text": [
      "LogisticRegression 0.8375\n",
      "[LibSVM]"
     ]
    },
    {
     "data": {
      "text/plain": [
       "SVC(C=1.0, break_ties=False, cache_size=200, class_weight=None, coef0=0.0,\n",
       "    decision_function_shape='ovr', degree=3, gamma='scale', kernel='rbf',\n",
       "    max_iter=-1, probability=False, random_state=0, shrinking=True, tol=0.001,\n",
       "    verbose=1)"
      ]
     },
     "execution_count": 145,
     "metadata": {
      "tags": []
     },
     "output_type": "execute_result"
    },
    {
     "name": "stdout",
     "output_type": "stream",
     "text": [
      "SVC 0.8435\n"
     ]
    },
    {
     "data": {
      "text/plain": [
       "XGBClassifier(base_score=0.5, booster='gbtree', colsample_bylevel=1,\n",
       "              colsample_bynode=1, colsample_bytree=1, gamma=0,\n",
       "              learning_rate=0.1, max_delta_step=0, max_depth=3,\n",
       "              min_child_weight=1, missing=None, n_estimators=100, n_jobs=1,\n",
       "              nthread=None, objective='binary:logistic', random_state=0,\n",
       "              reg_alpha=0, reg_lambda=1, scale_pos_weight=1, seed=None,\n",
       "              silent=None, subsample=1, verbosity=1)"
      ]
     },
     "execution_count": 145,
     "metadata": {
      "tags": []
     },
     "output_type": "execute_result"
    },
    {
     "name": "stdout",
     "output_type": "stream",
     "text": [
      "XGBClassifier 0.9275\n",
      "[LibSVM]"
     ]
    },
    {
     "data": {
      "text/plain": [
       "VotingClassifier(estimators=[('lr',\n",
       "                              LogisticRegression(C=1.0, class_weight=None,\n",
       "                                                 dual=False, fit_intercept=True,\n",
       "                                                 intercept_scaling=1,\n",
       "                                                 l1_ratio=None, max_iter=100,\n",
       "                                                 multi_class='auto',\n",
       "                                                 n_jobs=None, penalty='l2',\n",
       "                                                 random_state=0, solver='lbfgs',\n",
       "                                                 tol=0.0001, verbose=0,\n",
       "                                                 warm_start=False)),\n",
       "                             ('svc',\n",
       "                              SVC(C=1.0, break_ties=False, cache_size=200,\n",
       "                                  class_weight=None, coef0=0.0,\n",
       "                                  deci...\n",
       "                                            colsample_bynode=1,\n",
       "                                            colsample_bytree=1, gamma=0,\n",
       "                                            learning_rate=0.1, max_delta_step=0,\n",
       "                                            max_depth=3, min_child_weight=1,\n",
       "                                            missing=None, n_estimators=100,\n",
       "                                            n_jobs=1, nthread=None,\n",
       "                                            objective='binary:logistic',\n",
       "                                            random_state=0, reg_alpha=0,\n",
       "                                            reg_lambda=1, scale_pos_weight=1,\n",
       "                                            seed=None, silent=None, subsample=1,\n",
       "                                            verbosity=1))],\n",
       "                 flatten_transform=True, n_jobs=None, voting='hard',\n",
       "                 weights=None)"
      ]
     },
     "execution_count": 145,
     "metadata": {
      "tags": []
     },
     "output_type": "execute_result"
    },
    {
     "name": "stdout",
     "output_type": "stream",
     "text": [
      "VotingClassifier 0.8595\n"
     ]
    }
   ],
   "source": [
    "from sklearn.metrics import accuracy_score\n",
    "\n",
    "for clf in (logreg, classifier_svm, classifier_XGB, voting_clf):\n",
    "    clf.fit(svc_X_train, svc_y_train)\n",
    "    y_pred = clf.predict(svc_X_test)\n",
    "    print(clf.__class__.__name__, accuracy_score(svc_y_test, y_pred))"
   ]
  },
  {
   "cell_type": "code",
   "execution_count": 146,
   "metadata": {
    "colab": {
     "base_uri": "https://localhost:8080/"
    },
    "id": "rb9tIhAyIP4x",
    "outputId": "8644781a-ecc8-401e-b27c-5b53203526a9"
   },
   "outputs": [
    {
     "data": {
      "text/plain": [
       "SVC(C=1.0, break_ties=False, cache_size=200, class_weight=None, coef0=0.0,\n",
       "    decision_function_shape='ovr', degree=3, gamma='auto', kernel='rbf',\n",
       "    max_iter=-1, probability=True, random_state=0, shrinking=True, tol=0.001,\n",
       "    verbose=False)"
      ]
     },
     "execution_count": 146,
     "metadata": {
      "tags": []
     },
     "output_type": "execute_result"
    },
    {
     "name": "stdout",
     "output_type": "stream",
     "text": [
      "SVC 0.8435\n"
     ]
    }
   ],
   "source": [
    "svm_clf = SVC(gamma=\"auto\", probability=True, random_state=0)\n",
    "svm_clf.fit(svc_X_train, svc_y_train)\n",
    "y_pred = svm_clf.predict(svc_X_test)\n",
    "print(svm_clf.__class__.__name__, accuracy_score(svc_y_test, y_pred))"
   ]
  },
  {
   "cell_type": "code",
   "execution_count": 147,
   "metadata": {
    "colab": {
     "base_uri": "https://localhost:8080/"
    },
    "id": "uTbRFC8_IP4x",
    "outputId": "ed010712-1f4b-4ed6-aa17-c09076881e49"
   },
   "outputs": [
    {
     "data": {
      "text/plain": [
       "VotingClassifier(estimators=[('lr',\n",
       "                              LogisticRegression(C=1.0, class_weight=None,\n",
       "                                                 dual=False, fit_intercept=True,\n",
       "                                                 intercept_scaling=1,\n",
       "                                                 l1_ratio=None, max_iter=100,\n",
       "                                                 multi_class='auto',\n",
       "                                                 n_jobs=None, penalty='l2',\n",
       "                                                 random_state=0, solver='lbfgs',\n",
       "                                                 tol=0.0001, verbose=0,\n",
       "                                                 warm_start=False)),\n",
       "                             ('svc',\n",
       "                              SVC(C=1.0, break_ties=False, cache_size=200,\n",
       "                                  class_weight=None, coef0=0.0,\n",
       "                                  deci...\n",
       "                                            colsample_bynode=1,\n",
       "                                            colsample_bytree=1, gamma=0,\n",
       "                                            learning_rate=0.1, max_delta_step=0,\n",
       "                                            max_depth=3, min_child_weight=1,\n",
       "                                            missing=None, n_estimators=100,\n",
       "                                            n_jobs=1, nthread=None,\n",
       "                                            objective='binary:logistic',\n",
       "                                            random_state=0, reg_alpha=0,\n",
       "                                            reg_lambda=1, scale_pos_weight=1,\n",
       "                                            seed=None, silent=None, subsample=1,\n",
       "                                            verbosity=1))],\n",
       "                 flatten_transform=True, n_jobs=None, voting='soft',\n",
       "                 weights=None)"
      ]
     },
     "execution_count": 147,
     "metadata": {
      "tags": []
     },
     "output_type": "execute_result"
    },
    {
     "data": {
      "text/plain": [
       "LogisticRegression(C=1.0, class_weight=None, dual=False, fit_intercept=True,\n",
       "                   intercept_scaling=1, l1_ratio=None, max_iter=100,\n",
       "                   multi_class='auto', n_jobs=None, penalty='l2',\n",
       "                   random_state=0, solver='lbfgs', tol=0.0001, verbose=0,\n",
       "                   warm_start=False)"
      ]
     },
     "execution_count": 147,
     "metadata": {
      "tags": []
     },
     "output_type": "execute_result"
    },
    {
     "name": "stdout",
     "output_type": "stream",
     "text": [
      "LogisticRegression 0.8375\n"
     ]
    },
    {
     "data": {
      "text/plain": [
       "SVC(C=1.0, break_ties=False, cache_size=200, class_weight=None, coef0=0.0,\n",
       "    decision_function_shape='ovr', degree=3, gamma='auto', kernel='rbf',\n",
       "    max_iter=-1, probability=True, random_state=0, shrinking=True, tol=0.001,\n",
       "    verbose=False)"
      ]
     },
     "execution_count": 147,
     "metadata": {
      "tags": []
     },
     "output_type": "execute_result"
    },
    {
     "name": "stdout",
     "output_type": "stream",
     "text": [
      "SVC 0.8435\n"
     ]
    },
    {
     "data": {
      "text/plain": [
       "XGBClassifier(base_score=0.5, booster='gbtree', colsample_bylevel=1,\n",
       "              colsample_bynode=1, colsample_bytree=1, gamma=0,\n",
       "              learning_rate=0.1, max_delta_step=0, max_depth=3,\n",
       "              min_child_weight=1, missing=None, n_estimators=100, n_jobs=1,\n",
       "              nthread=None, objective='binary:logistic', random_state=0,\n",
       "              reg_alpha=0, reg_lambda=1, scale_pos_weight=1, seed=None,\n",
       "              silent=None, subsample=1, verbosity=1)"
      ]
     },
     "execution_count": 147,
     "metadata": {
      "tags": []
     },
     "output_type": "execute_result"
    },
    {
     "name": "stdout",
     "output_type": "stream",
     "text": [
      "XGBClassifier 0.9275\n"
     ]
    },
    {
     "data": {
      "text/plain": [
       "VotingClassifier(estimators=[('lr',\n",
       "                              LogisticRegression(C=1.0, class_weight=None,\n",
       "                                                 dual=False, fit_intercept=True,\n",
       "                                                 intercept_scaling=1,\n",
       "                                                 l1_ratio=None, max_iter=100,\n",
       "                                                 multi_class='auto',\n",
       "                                                 n_jobs=None, penalty='l2',\n",
       "                                                 random_state=0, solver='lbfgs',\n",
       "                                                 tol=0.0001, verbose=0,\n",
       "                                                 warm_start=False)),\n",
       "                             ('svc',\n",
       "                              SVC(C=1.0, break_ties=False, cache_size=200,\n",
       "                                  class_weight=None, coef0=0.0,\n",
       "                                  deci...\n",
       "                                            colsample_bynode=1,\n",
       "                                            colsample_bytree=1, gamma=0,\n",
       "                                            learning_rate=0.1, max_delta_step=0,\n",
       "                                            max_depth=3, min_child_weight=1,\n",
       "                                            missing=None, n_estimators=100,\n",
       "                                            n_jobs=1, nthread=None,\n",
       "                                            objective='binary:logistic',\n",
       "                                            random_state=0, reg_alpha=0,\n",
       "                                            reg_lambda=1, scale_pos_weight=1,\n",
       "                                            seed=None, silent=None, subsample=1,\n",
       "                                            verbosity=1))],\n",
       "                 flatten_transform=True, n_jobs=None, voting='soft',\n",
       "                 weights=None)"
      ]
     },
     "execution_count": 147,
     "metadata": {
      "tags": []
     },
     "output_type": "execute_result"
    },
    {
     "name": "stdout",
     "output_type": "stream",
     "text": [
      "VotingClassifier 0.8815\n"
     ]
    }
   ],
   "source": [
    "voting_clf = VotingClassifier(\n",
    "    estimators=[('lr', logreg), ('svc', svm_clf), ('xgb', classifier_XGB)],\n",
    "    voting='soft')\n",
    "voting_clf.fit(svc_X_train, svc_y_train)\n",
    "\n",
    "\n",
    "for clf in (logreg, svm_clf, classifier_XGB, voting_clf):\n",
    "    clf.fit(svc_X_train, svc_y_train)\n",
    "    y_pred = clf.predict(svc_X_test)\n",
    "    print(clf.__class__.__name__, accuracy_score(svc_y_test, y_pred))"
   ]
  }
 ],
 "metadata": {
  "accelerator": "TPU",
  "colab": {
   "collapsed_sections": [],
   "machine_shape": "hm",
   "name": "FinalCode_Nov 28.ipynb",
   "provenance": []
  },
  "kernelspec": {
   "display_name": "Python 3",
   "language": "python",
   "name": "python3"
  },
  "language_info": {
   "codemirror_mode": {
    "name": "ipython",
    "version": 3
   },
   "file_extension": ".py",
   "mimetype": "text/x-python",
   "name": "python",
   "nbconvert_exporter": "python",
   "pygments_lexer": "ipython3",
   "version": "3.7.6"
  }
 },
 "nbformat": 4,
 "nbformat_minor": 1
}
